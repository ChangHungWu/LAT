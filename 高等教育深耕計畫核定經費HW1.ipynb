{
 "cells": [
  {
   "cell_type": "markdown",
   "id": "b0aa71c9",
   "metadata": {},
   "source": [
    "# 把第一個CSV讀入"
   ]
  },
  {
   "cell_type": "code",
   "execution_count": 52,
   "id": "7e22db89",
   "metadata": {
    "scrolled": true
   },
   "outputs": [],
   "source": [
    "import pandas as pd\n",
    "\n",
    "df110 = pd.read_csv('高等教育深耕計畫核定經費110年 .csv')"
   ]
  },
  {
   "cell_type": "markdown",
   "id": "e67fee09",
   "metadata": {},
   "source": [
    "# 區分110年一般大學和技術學院的總經費"
   ]
  },
  {
   "cell_type": "code",
   "execution_count": 4,
   "id": "caf47b76",
   "metadata": {},
   "outputs": [],
   "source": [
    "new = temp.groupby(['類別'])['核定經費(單位：元)'].sum().reset_index()"
   ]
  },
  {
   "cell_type": "code",
   "execution_count": 5,
   "id": "61ce7e06",
   "metadata": {},
   "outputs": [
    {
     "data": {
      "text/html": [
       "<div>\n",
       "<style scoped>\n",
       "    .dataframe tbody tr th:only-of-type {\n",
       "        vertical-align: middle;\n",
       "    }\n",
       "\n",
       "    .dataframe tbody tr th {\n",
       "        vertical-align: top;\n",
       "    }\n",
       "\n",
       "    .dataframe thead th {\n",
       "        text-align: right;\n",
       "    }\n",
       "</style>\n",
       "<table border=\"1\" class=\"dataframe\">\n",
       "  <thead>\n",
       "    <tr style=\"text-align: right;\">\n",
       "      <th></th>\n",
       "      <th>類別</th>\n",
       "      <th>核定經費(單位：元)</th>\n",
       "      <th>year</th>\n",
       "    </tr>\n",
       "  </thead>\n",
       "  <tbody>\n",
       "    <tr>\n",
       "      <th>0</th>\n",
       "      <td>一般大學</td>\n",
       "      <td>12207729347</td>\n",
       "      <td>110</td>\n",
       "    </tr>\n",
       "    <tr>\n",
       "      <th>1</th>\n",
       "      <td>技專校院</td>\n",
       "      <td>5063037696</td>\n",
       "      <td>110</td>\n",
       "    </tr>\n",
       "  </tbody>\n",
       "</table>\n",
       "</div>"
      ],
      "text/plain": [
       "     類別   核定經費(單位：元)  year\n",
       "0  一般大學  12207729347   110\n",
       "1  技專校院   5063037696   110"
      ]
     },
     "execution_count": 5,
     "metadata": {},
     "output_type": "execute_result"
    }
   ],
   "source": [
    "new['year'] = 110\n",
    "new"
   ]
  },
  {
   "cell_type": "markdown",
   "id": "69416cf3",
   "metadata": {},
   "source": [
    "# 讀取107~109核定經費資料"
   ]
  },
  {
   "cell_type": "code",
   "execution_count": 6,
   "id": "f028a5fd",
   "metadata": {},
   "outputs": [],
   "source": [
    "df107 = pd.read_csv('高等教育深耕計畫核定經費107年.csv')\n",
    "df108 = pd.read_csv('高等教育深耕計畫核定經費108年.csv')\n",
    "df109 = pd.read_csv('高等教育深耕計畫核定經費109年.csv')"
   ]
  },
  {
   "cell_type": "markdown",
   "id": "fdc8ddc0",
   "metadata": {},
   "source": [
    "# 區分107~109年一般大學和技術學院的總經費"
   ]
  },
  {
   "cell_type": "code",
   "execution_count": 7,
   "id": "0fc7d1ba",
   "metadata": {},
   "outputs": [
    {
     "data": {
      "text/html": [
       "<div>\n",
       "<style scoped>\n",
       "    .dataframe tbody tr th:only-of-type {\n",
       "        vertical-align: middle;\n",
       "    }\n",
       "\n",
       "    .dataframe tbody tr th {\n",
       "        vertical-align: top;\n",
       "    }\n",
       "\n",
       "    .dataframe thead th {\n",
       "        text-align: right;\n",
       "    }\n",
       "</style>\n",
       "<table border=\"1\" class=\"dataframe\">\n",
       "  <thead>\n",
       "    <tr style=\"text-align: right;\">\n",
       "      <th></th>\n",
       "      <th>類別</th>\n",
       "      <th>核定經費(單位：元)</th>\n",
       "      <th>year</th>\n",
       "    </tr>\n",
       "  </thead>\n",
       "  <tbody>\n",
       "    <tr>\n",
       "      <th>0</th>\n",
       "      <td>一般大學</td>\n",
       "      <td>10689720000</td>\n",
       "      <td>107</td>\n",
       "    </tr>\n",
       "    <tr>\n",
       "      <th>1</th>\n",
       "      <td>技專校院</td>\n",
       "      <td>4649944895</td>\n",
       "      <td>107</td>\n",
       "    </tr>\n",
       "  </tbody>\n",
       "</table>\n",
       "</div>"
      ],
      "text/plain": [
       "     類別   核定經費(單位：元)  year\n",
       "0  一般大學  10689720000   107\n",
       "1  技專校院   4649944895   107"
      ]
     },
     "execution_count": 7,
     "metadata": {},
     "output_type": "execute_result"
    }
   ],
   "source": [
    "new1 = df107[['類別', '核定經費(單位：元)']].groupby(['類別'])['核定經費(單位：元)'].sum().reset_index()\n",
    "new1['year'] = 107\n",
    "new1"
   ]
  },
  {
   "cell_type": "code",
   "execution_count": 8,
   "id": "e4bcfbc2",
   "metadata": {},
   "outputs": [
    {
     "data": {
      "text/html": [
       "<div>\n",
       "<style scoped>\n",
       "    .dataframe tbody tr th:only-of-type {\n",
       "        vertical-align: middle;\n",
       "    }\n",
       "\n",
       "    .dataframe tbody tr th {\n",
       "        vertical-align: top;\n",
       "    }\n",
       "\n",
       "    .dataframe thead th {\n",
       "        text-align: right;\n",
       "    }\n",
       "</style>\n",
       "<table border=\"1\" class=\"dataframe\">\n",
       "  <thead>\n",
       "    <tr style=\"text-align: right;\">\n",
       "      <th></th>\n",
       "      <th>類別</th>\n",
       "      <th>核定經費(單位：元)</th>\n",
       "      <th>year</th>\n",
       "    </tr>\n",
       "  </thead>\n",
       "  <tbody>\n",
       "    <tr>\n",
       "      <th>0</th>\n",
       "      <td>一般大學</td>\n",
       "      <td>11782638025</td>\n",
       "      <td>108</td>\n",
       "    </tr>\n",
       "    <tr>\n",
       "      <th>1</th>\n",
       "      <td>技專校院</td>\n",
       "      <td>4722227968</td>\n",
       "      <td>108</td>\n",
       "    </tr>\n",
       "  </tbody>\n",
       "</table>\n",
       "</div>"
      ],
      "text/plain": [
       "     類別   核定經費(單位：元)  year\n",
       "0  一般大學  11782638025   108\n",
       "1  技專校院   4722227968   108"
      ]
     },
     "execution_count": 8,
     "metadata": {},
     "output_type": "execute_result"
    }
   ],
   "source": [
    "new2 = df108[['類別', '核定經費(單位：元)']].groupby(['類別'])['核定經費(單位：元)'].sum().reset_index()\n",
    "new2['year'] = 108\n",
    "new2"
   ]
  },
  {
   "cell_type": "code",
   "execution_count": 9,
   "id": "9b867fc0",
   "metadata": {},
   "outputs": [
    {
     "data": {
      "text/html": [
       "<div>\n",
       "<style scoped>\n",
       "    .dataframe tbody tr th:only-of-type {\n",
       "        vertical-align: middle;\n",
       "    }\n",
       "\n",
       "    .dataframe tbody tr th {\n",
       "        vertical-align: top;\n",
       "    }\n",
       "\n",
       "    .dataframe thead th {\n",
       "        text-align: right;\n",
       "    }\n",
       "</style>\n",
       "<table border=\"1\" class=\"dataframe\">\n",
       "  <thead>\n",
       "    <tr style=\"text-align: right;\">\n",
       "      <th></th>\n",
       "      <th>類別</th>\n",
       "      <th>核定經費(單位：元)</th>\n",
       "      <th>year</th>\n",
       "    </tr>\n",
       "  </thead>\n",
       "  <tbody>\n",
       "    <tr>\n",
       "      <th>0</th>\n",
       "      <td>一般大學</td>\n",
       "      <td>12323060185</td>\n",
       "      <td>109</td>\n",
       "    </tr>\n",
       "    <tr>\n",
       "      <th>1</th>\n",
       "      <td>技專校院</td>\n",
       "      <td>5105867254</td>\n",
       "      <td>109</td>\n",
       "    </tr>\n",
       "  </tbody>\n",
       "</table>\n",
       "</div>"
      ],
      "text/plain": [
       "     類別   核定經費(單位：元)  year\n",
       "0  一般大學  12323060185   109\n",
       "1  技專校院   5105867254   109"
      ]
     },
     "execution_count": 9,
     "metadata": {},
     "output_type": "execute_result"
    }
   ],
   "source": [
    "new3 = df109[['類別', '核定經費(單位：元)']].groupby(['類別'])['核定經費(單位：元)'].sum().reset_index()\n",
    "new3['year'] = 109\n",
    "new3"
   ]
  },
  {
   "cell_type": "code",
   "execution_count": 50,
   "id": "675836aa",
   "metadata": {},
   "outputs": [
    {
     "data": {
      "text/html": [
       "<div>\n",
       "<style scoped>\n",
       "    .dataframe tbody tr th:only-of-type {\n",
       "        vertical-align: middle;\n",
       "    }\n",
       "\n",
       "    .dataframe tbody tr th {\n",
       "        vertical-align: top;\n",
       "    }\n",
       "\n",
       "    .dataframe thead th {\n",
       "        text-align: right;\n",
       "    }\n",
       "</style>\n",
       "<table border=\"1\" class=\"dataframe\">\n",
       "  <thead>\n",
       "    <tr style=\"text-align: right;\">\n",
       "      <th></th>\n",
       "      <th>類別</th>\n",
       "      <th>核定經費(單位：元)</th>\n",
       "      <th>year</th>\n",
       "    </tr>\n",
       "  </thead>\n",
       "  <tbody>\n",
       "    <tr>\n",
       "      <th>0</th>\n",
       "      <td>一般大學</td>\n",
       "      <td>12207729347</td>\n",
       "      <td>110</td>\n",
       "    </tr>\n",
       "    <tr>\n",
       "      <th>1</th>\n",
       "      <td>技專校院</td>\n",
       "      <td>5063037696</td>\n",
       "      <td>110</td>\n",
       "    </tr>\n",
       "    <tr>\n",
       "      <th>0</th>\n",
       "      <td>一般大學</td>\n",
       "      <td>10689720000</td>\n",
       "      <td>107</td>\n",
       "    </tr>\n",
       "    <tr>\n",
       "      <th>1</th>\n",
       "      <td>技專校院</td>\n",
       "      <td>4649944895</td>\n",
       "      <td>107</td>\n",
       "    </tr>\n",
       "    <tr>\n",
       "      <th>0</th>\n",
       "      <td>一般大學</td>\n",
       "      <td>11782638025</td>\n",
       "      <td>108</td>\n",
       "    </tr>\n",
       "    <tr>\n",
       "      <th>1</th>\n",
       "      <td>技專校院</td>\n",
       "      <td>4722227968</td>\n",
       "      <td>108</td>\n",
       "    </tr>\n",
       "    <tr>\n",
       "      <th>0</th>\n",
       "      <td>一般大學</td>\n",
       "      <td>12323060185</td>\n",
       "      <td>109</td>\n",
       "    </tr>\n",
       "    <tr>\n",
       "      <th>1</th>\n",
       "      <td>技專校院</td>\n",
       "      <td>5105867254</td>\n",
       "      <td>109</td>\n",
       "    </tr>\n",
       "  </tbody>\n",
       "</table>\n",
       "</div>"
      ],
      "text/plain": [
       "     類別   核定經費(單位：元)  year\n",
       "0  一般大學  12207729347   110\n",
       "1  技專校院   5063037696   110\n",
       "0  一般大學  10689720000   107\n",
       "1  技專校院   4649944895   107\n",
       "0  一般大學  11782638025   108\n",
       "1  技專校院   4722227968   108\n",
       "0  一般大學  12323060185   109\n",
       "1  技專校院   5105867254   109"
      ]
     },
     "execution_count": 50,
     "metadata": {},
     "output_type": "execute_result"
    }
   ],
   "source": [
    "frames = [new, new1, new2, new3]\n",
    "\n",
    "result = pd.concat(frames)\n",
    "\n",
    "result"
   ]
  },
  {
   "cell_type": "code",
   "execution_count": 51,
   "id": "ec3a6630",
   "metadata": {},
   "outputs": [],
   "source": [
    "temp110 = df110[['類別', '學校名稱', '核定經費(單位：元)']]\n",
    "temp109 = df109[['類別', '學校名稱', '核定經費(單位：元)']]\n",
    "temp108 = df108[['類別', '學校名稱', '核定經費(單位：元)']]\n",
    "temp107 = df107[['類別', '學校名稱', '核定經費(單位：元)']]"
   ]
  },
  {
   "cell_type": "markdown",
   "id": "a89d09a0",
   "metadata": {},
   "source": [
    "# 將四年的各校經費合成一個表並相加"
   ]
  },
  {
   "cell_type": "code",
   "execution_count": 16,
   "id": "24cbc6b4",
   "metadata": {},
   "outputs": [
    {
     "data": {
      "text/html": [
       "<div>\n",
       "<style scoped>\n",
       "    .dataframe tbody tr th:only-of-type {\n",
       "        vertical-align: middle;\n",
       "    }\n",
       "\n",
       "    .dataframe tbody tr th {\n",
       "        vertical-align: top;\n",
       "    }\n",
       "\n",
       "    .dataframe thead th {\n",
       "        text-align: right;\n",
       "    }\n",
       "</style>\n",
       "<table border=\"1\" class=\"dataframe\">\n",
       "  <thead>\n",
       "    <tr style=\"text-align: right;\">\n",
       "      <th></th>\n",
       "      <th>類別</th>\n",
       "      <th>學校名稱</th>\n",
       "      <th>核定經費(單位：元)</th>\n",
       "    </tr>\n",
       "  </thead>\n",
       "  <tbody>\n",
       "    <tr>\n",
       "      <th>0</th>\n",
       "      <td>一般大學</td>\n",
       "      <td>國立政治大學</td>\n",
       "      <td>321647507</td>\n",
       "    </tr>\n",
       "    <tr>\n",
       "      <th>1</th>\n",
       "      <td>一般大學</td>\n",
       "      <td>國立清華大學</td>\n",
       "      <td>1212025181</td>\n",
       "    </tr>\n",
       "    <tr>\n",
       "      <th>2</th>\n",
       "      <td>一般大學</td>\n",
       "      <td>國立臺灣大學</td>\n",
       "      <td>2326731025</td>\n",
       "    </tr>\n",
       "    <tr>\n",
       "      <th>3</th>\n",
       "      <td>一般大學</td>\n",
       "      <td>國立臺灣師範大學</td>\n",
       "      <td>227345240</td>\n",
       "    </tr>\n",
       "    <tr>\n",
       "      <th>4</th>\n",
       "      <td>一般大學</td>\n",
       "      <td>國立成功大學</td>\n",
       "      <td>1412842075</td>\n",
       "    </tr>\n",
       "    <tr>\n",
       "      <th>...</th>\n",
       "      <td>...</td>\n",
       "      <td>...</td>\n",
       "      <td>...</td>\n",
       "    </tr>\n",
       "    <tr>\n",
       "      <th>153</th>\n",
       "      <td>技專校院</td>\n",
       "      <td>高美醫護管理專科學校</td>\n",
       "      <td>0</td>\n",
       "    </tr>\n",
       "    <tr>\n",
       "      <th>154</th>\n",
       "      <td>技專校院</td>\n",
       "      <td>育英醫護管理專科學校</td>\n",
       "      <td>10690000</td>\n",
       "    </tr>\n",
       "    <tr>\n",
       "      <th>155</th>\n",
       "      <td>技專校院</td>\n",
       "      <td>崇仁醫護管理專科學校</td>\n",
       "      <td>11320000</td>\n",
       "    </tr>\n",
       "    <tr>\n",
       "      <th>156</th>\n",
       "      <td>技專校院</td>\n",
       "      <td>聖母醫護管理專科學校</td>\n",
       "      <td>8197342</td>\n",
       "    </tr>\n",
       "    <tr>\n",
       "      <th>157</th>\n",
       "      <td>技專校院</td>\n",
       "      <td>新生醫護管理專科學校</td>\n",
       "      <td>20088500</td>\n",
       "    </tr>\n",
       "  </tbody>\n",
       "</table>\n",
       "<p>615 rows × 3 columns</p>\n",
       "</div>"
      ],
      "text/plain": [
       "       類別        學校名稱  核定經費(單位：元)\n",
       "0    一般大學      國立政治大學   321647507\n",
       "1    一般大學      國立清華大學  1212025181\n",
       "2    一般大學      國立臺灣大學  2326731025\n",
       "3    一般大學    國立臺灣師範大學   227345240\n",
       "4    一般大學      國立成功大學  1412842075\n",
       "..    ...         ...         ...\n",
       "153  技專校院  高美醫護管理專科學校           0\n",
       "154  技專校院  育英醫護管理專科學校    10690000\n",
       "155  技專校院  崇仁醫護管理專科學校    11320000\n",
       "156  技專校院  聖母醫護管理專科學校     8197342\n",
       "157  技專校院  新生醫護管理專科學校    20088500\n",
       "\n",
       "[615 rows x 3 columns]"
      ]
     },
     "execution_count": 16,
     "metadata": {},
     "output_type": "execute_result"
    }
   ],
   "source": [
    "school = [temp110, temp109, temp108, temp107]\n",
    "\n",
    "result1 = pd.concat(school)\n",
    "\n",
    "result1"
   ]
  },
  {
   "cell_type": "code",
   "execution_count": 37,
   "id": "d5630510",
   "metadata": {},
   "outputs": [
    {
     "data": {
      "text/html": [
       "<div>\n",
       "<style scoped>\n",
       "    .dataframe tbody tr th:only-of-type {\n",
       "        vertical-align: middle;\n",
       "    }\n",
       "\n",
       "    .dataframe tbody tr th {\n",
       "        vertical-align: top;\n",
       "    }\n",
       "\n",
       "    .dataframe thead th {\n",
       "        text-align: right;\n",
       "    }\n",
       "</style>\n",
       "<table border=\"1\" class=\"dataframe\">\n",
       "  <thead>\n",
       "    <tr style=\"text-align: right;\">\n",
       "      <th></th>\n",
       "      <th>類別</th>\n",
       "      <th>學校名稱</th>\n",
       "      <th>核定經費(單位：元)</th>\n",
       "    </tr>\n",
       "  </thead>\n",
       "  <tbody>\n",
       "    <tr>\n",
       "      <th>0</th>\n",
       "      <td>一般大學</td>\n",
       "      <td>一貫道天皇學院</td>\n",
       "      <td>14391000</td>\n",
       "    </tr>\n",
       "    <tr>\n",
       "      <th>1</th>\n",
       "      <td>一般大學</td>\n",
       "      <td>世新大學</td>\n",
       "      <td>244019801</td>\n",
       "    </tr>\n",
       "    <tr>\n",
       "      <th>2</th>\n",
       "      <td>一般大學</td>\n",
       "      <td>中信金融管理學院</td>\n",
       "      <td>62233063</td>\n",
       "    </tr>\n",
       "    <tr>\n",
       "      <th>3</th>\n",
       "      <td>一般大學</td>\n",
       "      <td>中原大學</td>\n",
       "      <td>566128253</td>\n",
       "    </tr>\n",
       "    <tr>\n",
       "      <th>4</th>\n",
       "      <td>一般大學</td>\n",
       "      <td>中國文化大學</td>\n",
       "      <td>278397368</td>\n",
       "    </tr>\n",
       "    <tr>\n",
       "      <th>...</th>\n",
       "      <td>...</td>\n",
       "      <td>...</td>\n",
       "      <td>...</td>\n",
       "    </tr>\n",
       "    <tr>\n",
       "      <th>155</th>\n",
       "      <td>技專校院</td>\n",
       "      <td>馬偕醫護管理專科學校</td>\n",
       "      <td>79890000</td>\n",
       "    </tr>\n",
       "    <tr>\n",
       "      <th>156</th>\n",
       "      <td>技專校院</td>\n",
       "      <td>高美醫護管理專科學校</td>\n",
       "      <td>0</td>\n",
       "    </tr>\n",
       "    <tr>\n",
       "      <th>157</th>\n",
       "      <td>技專校院</td>\n",
       "      <td>高苑科技大學</td>\n",
       "      <td>94326823</td>\n",
       "    </tr>\n",
       "    <tr>\n",
       "      <th>158</th>\n",
       "      <td>技專校院</td>\n",
       "      <td>黎明技術學院</td>\n",
       "      <td>68546073</td>\n",
       "    </tr>\n",
       "    <tr>\n",
       "      <th>159</th>\n",
       "      <td>技專校院</td>\n",
       "      <td>龍華科技大學</td>\n",
       "      <td>467826224</td>\n",
       "    </tr>\n",
       "  </tbody>\n",
       "</table>\n",
       "<p>160 rows × 3 columns</p>\n",
       "</div>"
      ],
      "text/plain": [
       "       類別        學校名稱  核定經費(單位：元)\n",
       "0    一般大學     一貫道天皇學院    14391000\n",
       "1    一般大學        世新大學   244019801\n",
       "2    一般大學    中信金融管理學院    62233063\n",
       "3    一般大學        中原大學   566128253\n",
       "4    一般大學      中國文化大學   278397368\n",
       "..    ...         ...         ...\n",
       "155  技專校院  馬偕醫護管理專科學校    79890000\n",
       "156  技專校院  高美醫護管理專科學校           0\n",
       "157  技專校院      高苑科技大學    94326823\n",
       "158  技專校院      黎明技術學院    68546073\n",
       "159  技專校院      龍華科技大學   467826224\n",
       "\n",
       "[160 rows x 3 columns]"
      ]
     },
     "execution_count": 37,
     "metadata": {},
     "output_type": "execute_result"
    }
   ],
   "source": [
    "school = result1[['類別', '學校名稱', '核定經費(單位：元)']].groupby(['類別', '學校名稱'])['核定經費(單位：元)'].sum().reset_index()\n",
    "school"
   ]
  },
  {
   "cell_type": "code",
   "execution_count": 28,
   "id": "6842be4f",
   "metadata": {},
   "outputs": [
    {
     "data": {
      "text/html": [
       "<div>\n",
       "<style scoped>\n",
       "    .dataframe tbody tr th:only-of-type {\n",
       "        vertical-align: middle;\n",
       "    }\n",
       "\n",
       "    .dataframe tbody tr th {\n",
       "        vertical-align: top;\n",
       "    }\n",
       "\n",
       "    .dataframe thead th {\n",
       "        text-align: right;\n",
       "    }\n",
       "</style>\n",
       "<table border=\"1\" class=\"dataframe\">\n",
       "  <thead>\n",
       "    <tr style=\"text-align: right;\">\n",
       "      <th></th>\n",
       "      <th>類別</th>\n",
       "      <th>核定經費(單位：元)</th>\n",
       "    </tr>\n",
       "  </thead>\n",
       "  <tbody>\n",
       "    <tr>\n",
       "      <th>0</th>\n",
       "      <td>一般大學</td>\n",
       "      <td>47003147557</td>\n",
       "    </tr>\n",
       "    <tr>\n",
       "      <th>1</th>\n",
       "      <td>技專校院</td>\n",
       "      <td>19541077813</td>\n",
       "    </tr>\n",
       "  </tbody>\n",
       "</table>\n",
       "</div>"
      ],
      "text/plain": [
       "     類別   核定經費(單位：元)\n",
       "0  一般大學  47003147557\n",
       "1  技專校院  19541077813"
      ]
     },
     "execution_count": 28,
     "metadata": {},
     "output_type": "execute_result"
    }
   ],
   "source": [
    "kind = result1[['類別', '學校名稱', '核定經費(單位：元)']].groupby(['類別'])['核定經費(單位：元)'].sum().reset_index()\n",
    "kind"
   ]
  },
  {
   "cell_type": "markdown",
   "id": "4d3d4d1e",
   "metadata": {},
   "source": [
    "# HW1"
   ]
  },
  {
   "cell_type": "markdown",
   "id": "1131c382",
   "metadata": {},
   "source": [
    "# 107~110個年平均核定經費"
   ]
  },
  {
   "cell_type": "code",
   "execution_count": 80,
   "id": "90f1121a",
   "metadata": {},
   "outputs": [
    {
     "name": "stdout",
     "output_type": "stream",
     "text": [
      "107平均核定經費285,790,000.0元\n"
     ]
    }
   ],
   "source": [
    "money_107 = df107['核定經費(單位：元)']\n",
    "avg_money_107 = money_107[0].mean()\n",
    "print(f\"107平均核定經費{avg_money_107:,}元\")"
   ]
  },
  {
   "cell_type": "code",
   "execution_count": 81,
   "id": "8f3ecef8",
   "metadata": {},
   "outputs": [
    {
     "name": "stdout",
     "output_type": "stream",
     "text": [
      "108平均核定經費337,004,700.0元\n"
     ]
    }
   ],
   "source": [
    "money_108 = df108['核定經費(單位：元)']\n",
    "avg_money_108 = money_108[0].mean()\n",
    "print(f\"108平均核定經費{avg_money_108:,}元\")"
   ]
  },
  {
   "cell_type": "code",
   "execution_count": 82,
   "id": "ba9de07c",
   "metadata": {},
   "outputs": [
    {
     "name": "stdout",
     "output_type": "stream",
     "text": [
      "109平均核定經費329,930,867.0元\n"
     ]
    }
   ],
   "source": [
    "money_109 = df109['核定經費(單位：元)']\n",
    "avg_money_109 = money_109[0].mean()\n",
    "print(f\"109平均核定經費{avg_money_109:,}元\")"
   ]
  },
  {
   "cell_type": "code",
   "execution_count": 83,
   "id": "d66e7692",
   "metadata": {},
   "outputs": [
    {
     "name": "stdout",
     "output_type": "stream",
     "text": [
      "110平均核定經費321,647,507.0元\n"
     ]
    }
   ],
   "source": [
    "money_110 = df110['核定經費(單位：元)']\n",
    "avg_money_110 = money_110[0].mean()\n",
    "print(f\"110平均核定經費{avg_money_110:,}元\")"
   ]
  },
  {
   "cell_type": "markdown",
   "id": "4e77c23a",
   "metadata": {},
   "source": [
    "# 四年的平均經費"
   ]
  },
  {
   "cell_type": "code",
   "execution_count": 84,
   "id": "baac604f",
   "metadata": {},
   "outputs": [
    {
     "name": "stdout",
     "output_type": "stream",
     "text": [
      "四年平均核定經費318,593,268.5元\n"
     ]
    }
   ],
   "source": [
    "avg_money = (avg_money_110 + avg_money_109 + avg_money_108 + avg_money_107) / 4\n",
    "print(f\"四年平均核定經費{avg_money:,}元\")"
   ]
  },
  {
   "cell_type": "markdown",
   "id": "de35bef2",
   "metadata": {},
   "source": [
    "# 四年來核定最多經費的學校"
   ]
  },
  {
   "cell_type": "code",
   "execution_count": 86,
   "id": "d1366f79",
   "metadata": {},
   "outputs": [
    {
     "name": "stdout",
     "output_type": "stream",
     "text": [
      "核定最多經費的學校是國立臺灣大學。\n",
      "核定的總經費為8,753,601,336元\n"
     ]
    }
   ],
   "source": [
    "max_label = school['核定經費(單位：元)'].idxmax()\n",
    "\n",
    "most_funded_school = school.loc[max_label, '學校名稱']\n",
    "most_funded = school.loc[max_label, '核定經費(單位：元)']\n",
    "\n",
    "print(f\"核定最多經費的學校是{most_funded_school}。\")\n",
    "print(f\"核定的總經費為{most_funded:,}元\")"
   ]
  },
  {
   "cell_type": "markdown",
   "id": "2597a7ca",
   "metadata": {},
   "source": [
    "# 一般大學核定經費佔全部的百分比"
   ]
  },
  {
   "cell_type": "code",
   "execution_count": 87,
   "id": "ce7c58cf",
   "metadata": {},
   "outputs": [
    {
     "name": "stdout",
     "output_type": "stream",
     "text": [
      "一般大學佔全部核定經費的百分比為：70.63%。\n"
     ]
    }
   ],
   "source": [
    "total_funding = kind['核定經費(單位：元)'].sum()\n",
    "\n",
    "\n",
    "general_univ_funding = kind[kind['類別'] == '一般大學']['核定經費(單位：元)'].sum()\n",
    "\n",
    "\n",
    "general_univ_percent = general_univ_funding / total_funding * 100\n",
    "\n",
    "\n",
    "print(f\"一般大學佔全部核定經費的百分比為：{general_univ_percent:.2f}%。\")"
   ]
  },
  {
   "cell_type": "markdown",
   "id": "2b3f23ee",
   "metadata": {},
   "source": [
    "# 技專校院核定經費佔全部的百分比"
   ]
  },
  {
   "cell_type": "code",
   "execution_count": 88,
   "id": "09077490",
   "metadata": {},
   "outputs": [
    {
     "name": "stdout",
     "output_type": "stream",
     "text": [
      "一般大學佔全部核定經費的百分比為：29.37%。\n"
     ]
    }
   ],
   "source": [
    "total_funding = kind['核定經費(單位：元)'].sum()\n",
    "\n",
    "\n",
    "general_univ_funding = kind[kind['類別'] == '技專校院']['核定經費(單位：元)'].sum()\n",
    "\n",
    "\n",
    "general_univ_percent = general_univ_funding / total_funding * 100\n",
    "\n",
    "print(f\"一般大學佔全部核定經費的百分比為：{general_univ_percent:.2f}%。\")"
   ]
  },
  {
   "cell_type": "markdown",
   "id": "10413863",
   "metadata": {},
   "source": [
    "# 一般大學中核定經費超過四年平均的學校"
   ]
  },
  {
   "cell_type": "code",
   "execution_count": 89,
   "id": "14e8deb0",
   "metadata": {
    "scrolled": true
   },
   "outputs": [
    {
     "name": "stdout",
     "output_type": "stream",
     "text": [
      "      類別      學校名稱  核定經費(單位：元)  is_national\n",
      "3   一般大學      中原大學   566128253        False\n",
      "5   一般大學    中國醫藥大學   796775969        False\n",
      "10  一般大學      元智大學   379034709        False\n",
      "13  一般大學    國立中央大學  1680194517         True\n",
      "14  一般大學    國立中山大學  1198557694         True\n",
      "15  一般大學    國立中正大學   639903242         True\n",
      "16  一般大學    國立中興大學  1625272828         True\n",
      "17  一般大學    國立交通大學  4149500328         True\n",
      "22  一般大學    國立成功大學  5275852760         True\n",
      "23  一般大學    國立政治大學  1274373074         True\n",
      "26  一般大學    國立清華大學  4583361981         True\n",
      "29  一般大學    國立臺北大學   331300045         True\n",
      "35  一般大學    國立臺灣大學  8753601336         True\n",
      "36  一般大學  國立臺灣師範大學   890344664         True\n",
      "37  一般大學  國立臺灣海洋大學   558711670         True\n",
      "41  一般大學    國立陽明大學  1369682436         True\n",
      "51  一般大學      東吳大學   368307143        False\n",
      "52  一般大學      東海大學   483051852        False\n",
      "54  一般大學      淡江大學   361051434        False\n",
      "58  一般大學      義守大學   327832651        False\n",
      "60  一般大學    臺北醫學大學  1073771053        False\n",
      "62  一般大學      輔仁大學   353257047        False\n",
      "63  一般大學      逢甲大學   587330551        False\n",
      "65  一般大學      長庚大學   661368507        False\n",
      "68  一般大學      靜宜大學   363580532        False\n",
      "70  一般大學    高雄醫學大學   492047407        False\n"
     ]
    }
   ],
   "source": [
    "result_over = school[(school['類別'] == '一般大學') & (school['核定經費(單位：元)'] > 321647507.0)]\n",
    "\n",
    "print(result_over)"
   ]
  },
  {
   "cell_type": "markdown",
   "id": "f0adc63f",
   "metadata": {},
   "source": [
    "# 判斷是否為國立大學或是私立大學"
   ]
  },
  {
   "cell_type": "code",
   "execution_count": 90,
   "id": "08099173",
   "metadata": {
    "scrolled": true
   },
   "outputs": [
    {
     "name": "stdout",
     "output_type": "stream",
     "text": [
      "       類別        學校名稱  核定經費(單位：元)\n",
      "13   一般大學      國立中央大學  1680194517\n",
      "14   一般大學      國立中山大學  1198557694\n",
      "15   一般大學      國立中正大學   639903242\n",
      "16   一般大學      國立中興大學  1625272828\n",
      "17   一般大學      國立交通大學  4149500328\n",
      "18   一般大學      國立嘉義大學   243223271\n",
      "19   一般大學      國立宜蘭大學   241284960\n",
      "20   一般大學      國立屏東大學   267198963\n",
      "21   一般大學    國立彰化師範大學   267992374\n",
      "22   一般大學      國立成功大學  5275852760\n",
      "23   一般大學      國立政治大學  1274373074\n",
      "24   一般大學    國立暨南國際大學   301829579\n",
      "25   一般大學      國立東華大學   243857359\n",
      "26   一般大學      國立清華大學  4583361981\n",
      "27   一般大學      國立聯合大學   182938483\n",
      "28   一般大學    國立臺中教育大學   205196758\n",
      "29   一般大學      國立臺北大學   331300045\n",
      "30   一般大學    國立臺北教育大學   212759309\n",
      "31   一般大學    國立臺北藝術大學   206694381\n",
      "32   一般大學      國立臺南大學   196572939\n",
      "33   一般大學    國立臺南藝術大學    68497203\n",
      "34   一般大學      國立臺東大學   227078828\n",
      "35   一般大學      國立臺灣大學  8753601336\n",
      "36   一般大學    國立臺灣師範大學   890344664\n",
      "37   一般大學    國立臺灣海洋大學   558711670\n",
      "38   一般大學    國立臺灣藝術大學   182472109\n",
      "39   一般大學  國立臺灣體育運動大學   124841361\n",
      "40   一般大學      國立金門大學   134561052\n",
      "41   一般大學      國立陽明大學  1369682436\n",
      "42   一般大學      國立體育大學   176295050\n",
      "43   一般大學      國立高雄大學   201286703\n",
      "44   一般大學    國立高雄師範大學   170518983\n",
      "92   技專校院    國立勤益科技大學   582375371\n",
      "93   技專校院    國立屏東科技大學   657204305\n",
      "94   技專校院    國立澎湖科技大學   109995988\n",
      "95   技專校院    國立臺中科技大學   122008361\n",
      "96   技專校院    國立臺北商業大學   232477903\n",
      "97   技專校院    國立臺北科技大學  1116716101\n",
      "98   技專校院  國立臺北護理健康大學   304810991\n",
      "99   技專校院  國立臺南護理專科學校    88904294\n",
      "100  技專校院    國立臺東專科學校   145978825\n",
      "101  技專校院    國立臺灣戲曲學院    69541609\n",
      "102  技專校院    國立臺灣科技大學  1275575036\n",
      "103  技專校院    國立虎尾科技大學   947297487\n",
      "104  技專校院    國立雲林科技大學   871855828\n",
      "105  技專校院  國立高雄應用科技大學   143890341\n",
      "106  技專校院  國立高雄海洋科技大學    54220100\n",
      "107  技專校院    國立高雄科技大學  1185199835\n",
      "108  技專校院  國立高雄第一科技大學   201230000\n",
      "109  技專校院    國立高雄餐旅大學   347286446\n"
     ]
    }
   ],
   "source": [
    "school['is_national'] = school['學校名稱'].apply(lambda x: True if '國立' in x else False)\n",
    "\n",
    "national_universities_judge = school[school['is_national'] == True]\n",
    "\n",
    "national_universities = national_universities_judge[['類別', '學校名稱', '核定經費(單位：元)']]\n",
    "\n",
    "print(national_universities)"
   ]
  },
  {
   "cell_type": "code",
   "execution_count": 91,
   "id": "219baffb",
   "metadata": {
    "scrolled": true
   },
   "outputs": [
    {
     "name": "stdout",
     "output_type": "stream",
     "text": [
      "       類別        學校名稱  核定經費(單位：元)\n",
      "0    一般大學     一貫道天皇學院    14391000\n",
      "1    一般大學        世新大學   244019801\n",
      "2    一般大學    中信金融管理學院    62233063\n",
      "3    一般大學        中原大學   566128253\n",
      "4    一般大學      中國文化大學   278397368\n",
      "..    ...         ...         ...\n",
      "155  技專校院  馬偕醫護管理專科學校    79890000\n",
      "156  技專校院  高美醫護管理專科學校           0\n",
      "157  技專校院      高苑科技大學    94326823\n",
      "158  技專校院      黎明技術學院    68546073\n",
      "159  技專校院      龍華科技大學   467826224\n",
      "\n",
      "[110 rows x 3 columns]\n"
     ]
    }
   ],
   "source": [
    "not_national_universities_judge = school[school['is_national'] == False]\n",
    "\n",
    "not_national_universities = not_national_universities_judge[['類別', '學校名稱', '核定經費(單位：元)']]\n",
    "\n",
    "print(not_national_universities)"
   ]
  },
  {
   "cell_type": "markdown",
   "id": "6f4415ef",
   "metadata": {},
   "source": [
    "# 國立私立總核定經費分別為多少又相差多少"
   ]
  },
  {
   "cell_type": "code",
   "execution_count": 104,
   "id": "2cf0c236",
   "metadata": {},
   "outputs": [
    {
     "name": "stdout",
     "output_type": "stream",
     "text": [
      "國立大學總共核定經費為44,642,325,061元\n",
      "私立大學總共核定經費為21,901,900,309元\n",
      "\n",
      "國立大學比私立大學多22,740,424,752元\n"
     ]
    }
   ],
   "source": [
    "total_price_national = national_universities['核定經費(單位：元)'].sum()\n",
    "\n",
    "print(f\"國立大學總共核定經費為{total_price_national:,}元\")\n",
    "\n",
    "total_price_not_national = not_national_universities['核定經費(單位：元)'].sum()\n",
    "\n",
    "print(f\"私立大學總共核定經費為{total_price_not_national:,}元\")\n",
    "print(\"\")\n",
    "print(f\"國立大學比私立大學多{total_price_national - total_price_not_national:,}元\")"
   ]
  },
  {
   "cell_type": "markdown",
   "id": "ac770894",
   "metadata": {},
   "source": [
    "# 國立私立大學各有幾間又相差幾間"
   ]
  },
  {
   "cell_type": "code",
   "execution_count": 105,
   "id": "02ab725e",
   "metadata": {},
   "outputs": [
    {
     "name": "stdout",
     "output_type": "stream",
     "text": [
      "國立大學有50間\n",
      "私立大學有110間\n",
      "\n",
      "國立大學比私立大學少60間\n"
     ]
    }
   ],
   "source": [
    "national_counts = national_universities.shape\n",
    "not_national_counts = not_national_universities.shape\n",
    "\n",
    "print(f\"國立大學有{national_counts[0]}間\")\n",
    "print(f\"私立大學有{not_national_counts[0]}間\")\n",
    "print(\"\")\n",
    "print(f\"國立大學比私立大學少{not_national_counts[0] - national_counts[0]}間\")"
   ]
  },
  {
   "cell_type": "code",
   "execution_count": null,
   "id": "57de3f16",
   "metadata": {},
   "outputs": [],
   "source": []
  }
 ],
 "metadata": {
  "kernelspec": {
   "display_name": "Python 3 (ipykernel)",
   "language": "python",
   "name": "python3"
  },
  "language_info": {
   "codemirror_mode": {
    "name": "ipython",
    "version": 3
   },
   "file_extension": ".py",
   "mimetype": "text/x-python",
   "name": "python",
   "nbconvert_exporter": "python",
   "pygments_lexer": "ipython3",
   "version": "3.9.13"
  }
 },
 "nbformat": 4,
 "nbformat_minor": 5
}
