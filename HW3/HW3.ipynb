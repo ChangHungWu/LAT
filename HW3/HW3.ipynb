{
 "cells": [
  {
   "cell_type": "code",
   "execution_count": 1,
   "id": "57af3cb6",
   "metadata": {},
   "outputs": [],
   "source": [
    "import pandas as pd\n",
    "import openai"
   ]
  },
  {
   "cell_type": "code",
   "execution_count": 2,
   "id": "5597f46c",
   "metadata": {},
   "outputs": [],
   "source": [
    "with open('01.txt', 'r',encoding='utf-8') as fh:\n",
    "    tmp1 = fh.read()\n",
    "    itemlist1 = tmp1.split(',')"
   ]
  },
  {
   "cell_type": "code",
   "execution_count": 3,
   "id": "4e74ded0",
   "metadata": {},
   "outputs": [],
   "source": [
    "with open('02.txt', 'r',encoding='utf-8') as fh:\n",
    "    tmp2 = fh.read()\n",
    "    itemlist2 = tmp2.split(',')"
   ]
  },
  {
   "cell_type": "code",
   "execution_count": 4,
   "id": "802a3f2c",
   "metadata": {},
   "outputs": [],
   "source": [
    "with open('03.txt', 'r',encoding='utf-8') as fh:\n",
    "    tmp3 = fh.read()\n",
    "    itemlist3 = tmp3.split(',')"
   ]
  },
  {
   "cell_type": "code",
   "execution_count": 5,
   "id": "0a27c9e5",
   "metadata": {},
   "outputs": [],
   "source": [
    "with open('04.txt', 'r',encoding='utf-8') as fh:\n",
    "    tmp4 = fh.read()\n",
    "    itemlist4 = tmp4.split(',')"
   ]
  },
  {
   "cell_type": "code",
   "execution_count": 6,
   "id": "6e037c7b",
   "metadata": {},
   "outputs": [],
   "source": [
    "itemlist1 = str(itemlist1)\n",
    "itemlist2 = str(itemlist2)\n",
    "itemlist3 = str(itemlist3)\n",
    "itemlist4 = str(itemlist4)"
   ]
  },
  {
   "cell_type": "code",
   "execution_count": 7,
   "id": "b83a3b44",
   "metadata": {},
   "outputs": [],
   "source": [
    "keyfile = open(\"key1.txt\", 'r',encoding='utf-8')\n",
    "key = keyfile.readline()\n",
    "openai.api_key = key"
   ]
  },
  {
   "cell_type": "code",
   "execution_count": 8,
   "id": "705c29e8",
   "metadata": {},
   "outputs": [],
   "source": [
    "data1 = [itemlist1[0:3200], itemlist1[3201:6400], itemlist1[6401:9600], itemlist1[9601:12800]]\n",
    "data2 = [itemlist2[0:3200], itemlist2[3201:6400], itemlist2[6401:9600], itemlist2[9601:12800]]\n",
    "data3 = [itemlist3[0:3200], itemlist3[3201:6400], itemlist3[6401:9600], itemlist3[9601:12800]]\n",
    "data4 = [itemlist4[0:3200], itemlist4[3201:6400], itemlist4[6401:9600], itemlist4[9601:12800]]"
   ]
  },
  {
   "cell_type": "code",
   "execution_count": 9,
   "id": "aafbaf57",
   "metadata": {},
   "outputs": [],
   "source": [
    "def chatgptfn(sub_list):\n",
    "    result = ''\n",
    "    response = openai.ChatCompletion.create(\n",
    "        model=\"gpt-3.5-turbo\",\n",
    "        messages=[\n",
    "            {\"role\": \"system\", \"content\": \"You are an assistant\"},\n",
    "            {\"role\": \"user\", \"content\": f\"{sub_list} :give me a summary\"}\n",
    "        ]\n",
    "    )\n",
    "    for choice in response.choices:\n",
    "        result += choice.message.content\n",
    "    return result"
   ]
  },
  {
   "cell_type": "code",
   "execution_count": 10,
   "id": "ebe601d0",
   "metadata": {},
   "outputs": [],
   "source": [
    "data1[0] = chatgptfn(data1[0])\n",
    "data1[1] = chatgptfn(data1[1])\n",
    "data1[2] = chatgptfn(data1[2])\n",
    "data1[3] = chatgptfn(data1[3])"
   ]
  },
  {
   "cell_type": "code",
   "execution_count": 11,
   "id": "ac6c7828",
   "metadata": {},
   "outputs": [],
   "source": [
    "data2[0] = chatgptfn(data2[0])\n",
    "data2[1] = chatgptfn(data2[1])\n",
    "data2[2] = chatgptfn(data2[2])\n",
    "data2[3] = chatgptfn(data2[3])"
   ]
  },
  {
   "cell_type": "code",
   "execution_count": 12,
   "id": "49a5be74",
   "metadata": {},
   "outputs": [],
   "source": [
    "data3[0] = chatgptfn(data3[0])\n",
    "data3[1] = chatgptfn(data3[1])\n",
    "data3[2] = chatgptfn(data3[2])\n",
    "data3[3] = chatgptfn(data3[3])"
   ]
  },
  {
   "cell_type": "code",
   "execution_count": 13,
   "id": "6166c891",
   "metadata": {},
   "outputs": [],
   "source": [
    "data4[0] = chatgptfn(data4[0])\n",
    "data4[1] = chatgptfn(data4[1])\n",
    "data4[2] = chatgptfn(data4[2])\n",
    "data4[3] = chatgptfn(data4[3])"
   ]
  },
  {
   "cell_type": "code",
   "execution_count": 14,
   "id": "6fde9966",
   "metadata": {},
   "outputs": [
    {
     "name": "stdout",
     "output_type": "stream",
     "text": [
      "['The article discusses the potential applications of blockchain technology in education, highlighting the benefits, barriers, and current uses of the technology. The authors conducted a bibliometric analysis to gather data on publications, journals, authors, and citations related to blockchain technology in education. The study concludes that while the use of blockchain technology in education is still in its early stages, it has significant potential to benefit the sector. The research provides a foundation for policymakers, education institutions, and researchers to explore potential applications of blockchain technology in education.', \"Blockchain technology is a reliable, decentralized network that eliminates intermediaries, providing security, transparency, and immutability. The progression of blockchain technology can be classified into four generations, and it has been used in various sectors such as finance, government, education, health, tourism, energy, public, banking, and business. By 2025, it is estimated that 10% of the world's GDP will be controlled by blockchain technologies. Scholars are exploring the use of blockchain in different areas of businesses beyond governance and society, including education. The application of blockchain in education is in its early stages, but it has strong cybersecurity capabilities that could revolutionize the sector.\", 'This paper presents a systematic literature review of blockchain technology in the education sector, exploring its benefits, challenges, and potential applications. The study aims to examine and present the current body of research literature quantitatively or qualitatively exploring the use of blockchain technology in educational settings. The study follows the steps involved in conducting a systematic literature review and addresses the research questions through the Preferred Reporting Items for Systematic Reviews and Meta-Analyses (PRISMA) methodology. The findings of the study offer policymakers, higher education institutions, academicians, and researchers a comprehensive understanding of the potential benefits of blockchain technology in the education sector.', 'The authors conducted a systematic literature review on blockchain technology in education. They searched the SCOPUS database using specific keywords and identified 204 relevant documents. They then excluded articles that did not meet their inclusion criteria, resulting in the selection of 36 articles. In the final stage, they performed content analysis of the selected articles and examined their objectives, methodology, and findings. The authors found that blockchain technology is a relatively new subject of research and has been widely applied in various sectors. However, its application in education is still in its early stages, and there is a lack of public awareness about its future potential.', \"The article discusses India's new education policy (NEP) 2020, which aims to restructure the education system to overcome existing challenges such as access, quality, resource allocation, and pedagogy. The assessment focuses on India's provision of student mobility schemes under its internationalization strategy and compares it to policy measures undertaken by Germany, which has established itself as a major academic player worldwide. The significance of NEP 2020 is highlighted, as it introduces the concept of internationalization of higher education and proposes measures such as credit recognition, research collaborations, establishing local campuses of foreign universities, and student mobility opportunities. These changes are essential to facilitate student mobility and recognition of credits and degrees, and to transform India's regulatory structure and develop multidisciplinary education.\", 'The article discusses the implementation of the New Education Policy (NEP) 2020 in India, which focuses on internationalization of education. The article explains the stakeholders involved in implementing the policy and the roles they play. It also provides a case study of the German higher education system and its benefits of international student mobility. The article concludes that continuous efforts are needed to ensure the sustainability of NEP 2020 goals.', 'This article discusses the economic benefits of international students studying in Germany and highlights the importance of collecting and analyzing data on this topic. The article also provides key takeaways for India, such as the significant number of Indian students studying abroad and their spending, as well as the need for India to allocate more funds to its education sector to facilitate internationalization and collect data on the economic contributions of international students.', \"The article discusses the importance of attracting international students to India and the measures needed to achieve this goal, such as reducing information gaps, increasing investments in education, and providing scholarships and stipends. The 2022-23 Union Budget for Department of Higher Education has allocated funds to support internationalization and increase expenditure in higher education. The article emphasizes the importance of creating a suitable academic environment to support the study and research interests of incoming students and academics. Ultimately, the goal is to create a two-way student mobility opportunity and address brain-drain processes to benefit the country's economic functioning.\", \"Artificial intelligence (AI) is a field that focuses on creating machines that can perform tasks that require human-level intelligence, such as visual perception, speech recognition, decision-making, and language translation. It dates back to the 1950s, where researchers began exploring the possibility of creating machines to simulate human intelligence. Early AI systems were based on rule-based systems and were limited by their inflexibility and inability to learn from experience. Later on, in the 1980s, machine learning algorithms were developed to enable AI systems to learn from data and improve performance. AI is used in a wide range of applications like self-driving cars and intelligent personal assistants. However, it raises ethical and societal concerns, such as the potential loss of jobs due to automation, impact on privacy and security, and the risk of bias and discrimination in AI systems. Data science uses math, statistics, programming, advanced analytics, AI, and machine learning to uncover actionable insights hidden in an organization's data. AI and machine learning innovations have made data processing faster and more efficient. Industry demand has created an ecosystem of courses, degrees, and job positions within the field of data science.\", \"Sure, I can give you a summary! However, you'll need to provide me with some context or details so that I know what you want summarized. Can you please tell me what topic or subject you would like summarized?\", 'I am happy to provide a summary, but I will need more information on what specific topic or subject you are looking for a summary on. Please let me know how I can assist you.', \"I'm sorry, could you please provide more information about what you would like a summary of?\", \"The article discusses the importance of utilizing free time during vacations to develop and improve skills. It uses the example of Rubik's Cube to demonstrate the value of critical thinking skills. The author suggests investing free time in developing mind skills, such as writing, which can improve vocabulary, communication, critical thinking, innovation, and concentration skills. The article encourages readers to make the most of their freedom during vacation to engage in activities that can promote personal growth and add value to their lives.\", \"The article discusses three types of skills that can enhance one's professional pursuits: mind skills (such as solving puzzles), voice skills (such as public speaking), and creative skills (such as designing games). Developing a mix of these skills can improve cognitive, psychomotor, and affective domains needed for success in academics and careers. Overall, the article encourages readers to pursue activities that promote skill development and personal growth during their vacations.\", 'The article discusses the importance of developing happy skills in the fields of AI/ML, Robotics, IoT, and Cloud technologies. The author, Sunil Tatkar, is the founder of Valurevolution and a multi-skilled entrepreneur, as well as a passionate soft skills trainer and content writer. The article encourages readers to focus on enjoying their vacation while also improving their happy skills.', \"I'm sorry, I need more context. Can you please provide more information about what you need a summary of?\"]\n"
     ]
    }
   ],
   "source": [
    "paper = data1 + data2 + data3 + data4\n",
    "print(paper)"
   ]
  },
  {
   "cell_type": "code",
   "execution_count": 15,
   "id": "4d4bb0cf",
   "metadata": {},
   "outputs": [],
   "source": [
    "import gensim\n",
    "from gensim import corpora\n",
    "from pprint import pprint"
   ]
  },
  {
   "cell_type": "code",
   "execution_count": 20,
   "id": "e449a3c0",
   "metadata": {},
   "outputs": [],
   "source": [
    "# 創建詞袋\n",
    "texts = [[word for word in document.lower().split()] for document in paper]\n",
    "dictionary = corpora.Dictionary(texts1)\n",
    "corpus = [dictionary1.doc2bow(text) for text in texts]"
   ]
  },
  {
   "cell_type": "code",
   "execution_count": 26,
   "id": "3fb6cd70",
   "metadata": {},
   "outputs": [],
   "source": [
    "# 訓練 LDA 模型\n",
    "lda_model = gensim.models.ldamodel.LdaModel(corpus=corpus, id2word=dictionary, \n",
    "                                            num_topics=3, random_state=100, update_every=1, \n",
    "                                            chunksize=100, passes=10, alpha='auto', per_word_topics=True)"
   ]
  },
  {
   "cell_type": "code",
   "execution_count": 30,
   "id": "1f0943e1",
   "metadata": {},
   "outputs": [
    {
     "name": "stderr",
     "output_type": "stream",
     "text": [
      "/Users/wuchanghong/opt/anaconda3/lib/python3.9/site-packages/pyLDAvis/_prepare.py:243: FutureWarning: In a future version of pandas all arguments of DataFrame.drop except for the argument 'labels' will be keyword-only.\n",
      "  default_term_info = default_term_info.sort_values(\n"
     ]
    },
    {
     "data": {
      "text/html": [
       "\n",
       "<link rel=\"stylesheet\" type=\"text/css\" href=\"https://cdn.jsdelivr.net/gh/bmabey/pyLDAvis@3.4.0/pyLDAvis/js/ldavis.v1.0.0.css\">\n",
       "\n",
       "\n",
       "<div id=\"ldavis_el201161402837665128806315431120\" style=\"background-color:white;\"></div>\n",
       "<script type=\"text/javascript\">\n",
       "\n",
       "var ldavis_el201161402837665128806315431120_data = {\"mdsDat\": {\"x\": [0.07057729366118211, -0.05142489579271251, -0.019152397868469666], \"y\": [-0.01335297036552852, -0.03712628364609508, 0.05047925401162361], \"topics\": [1, 2, 3], \"cluster\": [1, 1, 1], \"Freq\": [46.32784840979576, 30.820814254232175, 22.85133733597206]}, \"tinfo\": {\"Term\": [\"the\", \"present\", \"technology\", \"education\", \"education.\", \"benefits,\", \"examine\", \"sector.\", \"paper\", \"of\", \"educational\", \"blockchain\", \"to\", \"benefits\", \"potential\", \"provides\", \"areas\", \"where\", \"future\", \"barriers,\", \"application,\", \"in\", \"an\", \"applications\", \"covers\", \"research\", \"this\", \"study\", \"previous\", \"results\", \"been\", \"education,\", \"such\", \"as\", \"various\", \"including\", \"articles\", \"public\", \"reliable\", \"features\", \"(heis),\", \"globally\", \"students\", \"classified\", \"network\", \"controlled\", \"include\", \"4.0,\", \"decentralized\", \"intermediary\", \"into\", \"eliminates\", \"10%\", \"third-party\", \"secure\", \"security,\", \"institutions\", \"gdp\", \"its\", \"2.0,\", \"has\", \"and\", \"is\", \"on\", \"that\", \"literature\", \"higher\", \"use\", \"the\", \"of\", \"in\", \"blockchain\", \"a\", \"technology\", \"for\", \"by\", \"be\", \"it\", \"application\", \"education\", \"review\", \"potential\", \"present\", \"benefits,\", \"provides\", \"areas\", \"where\", \"future\", \"barriers,\", \"application,\", \"education.\", \"sector\", \"at\", \"different\", \"large.\", \"shows\", \"young\", \"discipline\", \"lot\", \"functions\", \"policymakers,\", \"uses\", \"implemented.\", \"first\", \"also\", \"implemented\", \"studies\", \"scenario\", \"identifying\", \"system,\", \"groundwork\", \"areas.\", \"technology\", \"blockchain\", \"in\", \"to\", \"of\", \"a\", \"the\", \"paper\", \"can\", \"application\", \"it\", \"be\", \"and\", \"education\", \"review\", \"potential\", \"is\", \"its\", \"by\", \"literature\", \"has\", \"examine\", \"sector.\", \"previous\", \"results\", \"explores\", \"with\", \"challenges\", \"implementation.\", \"context,\", \"understanding\", \"settings.\", \"suggesting\", \"maximize\", \"technology,\", \"comprehensive\", \"concludes\", \"aims\", \"conducted\", \"policy-makers,\", \"associated\", \"using\", \"academicians,\", \"definition\", \"system.\", \"managers,\", \"offer\", \"methodology\", \"educational\", \"benefits\", \"paper\", \"the\", \"education\", \"of\", \"potential\", \"technology\", \"in\", \"to\", \"blockchain\", \"review\", \"and\", \"a\", \"literature\", \"is\", \"can\", \"its\", \"that\", \"on\", \"for\", \"systematic\", \"use\", \"institutions,\", \"by\", \"researchers\", \"research\", \"an\"], \"Freq\": [25.0, 3.0, 15.0, 8.0, 4.0, 2.0, 1.0, 1.0, 3.0, 15.0, 2.0, 16.0, 6.0, 2.0, 5.0, 2.0, 2.0, 2.0, 2.0, 2.0, 2.0, 13.0, 1.0, 1.0, 1.0, 1.0, 1.0, 1.0, 1.0, 1.0, 1.7656317338535363, 1.7655020299903597, 1.7651823686356358, 1.7651275061213825, 1.7650968507665974, 1.7638146112716235, 1.7638552031896837, 1.7635770851260995, 1.0098103252810493, 1.0097028201230618, 1.0096260760279794, 1.0096129682211057, 1.009585589818039, 1.0095516575115355, 1.0095072601011572, 1.0095197336593111, 1.009499860532761, 1.0094778732438117, 1.0094314673791542, 1.0094237506863981, 1.0093879156337355, 1.0093507063755136, 1.009309480208734, 1.0093162455284106, 1.009306837505735, 1.009286752962945, 1.00927597073471, 1.0092554633594402, 4.0367503949857335, 1.0092075775811036, 2.522318997636521, 9.338516626713565, 3.278531209128457, 2.5234211104951028, 2.5226602234477142, 2.5181672055174276, 1.7666130223310172, 1.7657485413260794, 9.329977947616612, 6.314682578697324, 5.563343088702529, 6.301365469746226, 3.2866599521362483, 4.801367670511007, 1.7675068901933009, 1.7672891314662071, 1.7666638679367124, 1.7661102745125428, 1.765475074419773, 2.5354815613162547, 1.7666972717026161, 1.7687037175273566, 2.9167302114466995, 2.2414941091112404, 1.5703739939227128, 1.5702592233680417, 1.5698140655181225, 1.569526998481255, 1.5681757721102678, 1.568142719315724, 2.917104340950897, 0.8985144806877317, 0.8980677053606325, 0.898041403775187, 0.8979678437260534, 0.8979302198003494, 0.8978900641712334, 0.8977756452420362, 0.897723745322093, 0.8977028587689451, 0.8976710718261073, 0.8976645315922933, 0.8976305645715175, 0.8976321820486972, 0.897611717446118, 0.8975217013248074, 0.8974140336047084, 0.8974456095722619, 0.8973824576371549, 0.8974155807567934, 0.8973847080401877, 0.8973523584965916, 6.96051289577155, 6.971879681490058, 4.946318916532515, 2.9259880882231255, 4.947756361469696, 2.9199561641941716, 6.30139741491113, 1.5709643027682456, 1.5697800281722518, 1.5731608367784162, 1.5731557733715924, 1.5727120220235686, 3.6000864711753313, 2.2485004576533827, 1.5755480924456138, 1.5788014719800476, 1.5758963423149346, 0.9027940440051074, 0.9022602062106782, 0.9020905820820834, 0.901404912408037, 1.4042040542863297, 1.4040674453434057, 0.8028841798281039, 0.8028716660318055, 0.8027987210275496, 0.8027954882968391, 0.8027241075171205, 0.8026964728836282, 0.8027114894391864, 0.8025977703153249, 0.802581450239319, 0.8025393725992658, 0.8025261288315166, 0.8025213840170868, 0.8024939579468663, 0.8024771164626814, 0.8024566772620607, 0.8024625691744846, 0.802389415606957, 0.802394629688748, 0.8024070392034105, 0.8023649094225392, 0.8023623023816437, 0.8022987948654295, 0.8022563522396509, 0.8020199457712475, 0.8020175472936236, 1.4053667945257202, 1.4070104816695115, 1.409205505821882, 9.888260846203115, 3.2181037510465305, 4.442418959376302, 2.011866598539204, 3.847772536061545, 3.230640072178241, 2.0206977931502377, 3.249247670147379, 1.4130396287260678, 2.0365861431837393, 1.4185348538072269, 0.813936573282099, 0.8149515464435328, 0.8106585322009221, 0.8134952533993097, 0.8117431133542657, 0.8105551890998247, 0.8092176206979823, 0.8075240347914512, 0.8070477284198444, 0.8070289577253968, 0.8070071107226926, 0.8068150239495125, 0.8058586049265914, 0.8056436804751669], \"Total\": [25.0, 3.0, 15.0, 8.0, 4.0, 2.0, 1.0, 1.0, 3.0, 15.0, 2.0, 16.0, 6.0, 2.0, 5.0, 2.0, 2.0, 2.0, 2.0, 2.0, 2.0, 13.0, 1.0, 1.0, 1.0, 1.0, 1.0, 1.0, 1.0, 1.0, 2.1972471004702703, 2.1972384754530667, 2.197277356744499, 2.1972230348916026, 2.1972158678680507, 2.1969419441135507, 2.1970254791897665, 2.1969933129503696, 1.4384608077466179, 1.4384308205593905, 1.4384003675718273, 1.438421037998857, 1.4384243095516154, 1.4383912008690067, 1.4383858714653772, 1.4384284103526368, 1.4384188533148823, 1.4383879328722073, 1.4383677042490262, 1.438370180912775, 1.4383902075497885, 1.4383908422950715, 1.4383408608660797, 1.4383505775897532, 1.4383470136205638, 1.4383626801115643, 1.4383546577791397, 1.4383280480810412, 5.753039692390151, 1.438320186995129, 3.631662652002396, 14.975189241072634, 5.6693790978869245, 4.2351787460551105, 4.234952392806617, 4.2341943608816095, 2.800899019811218, 2.8006109331740445, 25.51963620873086, 15.70485789954332, 13.740302077413284, 16.52249282138366, 7.625150970137646, 15.609653102344101, 3.4763146842286776, 3.4765564483995783, 3.548336239998632, 3.5482699224702365, 3.5481396337351834, 8.002085770016167, 4.755284992874298, 5.359371788046609, 3.3822015785820603, 2.7064190237859913, 2.0308723992584095, 2.030807317058197, 2.030821323138587, 2.0307774276381916, 2.0306878570766327, 2.0308821497416862, 4.139629167255311, 1.3551939104631296, 1.3551555975310337, 1.3552150956865652, 1.3552263378484133, 1.3552036747305933, 1.3551662879785096, 1.3552025487968975, 1.3551342593003197, 1.3551839724607628, 1.3551778992061065, 1.3551882454966766, 1.3551421243600572, 1.3551626563276795, 1.3551464134161855, 1.3551628892590082, 1.3551299991797034, 1.3552133106443642, 1.35512786372506, 1.3551779780771513, 1.3551926152970006, 1.3551553581987834, 15.609653102344101, 16.52249282138366, 13.740302077413284, 6.7092137077008545, 15.70485789954332, 7.625150970137646, 25.51963620873086, 3.2380553644432575, 3.3930178041481516, 3.5481396337351834, 3.5482699224702365, 3.548336239998632, 14.975189241072634, 8.002085770016167, 4.755284992874298, 5.359371788046609, 5.6693790978869245, 5.753039692390151, 3.4765564483995783, 4.2341943608816095, 3.631662652002396, 1.8868660563541018, 1.8868609158895737, 1.2831212214046352, 1.283120210110279, 1.2831213164240314, 1.2831484246703453, 1.283170837532854, 1.2831309917102227, 1.283156655958201, 1.283169150426219, 1.2831655954463246, 1.283199874685989, 1.2831834488649372, 1.2831940576753236, 1.2831833758667872, 1.2831976850344442, 1.2831990884700188, 1.2832097404933713, 1.28320214490037, 1.2832222183956166, 1.2832435454916746, 1.2832033915034864, 1.2832018913075016, 1.2832290356879699, 1.283245468554026, 1.2832710412457538, 1.2832918222295264, 2.5627885838618543, 2.645415761897358, 3.2380553644432575, 25.51963620873086, 8.002085770016167, 15.70485789954332, 5.359371788046609, 15.609653102344101, 13.740302077413284, 6.7092137077008545, 16.52249282138366, 4.755284992874298, 14.975189241072634, 7.625150970137646, 4.2341943608816095, 5.6693790978869245, 3.3930178041481516, 5.753039692390151, 4.234952392806617, 4.2351787460551105, 3.4763146842286776, 2.7173816756834417, 2.8006109331740445, 2.717492286272413, 3.4765564483995783, 2.717476051136016, 1.9587409602164065, 1.9586865028121156], \"Category\": [\"Default\", \"Default\", \"Default\", \"Default\", \"Default\", \"Default\", \"Default\", \"Default\", \"Default\", \"Default\", \"Default\", \"Default\", \"Default\", \"Default\", \"Default\", \"Default\", \"Default\", \"Default\", \"Default\", \"Default\", \"Default\", \"Default\", \"Default\", \"Default\", \"Default\", \"Default\", \"Default\", \"Default\", \"Default\", \"Default\", \"Topic1\", \"Topic1\", \"Topic1\", \"Topic1\", \"Topic1\", \"Topic1\", \"Topic1\", \"Topic1\", \"Topic1\", \"Topic1\", \"Topic1\", \"Topic1\", \"Topic1\", \"Topic1\", \"Topic1\", \"Topic1\", \"Topic1\", \"Topic1\", \"Topic1\", \"Topic1\", \"Topic1\", \"Topic1\", \"Topic1\", \"Topic1\", \"Topic1\", \"Topic1\", \"Topic1\", \"Topic1\", \"Topic1\", \"Topic1\", \"Topic1\", \"Topic1\", \"Topic1\", \"Topic1\", \"Topic1\", \"Topic1\", \"Topic1\", \"Topic1\", \"Topic1\", \"Topic1\", \"Topic1\", \"Topic1\", \"Topic1\", \"Topic1\", \"Topic1\", \"Topic1\", \"Topic1\", \"Topic1\", \"Topic1\", \"Topic1\", \"Topic1\", \"Topic1\", \"Topic2\", \"Topic2\", \"Topic2\", \"Topic2\", \"Topic2\", \"Topic2\", \"Topic2\", \"Topic2\", \"Topic2\", \"Topic2\", \"Topic2\", \"Topic2\", \"Topic2\", \"Topic2\", \"Topic2\", \"Topic2\", \"Topic2\", \"Topic2\", \"Topic2\", \"Topic2\", \"Topic2\", \"Topic2\", \"Topic2\", \"Topic2\", \"Topic2\", \"Topic2\", \"Topic2\", \"Topic2\", \"Topic2\", \"Topic2\", \"Topic2\", \"Topic2\", \"Topic2\", \"Topic2\", \"Topic2\", \"Topic2\", \"Topic2\", \"Topic2\", \"Topic2\", \"Topic2\", \"Topic2\", \"Topic2\", \"Topic2\", \"Topic2\", \"Topic2\", \"Topic2\", \"Topic2\", \"Topic2\", \"Topic2\", \"Topic2\", \"Topic2\", \"Topic3\", \"Topic3\", \"Topic3\", \"Topic3\", \"Topic3\", \"Topic3\", \"Topic3\", \"Topic3\", \"Topic3\", \"Topic3\", \"Topic3\", \"Topic3\", \"Topic3\", \"Topic3\", \"Topic3\", \"Topic3\", \"Topic3\", \"Topic3\", \"Topic3\", \"Topic3\", \"Topic3\", \"Topic3\", \"Topic3\", \"Topic3\", \"Topic3\", \"Topic3\", \"Topic3\", \"Topic3\", \"Topic3\", \"Topic3\", \"Topic3\", \"Topic3\", \"Topic3\", \"Topic3\", \"Topic3\", \"Topic3\", \"Topic3\", \"Topic3\", \"Topic3\", \"Topic3\", \"Topic3\", \"Topic3\", \"Topic3\", \"Topic3\", \"Topic3\", \"Topic3\", \"Topic3\", \"Topic3\", \"Topic3\", \"Topic3\", \"Topic3\", \"Topic3\", \"Topic3\", \"Topic3\", \"Topic3\"], \"logprob\": [30.0, 29.0, 28.0, 27.0, 26.0, 25.0, 24.0, 23.0, 22.0, 21.0, 20.0, 19.0, 18.0, 17.0, 16.0, 15.0, 14.0, 13.0, 12.0, 11.0, 10.0, 9.0, 8.0, 7.0, 6.0, 5.0, 4.0, 3.0, 2.0, 1.0, -4.8565, -4.8565, -4.8567, -4.8568, -4.8568, -4.8575, -4.8575, -4.8576, -5.4152, -5.4153, -5.4154, -5.4154, -5.4154, -5.4155, -5.4155, -5.4155, -5.4155, -5.4155, -5.4156, -5.4156, -5.4156, -5.4157, -5.4157, -5.4157, -5.4157, -5.4157, -5.4157, -5.4158, -4.0295, -5.4158, -4.4998, -3.1908, -4.2376, -4.4994, -4.4997, -4.5014, -4.8559, -4.8564, -3.1917, -3.5821, -3.7088, -3.5842, -4.2351, -3.8561, -4.8554, -4.8555, -4.8559, -4.8562, -4.8566, -4.4946, -4.8559, -4.8547, -3.947, -4.2103, -4.5661, -4.5662, -4.5665, -4.5667, -4.5675, -4.5675, -3.9468, -5.1244, -5.1249, -5.125, -5.125, -5.1251, -5.1251, -5.1253, -5.1253, -5.1253, -5.1254, -5.1254, -5.1254, -5.1254, -5.1254, -5.1255, -5.1257, -5.1256, -5.1257, -5.1257, -5.1257, -5.1257, -3.0772, -3.0755, -3.4188, -3.9438, -3.4185, -3.9459, -3.1767, -4.5657, -4.5665, -4.5643, -4.5643, -4.5646, -3.7365, -4.2072, -4.5628, -4.5608, -4.5626, -5.1197, -5.1203, -5.1205, -5.1212, -4.3788, -4.3789, -4.9378, -4.9378, -4.9379, -4.9379, -4.938, -4.938, -4.938, -4.9381, -4.9382, -4.9382, -4.9382, -4.9382, -4.9383, -4.9383, -4.9383, -4.9383, -4.9384, -4.9384, -4.9384, -4.9384, -4.9384, -4.9385, -4.9386, -4.9389, -4.9389, -4.3779, -4.3768, -4.3752, -2.4269, -3.5495, -3.227, -4.0192, -3.3708, -3.5456, -4.0148, -3.5398, -4.3725, -4.007, -4.3686, -4.9241, -4.9229, -4.9282, -4.9247, -4.9268, -4.9283, -4.9299, -4.932, -4.9326, -4.9326, -4.9327, -4.9329, -4.9341, -4.9344], \"loglift\": [30.0, 29.0, 28.0, 27.0, 26.0, 25.0, 24.0, 23.0, 22.0, 21.0, 20.0, 19.0, 18.0, 17.0, 16.0, 15.0, 14.0, 13.0, 12.0, 11.0, 10.0, 9.0, 8.0, 7.0, 6.0, 5.0, 4.0, 3.0, 2.0, 1.0, 0.5507, 0.5507, 0.5505, 0.5505, 0.5504, 0.5498, 0.5498, 0.5497, 0.4156, 0.4155, 0.4155, 0.4154, 0.4154, 0.4154, 0.4154, 0.4154, 0.4153, 0.4153, 0.4153, 0.4153, 0.4152, 0.4152, 0.4152, 0.4152, 0.4152, 0.4152, 0.4152, 0.4152, 0.4151, 0.4151, 0.4049, 0.2972, 0.2217, 0.2516, 0.2514, 0.2498, 0.3086, 0.3082, -0.2368, -0.1417, -0.1347, -0.1945, -0.0722, -0.4096, 0.093, 0.0928, 0.072, 0.0717, 0.0714, -0.3799, -0.2207, -0.3392, 1.0289, 0.9885, 0.9198, 0.9198, 0.9195, 0.9193, 0.9185, 0.9184, 0.827, 0.766, 0.7656, 0.7655, 0.7654, 0.7654, 0.7653, 0.7652, 0.7652, 0.7651, 0.7651, 0.7651, 0.7651, 0.7651, 0.7651, 0.7649, 0.7648, 0.7648, 0.7648, 0.7648, 0.7648, 0.7648, 0.3693, 0.3141, 0.1553, 0.3471, 0.0219, 0.2171, -0.2217, 0.4537, 0.4062, 0.3636, 0.3636, 0.3633, -0.2485, -0.0925, 0.0723, -0.0452, -0.1033, -0.675, -0.1719, -0.3693, -0.2165, 1.1807, 1.1806, 1.0073, 1.0073, 1.0072, 1.0072, 1.0071, 1.0071, 1.0071, 1.0069, 1.0069, 1.0068, 1.0068, 1.0068, 1.0068, 1.0068, 1.0067, 1.0067, 1.0066, 1.0066, 1.0066, 1.0066, 1.0066, 1.0065, 1.0064, 1.0061, 1.0061, 0.8754, 0.8448, 0.6442, 0.5281, 0.5653, 0.2134, 0.4964, 0.0758, 0.0285, 0.2761, -0.1501, 0.2626, -0.519, -0.2057, -0.1729, -0.4635, 0.0445, -0.48, -0.1758, -0.1773, 0.0185, 0.2627, 0.232, 0.2621, 0.0157, 0.2618, 0.588, 0.5878]}, \"token.table\": {\"Topic\": [1, 1, 1, 1, 1, 2, 3, 3, 3, 2, 2, 3, 1, 2, 3, 1, 2, 2, 2, 3, 2, 2, 1, 1, 3, 2, 2, 1, 2, 1, 1, 3, 2, 1, 2, 3, 1, 2, 3, 1, 2, 3, 3, 1, 3, 3, 3, 3, 1, 2, 3, 1, 3, 2, 2, 1, 2, 3, 1, 1, 2, 2, 3, 1, 3, 3, 1, 2, 1, 2, 3, 2, 2, 1, 1, 2, 1, 2, 1, 3, 2, 3, 2, 2, 1, 2, 3, 1, 1, 1, 1, 2, 3, 1, 1, 1, 2, 3, 1, 2, 1, 2, 3, 2, 1, 2, 3, 2, 3, 3, 3, 1, 1, 2, 3, 3, 1, 2, 3, 2, 3, 3, 2, 1, 2, 3, 2, 3, 2, 1, 1, 2, 3, 1, 2, 3, 3, 1, 2, 3, 2, 2, 3, 1, 1, 3, 2, 1, 2, 2, 3, 1, 3, 2, 3, 1, 2, 3, 1, 2, 3, 3, 1, 2, 3, 1, 2, 3, 1, 2, 3, 1, 2, 3, 3, 1, 3, 2, 3, 1, 2, 3, 2], \"Freq\": [0.6952167300180173, 0.6952454923639324, 0.6952554855599663, 0.6952227400873533, 0.3934348331920102, 0.3934348331920102, 0.13114494439733676, 0.7792996859432654, 0.77930229921868, 0.7379276439060944, 0.5105462250157363, 0.5105462250157363, 0.6009940746067897, 0.2671084776030176, 0.1335542388015088, 0.563675674143232, 0.563675674143232, 0.9847937263392589, 0.5105349317741598, 0.5105349317741598, 0.9848300147436814, 0.7379227731713054, 0.9103217140374599, 0.9102398656123081, 0.7792882523888007, 0.7379226428477337, 0.984887949681833, 0.5636444419936852, 0.5636444419936852, 0.9102298961149822, 0.37801241468478103, 0.37801241468478103, 0.7389838685076243, 0.363141328906175, 0.42366488372387084, 0.1815706644530875, 0.5752819002610166, 0.2876409501305083, 0.2876409501305083, 0.2947228861509199, 0.5894457723018398, 0.2947228861509199, 0.7793194567316498, 0.6952211605548255, 0.7793118417891772, 0.7793031515429811, 0.7792958301699906, 0.7793280698475955, 0.6952031764687169, 0.5105276855347284, 0.5105276855347284, 0.6952325174195297, 0.7793005970253545, 0.7378902457498012, 0.7378970773688154, 0.3749022550146871, 0.24993483667645808, 0.3749022550146871, 0.9102334691220094, 0.24156753167893724, 0.7247025950368118, 0.3901999588639905, 0.3901999588639905, 0.6952213338652916, 0.5299793255766393, 0.7793495339839958, 0.6952020115997727, 0.7379187991424397, 0.5753219088805703, 0.28766095444028517, 0.28766095444028517, 0.7379071921756759, 0.9848445096841627, 0.6952516856875309, 0.6952067396005333, 0.7379024861206482, 0.826067916397985, 0.27535597213266166, 0.7140564461102211, 0.35702822305511056, 0.7379377450413702, 0.7793436573978693, 0.7379186723057268, 0.7379299794641341, 0.4366716223701499, 0.3638930186417916, 0.21833581118507495, 0.6952077954870155, 0.91035632751187, 0.6952388234651586, 0.3679863251320213, 0.3679863251320213, 0.3679863251320213, 0.695231320330494, 0.6952216406585804, 0.5291584754172025, 0.3527723169448017, 0.17638615847240086, 0.5636549765660553, 0.5636549765660553, 0.6952846171548254, 0.17382115428870634, 0.17382115428870634, 0.7378841246456453, 0.7085173103332376, 0.23617243677774588, 0.23617243677774588, 0.7379342623337691, 0.7792741330517303, 0.7793117974554362, 0.779245984956602, 0.6952237364381472, 0.3820473918566607, 0.3183728265472172, 0.2546982612377738, 0.7792586038793766, 0.708352629223589, 0.23611754307452965, 0.23611754307452965, 0.6176546645748519, 0.3088273322874259, 0.7793004430160468, 0.7379104991203165, 0.37317806621678, 0.37317806621678, 0.37317806621678, 0.8869962154230048, 0.7793495916974221, 0.9847984544623863, 0.9103350420826612, 0.6951875189192837, 0.5105320306823612, 0.5105320306823612, 0.3679885236088683, 0.3679885236088683, 0.3679885236088683, 0.7793502059437237, 0.4205846764172833, 0.4205846764172833, 0.21029233820864165, 0.7378912176744554, 0.7379017809032626, 0.5299807694244083, 0.6952425183425174, 0.6952349458360784, 0.7793226404672806, 0.7378964643073258, 0.6952051584220788, 0.737936582176859, 0.5104820913742588, 0.5104820913742588, 0.9102173623466514, 0.7793018217405214, 0.7379104561740961, 0.7792841123360928, 0.368001303956866, 0.368001303956866, 0.368001303956866, 0.3203146134778069, 0.44844045886892964, 0.2562516907822455, 0.7793053544930163, 0.7083904898425125, 0.2361301632808375, 0.2361301632808375, 0.35266960415842025, 0.23511306943894683, 0.39185511573157805, 0.6952407956589428, 0.5105107401948888, 0.5105107401948888, 0.2980975248566601, 0.4471462872849901, 0.2980975248566601, 0.7793204813783426, 0.7141298979838374, 0.3570649489919187, 0.7379048654849422, 0.7792753008680438, 0.9102428346927021, 0.9848232226107645, 0.7793330691707866, 0.7379168216261429], \"Term\": [\"(heis),\", \"10%\", \"2.0,\", \"4.0,\", \"a\", \"a\", \"a\", \"academicians,\", \"aims\", \"also\", \"an\", \"an\", \"and\", \"and\", \"and\", \"application\", \"application\", \"application,\", \"applications\", \"applications\", \"areas\", \"areas.\", \"articles\", \"as\", \"associated\", \"at\", \"barriers,\", \"be\", \"be\", \"been\", \"benefits\", \"benefits\", \"benefits,\", \"blockchain\", \"blockchain\", \"blockchain\", \"by\", \"by\", \"by\", \"can\", \"can\", \"can\", \"challenges\", \"classified\", \"comprehensive\", \"concludes\", \"conducted\", \"context,\", \"controlled\", \"covers\", \"covers\", \"decentralized\", \"definition\", \"different\", \"discipline\", \"education\", \"education\", \"education\", \"education,\", \"education.\", \"education.\", \"educational\", \"educational\", \"eliminates\", \"examine\", \"explores\", \"features\", \"first\", \"for\", \"for\", \"for\", \"functions\", \"future\", \"gdp\", \"globally\", \"groundwork\", \"has\", \"has\", \"higher\", \"higher\", \"identifying\", \"implementation.\", \"implemented\", \"implemented.\", \"in\", \"in\", \"in\", \"include\", \"including\", \"institutions\", \"institutions,\", \"institutions,\", \"institutions,\", \"intermediary\", \"into\", \"is\", \"is\", \"is\", \"it\", \"it\", \"its\", \"its\", \"its\", \"large.\", \"literature\", \"literature\", \"literature\", \"lot\", \"managers,\", \"maximize\", \"methodology\", \"network\", \"of\", \"of\", \"of\", \"offer\", \"on\", \"on\", \"on\", \"paper\", \"paper\", \"policy-makers,\", \"policymakers,\", \"potential\", \"potential\", \"potential\", \"present\", \"previous\", \"provides\", \"public\", \"reliable\", \"research\", \"research\", \"researchers\", \"researchers\", \"researchers\", \"results\", \"review\", \"review\", \"review\", \"scenario\", \"sector\", \"sector.\", \"secure\", \"security,\", \"settings.\", \"shows\", \"students\", \"studies\", \"study\", \"study\", \"such\", \"suggesting\", \"system,\", \"system.\", \"systematic\", \"systematic\", \"systematic\", \"technology\", \"technology\", \"technology\", \"technology,\", \"that\", \"that\", \"that\", \"the\", \"the\", \"the\", \"third-party\", \"this\", \"this\", \"to\", \"to\", \"to\", \"understanding\", \"use\", \"use\", \"uses\", \"using\", \"various\", \"where\", \"with\", \"young\"]}, \"R\": 30, \"lambda.step\": 0.01, \"plot.opts\": {\"xlab\": \"PC1\", \"ylab\": \"PC2\"}, \"topic.order\": [3, 2, 1]};\n",
       "\n",
       "function LDAvis_load_lib(url, callback){\n",
       "  var s = document.createElement('script');\n",
       "  s.src = url;\n",
       "  s.async = true;\n",
       "  s.onreadystatechange = s.onload = callback;\n",
       "  s.onerror = function(){console.warn(\"failed to load library \" + url);};\n",
       "  document.getElementsByTagName(\"head\")[0].appendChild(s);\n",
       "}\n",
       "\n",
       "if(typeof(LDAvis) !== \"undefined\"){\n",
       "   // already loaded: just create the visualization\n",
       "   !function(LDAvis){\n",
       "       new LDAvis(\"#\" + \"ldavis_el201161402837665128806315431120\", ldavis_el201161402837665128806315431120_data);\n",
       "   }(LDAvis);\n",
       "}else if(typeof define === \"function\" && define.amd){\n",
       "   // require.js is available: use it to load d3/LDAvis\n",
       "   require.config({paths: {d3: \"https://d3js.org/d3.v5\"}});\n",
       "   require([\"d3\"], function(d3){\n",
       "      window.d3 = d3;\n",
       "      LDAvis_load_lib(\"https://cdn.jsdelivr.net/gh/bmabey/pyLDAvis@3.4.0/pyLDAvis/js/ldavis.v3.0.0.js\", function(){\n",
       "        new LDAvis(\"#\" + \"ldavis_el201161402837665128806315431120\", ldavis_el201161402837665128806315431120_data);\n",
       "      });\n",
       "    });\n",
       "}else{\n",
       "    // require.js not available: dynamically load d3 & LDAvis\n",
       "    LDAvis_load_lib(\"https://d3js.org/d3.v5.js\", function(){\n",
       "         LDAvis_load_lib(\"https://cdn.jsdelivr.net/gh/bmabey/pyLDAvis@3.4.0/pyLDAvis/js/ldavis.v3.0.0.js\", function(){\n",
       "                 new LDAvis(\"#\" + \"ldavis_el201161402837665128806315431120\", ldavis_el201161402837665128806315431120_data);\n",
       "            })\n",
       "         });\n",
       "}\n",
       "</script>"
      ],
      "text/plain": [
       "<IPython.core.display.HTML object>"
      ]
     },
     "execution_count": 30,
     "metadata": {},
     "output_type": "execute_result"
    }
   ],
   "source": [
    "# 輸出主題模型分析結果\n",
    "import pyLDAvis.gensim\n",
    "pyLDAvis.enable_notebook()\n",
    "vis = pyLDAvis.gensim.prepare(lda_model, corpus1, dictionary1)\n",
    "pyLDAvis.display(vis)"
   ]
  },
  {
   "cell_type": "code",
   "execution_count": null,
   "id": "dc2be18e",
   "metadata": {},
   "outputs": [],
   "source": []
  }
 ],
 "metadata": {
  "kernelspec": {
   "display_name": "Python 3 (ipykernel)",
   "language": "python",
   "name": "python3"
  },
  "language_info": {
   "codemirror_mode": {
    "name": "ipython",
    "version": 3
   },
   "file_extension": ".py",
   "mimetype": "text/x-python",
   "name": "python",
   "nbconvert_exporter": "python",
   "pygments_lexer": "ipython3",
   "version": "3.9.0"
  }
 },
 "nbformat": 4,
 "nbformat_minor": 5
}
