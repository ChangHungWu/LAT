{
 "cells": [
  {
   "cell_type": "code",
   "execution_count": 1,
   "id": "57af3cb6",
   "metadata": {},
   "outputs": [],
   "source": [
    "import pandas as pd\n",
    "import openai"
   ]
  },
  {
   "cell_type": "code",
   "execution_count": 2,
   "id": "5597f46c",
   "metadata": {},
   "outputs": [],
   "source": [
    "with open('Lab1.txt', 'r',encoding='big5') as fh:\n",
    "    tmp1 = fh.read()\n",
    "    itemlist1 = tmp1.split(',')\n",
    "with open('Lab2.txt', 'r',encoding='big5') as fh:\n",
    "    tmp2 = fh.read()\n",
    "    itemlist2 = tmp2.split(',')\n",
    "with open('Lab3.txt', 'r',encoding='big5') as fh:\n",
    "    tmp3 = fh.read()\n",
    "    itemlist3 = tmp3.split(',')\n",
    "with open('Lab4.txt', 'r',encoding='big5') as fh:\n",
    "    tmp4 = fh.read()\n",
    "    itemlist4 = tmp4.split(',')\n",
    "with open('Lab5.txt', 'r',encoding='big5') as fh:\n",
    "    tmp5 = fh.read()\n",
    "    itemlist5 = tmp5.split(',')"
   ]
  },
  {
   "cell_type": "code",
   "execution_count": 3,
   "id": "6e037c7b",
   "metadata": {},
   "outputs": [],
   "source": [
    "itemlist1 = str(itemlist1)\n",
    "itemlist2 = str(itemlist2)\n",
    "itemlist3 = str(itemlist3)\n",
    "itemlist4 = str(itemlist4)\n",
    "itemlist5 = str(itemlist5)"
   ]
  },
  {
   "cell_type": "code",
   "execution_count": 4,
   "id": "b83a3b44",
   "metadata": {},
   "outputs": [],
   "source": [
    "keyfile = open(\"key.txt\", 'r',encoding='utf-8')\n",
    "key = keyfile.readline()\n",
    "openai.api_key = key"
   ]
  },
  {
   "cell_type": "code",
   "execution_count": 5,
   "id": "705c29e8",
   "metadata": {},
   "outputs": [],
   "source": [
    "data1 = [itemlist1[0:3200], itemlist1[3201:6400], itemlist1[6401:9600], itemlist1[9601:12800], itemlist1[12801:16000]]\n",
    "data2 = [itemlist2[0:3200], itemlist2[3201:6400], itemlist2[6401:9600], itemlist2[9601:12800], itemlist2[12801:16000]]\n",
    "data3 = [itemlist3[0:3200], itemlist3[3201:6400], itemlist3[6401:9600], itemlist3[9601:12800], itemlist3[12801:16000]]\n",
    "data4 = [itemlist4[0:3200], itemlist4[3201:6400], itemlist4[6401:9600], itemlist4[9601:12800], itemlist4[12801:16000]]\n",
    "data5 = [itemlist4[0:3200], itemlist4[3201:6400], itemlist4[6401:9600], itemlist4[9601:12800], itemlist4[12801:16000]]"
   ]
  },
  {
   "cell_type": "code",
   "execution_count": 6,
   "id": "d8febde3",
   "metadata": {},
   "outputs": [
    {
     "data": {
      "text/plain": [
       "\" mA，而電流改變10倍時，電壓改變0.1 V。\\\\n\\\\n手算分析: 請用使用(a)理想二極體模型、(b)定電壓降二極體模型、(c)片段線性二極體模型、(d)實際接面二極體模型(配合疊代分析法)，各別求得此電路系統中電流ID與二極體電壓VD，並把手算分析結果填入下表。\\\\n\\\\n模擬:\\\\n(1) 請用SPICE描述出此電路。\\\\n* Circuit Description *\\\\nVDD 1 0 DC 5V\\\\n*電壓源VDD宣告 設正端為1 負端為0 輸入直流電壓5V*\\\\nR1 1 2 1k\\\\n*電阻R1宣告 設正端為1 負端為2 電阻值為1kΩ*\\\\n* Transistor Model Statement *\\\\nD1 2 0 1mA_diode\\\\n*二極體D1宣告 設正端為2 負端為0 二極體模型在0.7V時電流1mA*\\\\n.model 1mA_diode D (Is=0.01pA n=1.0675) \\\\n*模型參數：飽和電流=0.01pA、理想因子=1.0675*\\\\n*Analysis Requests *\\\\n.TRAN 0 1\\\\n*時間掃描分析 從0s掃描1s*\\\\n* Output Requests *\\\\n.probe\\\\n*顯示波形*\\\\n.end\\\\n*結束程式*\\\\n(2) 請用SPICE模擬其電路，求得此電路系統中電流ID與二極體電壓VD，並把SPICE模擬結果填入下表(手算分析填入四種模型答案，SPICE模擬只需填入一種模擬答案)。\\\\n\\\\n(3) 請比較利用理想二極體模型、定電壓降二極體模型、片段線性二極體模型、與實際接面二極體模型(疊代分析法)，這四種手算分析法與SPICE模擬分析所各別得到的電流ID與二極體電壓VD的誤差。完成下表。(  誤差(%)= ((SPICE模擬-手算分析)/ SPICE模擬)*100  )\\\\n\\\\n\\\\n電流ID\\\\n手算分析\\\\nSPICE模擬\\\\n誤差(%)\\\\n理想二極體模型\\\\n5mA\\\\n4.2607mA\\\\n-17.35\\\\n定電壓降二極體模型\\\\n4.3mA\\\\n4.2607mA\\\\n-0.92\\\\n片段線性二極體模型\\\\n4.264mA\\\\n4.2607mA\\\\n-0.08\\\\n實際接面二極體模型\\\\n4.2614mA\\\\n4.2607mA\\\\n-0.07\\\\n\\\\n二極體電壓VD\\\\n手算分析\\\\nSPICE模擬\\\\n誤差(%)\\\\n理想二極體模型\\\\n0V\\\\n0.739V\\\\n100\\\\n定電壓降二極體模型\\\\n0.7V\\\\n0.739V\\\\n5.28\\\\n片段線性二極體模型\\\\n0.7352V\\\\n0.739V\\\\n0.51\\\\n實際接面二極體模型\\\\n0.7386V\\\\n0.739V\\\\n0.05\\\\n\\\\nHomework 2: \\\\n根據圖四之電路，當R=100 ?、輸入端為60Hz、12V(rms) 的交流訊號時 (a) 請求出二極體峰值電流與其PIV值並用PSpice畫出模擬圖來驗證 ; (b)請用PSpice模擬輸出與輸入的電壓比較。\\\\n\\\\n        圖四\\\\n\\\\n手算分析:  \\\\n(1) 請用手繪出輸入與輸出的電壓波形圖(畫出兩個周期)。\\\\n(2) 請求出二極體峰值電流ID與其PIV值?\\\\n   \\\\n模擬:\\\\n(1) 請用SPICE描述出此電路。\\\\n*Circuit Description*\\\\nVs 1 0 SIN(0 16.97 60 0 0 0)\\\\n*電壓源Vs宣告 設正端為1 負端為0 輸入交流電壓峰值16.97V 頻率60Hz*\\\\nR1 2 0 100\\\\n*電阻R1宣告 設正端為2 負端為0 電阻值為100Ω*\\\\n*Transistor Model Statement*\\\\nD1 1 2 1mA_diode\\\\n*二極體D1宣告 設正端為1 負端為2 二極體模型在0.7V時電流1mA*\\\\n.model 1mA_diode D(Is=0.01pA n=1.0675)\\\\n*模型參數：飽和電流=0.01pA、理想因子=1.0675*\\\\n*Analysis Reqests*\\\\n.Tran 0 0.5\\\\n*時間掃描分析 從0s掃描0.5s*\\\\n*Output Requests*\\\\n.probe\\\\n*顯示波形*\\\\n.end\\\\n*結束程式*\\\\n(2) 請用SPICE模擬其電路，畫出其輸入與輸出的電壓波形圖(畫出兩個周期)，並做比較。\\\\n\\\\n(3) 請用SPICE模擬其電路，並在模擬出的波形圖上標出其二極體峰值電流ID與其PIV值。\\\\n\\\\n\\\\n5. 實驗心得:\\\\n每次接觸到新的軟體就要先好好熟悉一下，程式撰寫的方式又跟之前學的都很不一樣，一開始打的時候，要一邊查表一邊打，有時候Tran或是model前面會少打一個.，在run得時候就一直顯示錯誤，打到後面比較收悉之後，就覺得他很方便，不用像上學期一樣，用示波器看波形，有時候接錯了也很難查錯，但用這個就省下這些麻煩，只要元件的規格輸入正確，腳位編號編對，電路的所有數據就輕鬆出來了。\\\\n']\""
      ]
     },
     "execution_count": 6,
     "metadata": {},
     "output_type": "execute_result"
    }
   ],
   "source": [
    "data1[1]"
   ]
  },
  {
   "cell_type": "code",
   "execution_count": 7,
   "id": "aafbaf57",
   "metadata": {},
   "outputs": [],
   "source": [
    "def chatgptfn(sub_list):\n",
    "    result = ''\n",
    "    response = openai.ChatCompletion.create(\n",
    "        model=\"gpt-3.5-turbo\",\n",
    "        messages=[\n",
    "            {\"role\": \"system\", \"content\": \"You are an assistant\"},\n",
    "            {\"role\": \"user\", \"content\": f\"{sub_list} :give me a summary\"}\n",
    "        ]\n",
    "    )\n",
    "    for choice in response.choices:\n",
    "        result += choice.message.content\n",
    "    return result"
   ]
  },
  {
   "cell_type": "code",
   "execution_count": 8,
   "id": "a28550dd",
   "metadata": {},
   "outputs": [],
   "source": [
    "for i in range(0,5):\n",
    "    data1[i] = chatgptfn(data1[i])"
   ]
  },
  {
   "cell_type": "code",
   "execution_count": 9,
   "id": "963d4013",
   "metadata": {},
   "outputs": [],
   "source": [
    "for i in range(0,5):\n",
    "     data2[i] = chatgptfn(data2[i])"
   ]
  },
  {
   "cell_type": "code",
   "execution_count": 10,
   "id": "2384bf77",
   "metadata": {},
   "outputs": [],
   "source": [
    "for i in range(0,5):\n",
    "     data3[i] = chatgptfn(data3[i])"
   ]
  },
  {
   "cell_type": "code",
   "execution_count": 11,
   "id": "66f6dcff",
   "metadata": {},
   "outputs": [],
   "source": [
    "for i in range(0,5):\n",
    "     data4[i] = chatgptfn(data4[i])"
   ]
  },
  {
   "cell_type": "code",
   "execution_count": 12,
   "id": "1801bd49",
   "metadata": {},
   "outputs": [],
   "source": [
    "for i in range(0,5):\n",
    "     data5[i] = chatgptfn(data5[i])"
   ]
  },
  {
   "cell_type": "code",
   "execution_count": 13,
   "id": "3f2e1a5a",
   "metadata": {},
   "outputs": [
    {
     "data": {
      "text/plain": [
       "'The task involves analyzing and simulating two different circuits using SPICE. The first circuit involves a diode with different models being used for analysis and simulation, with the results being compared. The second circuit involves determining the peak current and PIV values of a diode in a AC input signal and comparing input and output voltages. The task requires both analytical and simulation skills, and the assistant notes the importance of familiarizing oneself with the software used for simulation.'"
      ]
     },
     "execution_count": 13,
     "metadata": {},
     "output_type": "execute_result"
    }
   ],
   "source": [
    "data1[1]"
   ]
  },
  {
   "cell_type": "code",
   "execution_count": 14,
   "id": "102d055f",
   "metadata": {},
   "outputs": [],
   "source": [
    "data11 = ''\n",
    "data12 = ''\n",
    "data13 = ''\n",
    "data14 = ''\n",
    "data15 = ''\n",
    "for i in range(0,5):\n",
    "    data11 = data11 + data1[i]\n",
    "    data12 = data12 + data2[i]\n",
    "    data13 = data13 + data3[i]\n",
    "    data14 = data14 + data4[i]\n",
    "    data15 = data15 + data5[i]"
   ]
  },
  {
   "cell_type": "code",
   "execution_count": 15,
   "id": "a22ea65a",
   "metadata": {},
   "outputs": [
    {
     "data": {
      "text/plain": [
       "\"The experiment is about learning how to use Spice software and understanding the principles and characteristics of diodes, NMOS transistors, and NPN BJT. The experiment includes four exercises and a homework assignment, where the students need to write Spice code and simulate the circuits to obtain the required characteristics.\\n\\nIn exercise 1, the students need to write Spice code to simulate the I-V characteristics of a PN diode and identify the forward bias, reverse bias, and breakdown regions.\\n\\nIn exercise 2, the students need to write Spice code to simulate the I-V characteristics of an NMOS transistor and identify the saturation, cutoff, and triode regions.\\n\\nIn exercise 3, the students need to write Spice code to simulate the I-V characteristics of an NPN BJT and identify the active, saturation, and cutoff regions.\\n\\nIn exercise 4, the students need to simulate a diode rectifier circuit and compare the input and output voltage waveforms.\\n\\nFor the homework assignment, the students need to write Spice code to simulate a circuit and determine the current and voltage characteristics of the diode. The circuit includes VDD, a resistor, and a diode connected in series.The task involves analyzing and simulating two different circuits using SPICE. The first circuit involves a diode with different models being used for analysis and simulation, with the results being compared. The second circuit involves determining the peak current and PIV values of a diode in a AC input signal and comparing input and output voltages. The task requires both analytical and simulation skills, and the assistant notes the importance of familiarizing oneself with the software used for simulation.Sure, I can give you a summary of pretty much anything you'd like, but I need to know what topic or subject you would like a summary on. Please let me know!Of what topic or subject would you like me to provide a summary? Please provide more context.I'm sorry, could you please provide more context or information about what you need a summary of?\""
      ]
     },
     "execution_count": 15,
     "metadata": {},
     "output_type": "execute_result"
    }
   ],
   "source": [
    "data11"
   ]
  },
  {
   "cell_type": "code",
   "execution_count": 16,
   "id": "e0d92c16",
   "metadata": {},
   "outputs": [],
   "source": [
    "paper = [data11, data12, data13, data14]"
   ]
  },
  {
   "cell_type": "code",
   "execution_count": 17,
   "id": "80b1e141",
   "metadata": {},
   "outputs": [
    {
     "data": {
      "text/plain": [
       "[\"The experiment is about learning how to use Spice software and understanding the principles and characteristics of diodes, NMOS transistors, and NPN BJT. The experiment includes four exercises and a homework assignment, where the students need to write Spice code and simulate the circuits to obtain the required characteristics.\\n\\nIn exercise 1, the students need to write Spice code to simulate the I-V characteristics of a PN diode and identify the forward bias, reverse bias, and breakdown regions.\\n\\nIn exercise 2, the students need to write Spice code to simulate the I-V characteristics of an NMOS transistor and identify the saturation, cutoff, and triode regions.\\n\\nIn exercise 3, the students need to write Spice code to simulate the I-V characteristics of an NPN BJT and identify the active, saturation, and cutoff regions.\\n\\nIn exercise 4, the students need to simulate a diode rectifier circuit and compare the input and output voltage waveforms.\\n\\nFor the homework assignment, the students need to write Spice code to simulate a circuit and determine the current and voltage characteristics of the diode. The circuit includes VDD, a resistor, and a diode connected in series.The task involves analyzing and simulating two different circuits using SPICE. The first circuit involves a diode with different models being used for analysis and simulation, with the results being compared. The second circuit involves determining the peak current and PIV values of a diode in a AC input signal and comparing input and output voltages. The task requires both analytical and simulation skills, and the assistant notes the importance of familiarizing oneself with the software used for simulation.Sure, I can give you a summary of pretty much anything you'd like, but I need to know what topic or subject you would like a summary on. Please let me know!Of what topic or subject would you like me to provide a summary? Please provide more context.I'm sorry, could you please provide more context or information about what you need a summary of?\",\n",
       " \"The purpose of the lab is to understand the basic composition and operating characteristics of metal-oxide-semiconductor field-effect transistors (MOSFETs). The lab involves using PSpice9.1 or later to simulate different circuit configurations and plot DCIV curves for NMOSFETs and PMOSFETs with and without channel-length modulation and body effect. The lab also requires a computer and MOSFET models with different parameters, including process transconductance, zero-bias threshold voltage, channel-length modulation, and body effect coefficient.This is a set of exercises and homework problems related to SPICE simulation of electronic circuits using MOSFETs. The exercises involve analyzing the behavior of NMOS and PMOS switches under different input voltages and loads, as well as simulating their turn-on resistances and input/output waveforms. The circuits also use voltage sources and resistors, and the MOSFET models include various parameters such as process transconductance, threshold voltage, length modulation, and substrate effect.The text describes a series of exercises related to the use of MOSFETs as switches in electronic circuits. Topics covered include the basic operation of an NMOS switch, the use of a PMOS switch, and the analysis of waveforms in circuit simulations. The text also includes a discussion on the causes of waveform distortion when using MOSFETs as switches. Overall, the exercises provide a practical application of concepts learned in electronic courses and emphasize the importance of understanding MOSFET characteristics in circuit design.Sure, I can give you a summary of something, but I'll need more information about what you want me to summarize. What topic or piece of information would you like me to summarize?Of what topic or subject would you like me to give a summary of? Please provide more context so that I can assist you more accurately.\",\n",
       " \"The purpose of this experiment is to measure the on-resistance of NMOS, PMOS, and CMOS switches. The principle behind this is that when the bias voltage of these transistors is in the triode region, their characteristics are like a variable resistance controlled by VGS, which can be used as a switch for analog or digital signal transmission. The experiment involves simulating the NMOS, PMOS, and CMOS switches with SPICE, measuring their on-resistance by connecting the input to a ground and computing the ratio of input voltage to input current, and observing their signal transmission behavior when connected to a load resistor and input with a sinusoidal wave. The experiment also explores the limitations of using just a single type of transistor as a switch and discusses why complementary switches (both NMOS and PMOS) are necessary for efficient and reliable switching.The experiment focuses on the study of NMOS and PMOS as switches and their complementary characteristics. The experiment includes simulating various circuits on Pspice software and implementing them on a breadboard using CD4007 CMOS transistors. The results were compared and analyzed to understand the effects of load resistor values and different input signal waveforms on the output signal. The experiment helped in improving knowledge about CMOS circuits and their practical applications.I'm sorry, could you please specify what you want me to summarize?Sure! Can you please provide some context or specify what topic you would like a summary on?Sure, I can provide you a summary. Can you please specify what topic, article or subject you want me to summarize?\",\n",
       " \"This lab experiment involves analyzing the DC and AC characteristics of MOSFET amplifiers. In Exercise 1, the circuit involves a NMOSFET transistor with certain parameters and resistors, and the objective is to calculate the values of I and VDS. Then, the circuit is modified by changing one of the parameters, and the new value of the resistor is calculated to maintain the same value of I.\\nThe same circuit is then simulated using SPICE, and the values of voltage and current at each node are found using the .op command. Finally, the circuit is implemented on a breadboard with a CMOS transistor and measurements are taken using a multimeter. Any discrepancies between the simulated and measured values are discussed.\\nExercise 2 involves analyzing another circuit with a PMOS transistor, calculating the value of the current and the operating region of the transistor. The circuit is then simulated using SPICE, and the results are analyzed.This homework assignment involves analyzing and simulating a MOSFET circuit in order to obtain linear amplification. The circuit is biased at VDD=10V and VGS=3.6V, and the values of gm and gmRD are calculated for the transistor in the linear amplification region. The circuit is also tested with a sinusoidal input signal and the voltage gain is calculated and compared to the hand-calculated value. Additionally, the circuit is tested with a higher input voltage and a lower input voltage to observe distortion in the output signal. Finally, a second circuit is given to design with given parameters.The task is to design a circuit and simulate it using SPICE. The circuit involves an NMOS transistor and resistors connected to a DC voltage source. The goal is to find the values of two variables and analyze the circuit using three methods: hand calculation, simulation, and implementation. The report includes the SPICE code and simulation results, as well as a discussion of the findings and personal reflections on the experiment.Sure! A summary of what exactly? Could you please clarify your question?I'm sorry, I need more information on what topic you need a summary for. Please provide me with the details so I can assist you better.\"]"
      ]
     },
     "execution_count": 17,
     "metadata": {},
     "output_type": "execute_result"
    }
   ],
   "source": [
    "paper"
   ]
  },
  {
   "cell_type": "code",
   "execution_count": 18,
   "id": "4d4bb0cf",
   "metadata": {},
   "outputs": [],
   "source": [
    "import gensim\n",
    "from gensim import corpora\n",
    "from pprint import pprint"
   ]
  },
  {
   "cell_type": "code",
   "execution_count": 19,
   "id": "e449a3c0",
   "metadata": {},
   "outputs": [],
   "source": [
    "# 創建詞袋\n",
    "texts = [[word for word in document.lower().split()] for document in paper]\n",
    "dictionary = corpora.Dictionary(texts)\n",
    "corpus = [dictionary.doc2bow(text) for text in texts]"
   ]
  },
  {
   "cell_type": "code",
   "execution_count": 20,
   "id": "3fb6cd70",
   "metadata": {},
   "outputs": [],
   "source": [
    "# 訓練 LDA 模型\n",
    "lda_model = gensim.models.ldamodel.LdaModel(corpus=corpus, id2word=dictionary, \n",
    "                                            num_topics=3, random_state=100, update_every=1, \n",
    "                                            chunksize=100, passes=10, alpha='auto', per_word_topics=True)"
   ]
  },
  {
   "cell_type": "code",
   "execution_count": 21,
   "id": "1f0943e1",
   "metadata": {},
   "outputs": [
    {
     "name": "stderr",
     "output_type": "stream",
     "text": [
      "C:\\Users\\wuher\\AppData\\Roaming\\Python\\Python310\\site-packages\\pyLDAvis\\_prepare.py:244: FutureWarning: In a future version of pandas all arguments of DataFrame.drop except for the argument 'labels' will be keyword-only.\n",
      "  by='saliency', ascending=False).head(R).drop('saliency', 1)\n"
     ]
    },
    {
     "data": {
      "text/html": [
       "\n",
       "<link rel=\"stylesheet\" type=\"text/css\" href=\"https://cdn.jsdelivr.net/gh/bmabey/pyLDAvis@3.4.0/pyLDAvis/js/ldavis.v1.0.0.css\">\n",
       "\n",
       "\n",
       "<div id=\"ldavis_el296427586515653768060022188\" style=\"background-color:white;\"></div>\n",
       "<script type=\"text/javascript\">\n",
       "\n",
       "var ldavis_el296427586515653768060022188_data = {\"mdsDat\": {\"x\": [-0.036642978981540536, -0.04849590579210767, 0.0851388847736482], \"y\": [0.066878855155422, -0.060946940479792135, -0.005931914675629905], \"topics\": [1, 2, 3], \"cluster\": [1, 1, 1], \"Freq\": [50.08001833285214, 49.919029469764666, 0.0009521973831935016]}, \"tinfo\": {\"Term\": [\"is\", \"are\", \"need\", \"students\", \"on\", \"spice\", \"simulate\", \"cmos\", \"values\", \"experiment\", \"exercises\", \"write\", \"characteristics\", \"diode\", \"circuit\", \"to\", \"with\", \"using\", \"input\", \"in\", \"voltage\", \"of\", \"a\", \"their\", \"transistor\", \"more\", \"different\", \"code\", \"the\", \"or\", \"are\", \"cmos\", \"simulated\", \"by\", \"calculated\", \"value\", \"this\", \"resistor\", \"specify\", \"spice,\", \"dc\", \"tested\", \"then\", \"finally,\", \"linear\", \"given\", \"breadboard\", \"design\", \"load\", \"complementary\", \"at\", \"compared\", \"same\", \"signal.\", \"sinusoidal\", \"switch\", \"pmos,\", \"nmos,\", \"on-resistance\", \"on\", \"is\", \"values\", \"transistor\", \"their\", \"experiment\", \"the\", \"circuit\", \"a\", \"and\", \"voltage\", \"signal\", \"input\", \"using\", \"with\", \"of\", \"to\", \"you\", \"involves\", \"can\", \"please\", \"as\", \"in\", \"what\", \"i\", \"summary\", \"provide\", \"me\", \"students\", \"exercises\", \"write\", \"diode\", \"use\", \"electronic\", \"give\", \"models\", \"regions.\", \"identify\", \"i-v\", \"process\", \"mosfets\", \"include\", \"text\", \"channel-length\", \"voltage,\", \"switch,\", \"importance\", \"threshold\", \"transconductance,\", \"related\", \"body\", \"modulation,\", \"basic\", \"of?\", \"waveforms.\", \"but\", \"analysis\", \"understanding\", \"spice\", \"simulate\", \"need\", \"different\", \"more\", \"code\", \"characteristics\", \"and\", \"to\", \"the\", \"of\", \"would\", \"in\", \"a\", \"or\", \"you\", \"me\", \"provide\", \"summary\", \"what\", \"circuit\", \"circuits\", \"as\", \"topic\", \"like\", \"with\", \"involves\", \"for\", \"ground\", \"them\", \"switching.the\", \"helped\", \"which\", \"measuring\", \"these\", \"explores\", \"transmission\", \"improving\", \"single\", \"pspice\", \"implementing\", \"why\", \"pmos)\", \"necessary\", \"wave.\", \"summary.\", \"applications.i'm\", \"behind\", \"article\", \"controlled\", \"region,\", \"knowledge\", \"ratio\", \"amplifiers.\", \"transmission.\", \"analog\", \"modified\", \"some\", \"under\", \"dciv\", \"loads,\", \"pspice9.1\", \"turn-on\", \"something,\", \"computer\", \"i'll\", \"covered\", \"pmosfets\", \"design.sure,\", \"the\", \"modulation\", \"and\", \"of\", \"a\", \"to\", \"is\", \"as\", \"with\", \"circuit\", \"in\", \"you\", \"using\", \"switches\", \"input\", \"please\", \"their\", \"text\", \"what\", \"related\", \"switch\", \"can\", \"voltage\", \"experiment\", \"i\", \"involves\", \"are\", \"provide\", \"or\", \"values\", \"nmos\", \"also\", \"more\", \"mosfet\"], \"Freq\": [16.0, 6.0, 9.0, 5.0, 7.0, 7.0, 7.0, 4.0, 6.0, 7.0, 4.0, 4.0, 7.0, 4.0, 18.0, 30.0, 11.0, 10.0, 10.0, 13.0, 8.0, 35.0, 38.0, 5.0, 5.0, 5.0, 5.0, 5.0, 84.0, 7.0, 5.980542143189889, 4.345597315311595, 2.7194601909947185, 2.7192020041947496, 2.718575060530365, 2.717698194323406, 2.7170250848073723, 2.717239670525227, 2.7159353427289155, 2.7163283224167274, 1.90423209288687, 1.9037588929074565, 1.9034960040300046, 1.903204475226066, 1.903476198309698, 1.9029756407885658, 1.903060420670454, 1.9024740858570586, 1.9027319876826347, 1.902031520624882, 1.9023783344610434, 1.9019651215913358, 1.9020122848533612, 1.9012186311691295, 1.9013699525717604, 1.9004422184356684, 1.900850016791911, 1.9004482028979193, 1.9005758714259393, 5.985717848113772, 13.333785418831653, 5.178952492064733, 4.359955180149169, 4.357606706177265, 5.9978537676098895, 45.361517125620544, 11.75744044531455, 20.75935177569919, 31.359386962604063, 6.004232064471819, 3.54087893032677, 6.821390436629987, 6.816327011616908, 7.629333876819283, 16.661746016476208, 13.415306333562725, 8.45521360529782, 5.179029435150817, 4.363867878563711, 4.367615576804763, 4.367533219205214, 5.201707697337945, 4.367678556145594, 3.5535084254713936, 2.744228170404996, 2.7419800074193934, 2.7372767900389414, 5.163413593922148, 4.359071257161396, 4.357118640373458, 4.353607679724794, 3.54219569987149, 2.7253422991293665, 2.7224071246647514, 2.7229337687620507, 2.721867413885426, 2.721771402178367, 2.719997458064216, 1.908624962315294, 1.908529518724845, 1.9079861151875557, 1.9070620735216899, 1.907773781604637, 1.9076943873084151, 1.9075607378759558, 1.907815680204611, 1.9071846446802576, 1.906872606632316, 1.9062770783960763, 1.9065134149057599, 1.9063034958184328, 1.906255347935751, 1.9062182783269603, 1.90561692689547, 1.9059217214566364, 1.9056040022425966, 1.9052550366150172, 5.997626365793814, 5.980979981009591, 7.622227394255928, 4.361677776167233, 4.360025693065888, 4.351588593293508, 6.000786230377612, 32.23140502812165, 17.422276409280737, 38.68717312663662, 19.084307232463978, 3.548323405624967, 8.447157140723197, 17.437207650019925, 5.1839833920137615, 8.464904535497244, 4.3605227950994765, 4.355225391771246, 4.3535093955512965, 5.184031113808986, 6.792445363824218, 3.5501013265553865, 4.361121021889613, 3.5474681060688886, 3.5453393731319074, 4.3701486788778965, 3.551265113430595, 3.5482634693226314, 2.8600809983997325e-05, 2.8589076512312582e-05, 2.8585519354999705e-05, 2.8583663564627034e-05, 2.8583408901422607e-05, 2.8582092238472067e-05, 2.8582100366021146e-05, 2.8579778596168033e-05, 2.857880058109572e-05, 2.8578765361716386e-05, 2.857869221377469e-05, 2.8576744311179136e-05, 2.8576611561210875e-05, 2.8575861117512728e-05, 2.8574189551585807e-05, 2.8572694082555567e-05, 2.8572531531574018e-05, 2.8571870490915723e-05, 2.8571670011371815e-05, 2.85710387717268e-05, 2.8570786817705403e-05, 2.8569608323089178e-05, 2.8568348552982183e-05, 2.856655778300213e-05, 2.85660403290442e-05, 2.856512462518148e-05, 2.8564921436454545e-05, 2.8564599043674474e-05, 2.856398405912762e-05, 2.8563791707132786e-05, 2.8600325040235704e-05, 2.8597881357146435e-05, 2.85895614560742e-05, 2.8589352848981214e-05, 2.8588488619595985e-05, 2.8587814033022558e-05, 2.8587242395404115e-05, 2.8576094107252948e-05, 2.8575430357411623e-05, 2.8574457760705363e-05, 2.857371002619024e-05, 3.3035436459550947e-05, 2.8573669388444853e-05, 3.2018162616010065e-05, 3.14790406122418e-05, 3.1259190409698086e-05, 3.104837262336239e-05, 2.9719938272576206e-05, 2.9427189373174248e-05, 2.9503769849764553e-05, 2.9543193881156e-05, 2.9438662763288513e-05, 2.9473150663206954e-05, 2.9293927369318144e-05, 2.9035530910683335e-05, 2.9258106551351008e-05, 2.9163691522901857e-05, 2.9033610099918043e-05, 2.873652108930875e-05, 2.9160949829679747e-05, 2.8730777621294055e-05, 2.872405884739007e-05, 2.906305079185942e-05, 2.906807632637228e-05, 2.904410276577697e-05, 2.8993094267767195e-05, 2.8986551590759887e-05, 2.8977697980631572e-05, 2.897451739975928e-05, 2.8951665440936655e-05, 2.894807306424444e-05, 2.894664803397287e-05, 2.8935293847911742e-05, 2.893120569072581e-05, 2.8928214752665325e-05], \"Total\": [16.0, 6.0, 9.0, 5.0, 7.0, 7.0, 7.0, 4.0, 6.0, 7.0, 4.0, 4.0, 7.0, 4.0, 18.0, 30.0, 11.0, 10.0, 10.0, 13.0, 8.0, 35.0, 38.0, 5.0, 5.0, 5.0, 5.0, 5.0, 84.0, 7.0, 6.266428668852876, 4.632166027652307, 2.9978009167252617, 2.9976887831374843, 2.997440976758517, 2.997644097125171, 2.9972351513362234, 2.997647540647039, 2.9972156545529756, 2.9978023895914747, 2.1806659273451503, 2.1808113558376645, 2.1805696544912028, 2.180496325731822, 2.180862690799728, 2.180595852402609, 2.1807048013826797, 2.1800375262903655, 2.1803591656521615, 2.17994471765064, 2.1805459672865695, 2.1802274678856386, 2.1805700338205436, 2.179929767490697, 2.180241176572027, 2.179415860595008, 2.1800217974201326, 2.180225947532521, 2.180668590648317, 7.087610685132159, 16.08168780641138, 6.269197285389562, 5.451610860471546, 5.450502630184261, 7.906654632171587, 84.04872328769362, 18.54991535233265, 38.19659068490952, 63.590824008888326, 8.726901469081227, 4.634876552177188, 10.363458878482025, 10.363130457174275, 11.99951205946703, 35.7460847279808, 30.837613791216086, 16.920147613945726, 8.730323535133003, 7.0911989589894295, 7.910717612413332, 8.7286836682842, 13.648894276723905, 9.551738830904409, 7.094461957522687, 7.097766484377348, 7.097234373708038, 7.097828499563429, 5.4671520722600615, 4.64597185084721, 4.646883326806736, 4.647115782125101, 3.825621996263605, 3.005239693325783, 3.004905175597461, 3.005721571394894, 3.0067753511752846, 3.0067813240207535, 3.006493372678318, 2.1855916634728905, 2.185626823540655, 2.185418802928479, 2.1844868254814824, 2.1853253311582113, 2.1852734244496057, 2.1853075144632452, 2.185833038603887, 2.185262316759698, 2.184922814002461, 2.1845388834588513, 2.1853214164736534, 2.18537612591261, 2.185347501774907, 2.185938062208312, 2.1856329554770557, 2.186024127795721, 2.185733493569881, 2.185892994500546, 7.105239376421352, 7.105152857366291, 9.56186683292016, 5.462207178643002, 5.461897285399614, 5.464295514074433, 7.9213990202364, 63.590824008888326, 30.837613791216086, 84.04872328769362, 35.7460847279808, 4.642899570940974, 13.648894276723905, 38.19659068490952, 7.917977731272624, 16.920147613945726, 7.097828499563429, 7.097234373708038, 7.097766484377348, 9.551738830904409, 18.54991535233265, 5.460214063630023, 8.7286836682842, 5.460558218755674, 5.460218020000113, 11.99951205946703, 8.730323535133003, 6.277887063552423, 1.3626990152087064, 1.3628118943351086, 1.3628460368799724, 1.3628638219065952, 1.3628648301795612, 1.3628773510566252, 1.3628793639801549, 1.3629013815758815, 1.362908822605755, 1.3629104105985772, 1.3629101775017014, 1.3629304446300987, 1.3629318833183672, 1.3629386986800776, 1.362955084028565, 1.362969917300562, 1.3629716971538837, 1.3629760550265355, 1.3629785590290597, 1.3629860670229565, 1.362985964231098, 1.3629988977346201, 1.3630093699086079, 1.363029108077047, 1.36303342623821, 1.3630407270819636, 1.3630425537908868, 1.363046336454062, 1.3630525301529743, 1.3630546175850207, 1.365298761171891, 1.3653219164030803, 1.3654039778753715, 1.3654046376020774, 1.3654139546585145, 1.3654211852628717, 1.365426677037119, 1.365532792159338, 1.3655411443876728, 1.3655492164545888, 1.365555573192671, 84.04872328769362, 1.3655568243734137, 63.590824008888326, 35.7460847279808, 38.19659068490952, 30.837613791216086, 16.08168780641138, 8.7286836682842, 11.99951205946703, 18.54991535233265, 13.648894276723905, 16.920147613945726, 10.363130457174275, 4.63521724551984, 10.363458878482025, 7.910717612413332, 5.450502630184261, 2.1844868254814824, 9.551738830904409, 2.1845388834588513, 2.179415860595008, 7.0911989589894295, 8.726901469081227, 7.906654632171587, 7.094461957522687, 8.730323535133003, 6.266428668852876, 7.097234373708038, 7.917977731272624, 6.269197285389562, 6.277033699265955, 4.63877972758726, 5.461897285399614, 4.638833852508063], \"Category\": [\"Default\", \"Default\", \"Default\", \"Default\", \"Default\", \"Default\", \"Default\", \"Default\", \"Default\", \"Default\", \"Default\", \"Default\", \"Default\", \"Default\", \"Default\", \"Default\", \"Default\", \"Default\", \"Default\", \"Default\", \"Default\", \"Default\", \"Default\", \"Default\", \"Default\", \"Default\", \"Default\", \"Default\", \"Default\", \"Default\", \"Topic1\", \"Topic1\", \"Topic1\", \"Topic1\", \"Topic1\", \"Topic1\", \"Topic1\", \"Topic1\", \"Topic1\", \"Topic1\", \"Topic1\", \"Topic1\", \"Topic1\", \"Topic1\", \"Topic1\", \"Topic1\", \"Topic1\", \"Topic1\", \"Topic1\", \"Topic1\", \"Topic1\", \"Topic1\", \"Topic1\", \"Topic1\", \"Topic1\", \"Topic1\", \"Topic1\", \"Topic1\", \"Topic1\", \"Topic1\", \"Topic1\", \"Topic1\", \"Topic1\", \"Topic1\", \"Topic1\", \"Topic1\", \"Topic1\", \"Topic1\", \"Topic1\", \"Topic1\", \"Topic1\", \"Topic1\", \"Topic1\", \"Topic1\", \"Topic1\", \"Topic1\", \"Topic1\", \"Topic1\", \"Topic1\", \"Topic1\", \"Topic1\", \"Topic1\", \"Topic1\", \"Topic1\", \"Topic1\", \"Topic1\", \"Topic1\", \"Topic2\", \"Topic2\", \"Topic2\", \"Topic2\", \"Topic2\", \"Topic2\", \"Topic2\", \"Topic2\", \"Topic2\", \"Topic2\", \"Topic2\", \"Topic2\", \"Topic2\", \"Topic2\", \"Topic2\", \"Topic2\", \"Topic2\", \"Topic2\", \"Topic2\", \"Topic2\", \"Topic2\", \"Topic2\", \"Topic2\", \"Topic2\", \"Topic2\", \"Topic2\", \"Topic2\", \"Topic2\", \"Topic2\", \"Topic2\", \"Topic2\", \"Topic2\", \"Topic2\", \"Topic2\", \"Topic2\", \"Topic2\", \"Topic2\", \"Topic2\", \"Topic2\", \"Topic2\", \"Topic2\", \"Topic2\", \"Topic2\", \"Topic2\", \"Topic2\", \"Topic2\", \"Topic2\", \"Topic2\", \"Topic2\", \"Topic2\", \"Topic2\", \"Topic2\", \"Topic2\", \"Topic2\", \"Topic2\", \"Topic2\", \"Topic2\", \"Topic2\", \"Topic3\", \"Topic3\", \"Topic3\", \"Topic3\", \"Topic3\", \"Topic3\", \"Topic3\", \"Topic3\", \"Topic3\", \"Topic3\", \"Topic3\", \"Topic3\", \"Topic3\", \"Topic3\", \"Topic3\", \"Topic3\", \"Topic3\", \"Topic3\", \"Topic3\", \"Topic3\", \"Topic3\", \"Topic3\", \"Topic3\", \"Topic3\", \"Topic3\", \"Topic3\", \"Topic3\", \"Topic3\", \"Topic3\", \"Topic3\", \"Topic3\", \"Topic3\", \"Topic3\", \"Topic3\", \"Topic3\", \"Topic3\", \"Topic3\", \"Topic3\", \"Topic3\", \"Topic3\", \"Topic3\", \"Topic3\", \"Topic3\", \"Topic3\", \"Topic3\", \"Topic3\", \"Topic3\", \"Topic3\", \"Topic3\", \"Topic3\", \"Topic3\", \"Topic3\", \"Topic3\", \"Topic3\", \"Topic3\", \"Topic3\", \"Topic3\", \"Topic3\", \"Topic3\", \"Topic3\", \"Topic3\", \"Topic3\", \"Topic3\", \"Topic3\", \"Topic3\", \"Topic3\", \"Topic3\", \"Topic3\", \"Topic3\", \"Topic3\", \"Topic3\", \"Topic3\", \"Topic3\", \"Topic3\", \"Topic3\"], \"logprob\": [30.0, 29.0, 28.0, 27.0, 26.0, 25.0, 24.0, 23.0, 22.0, 21.0, 20.0, 19.0, 18.0, 17.0, 16.0, 15.0, 14.0, 13.0, 12.0, 11.0, 10.0, 9.0, 8.0, 7.0, 6.0, 5.0, 4.0, 3.0, 2.0, 1.0, -4.6282, -4.9475, -5.4163, -5.4164, -5.4166, -5.4169, -5.4172, -5.4171, -5.4176, -5.4174, -5.7726, -5.7729, -5.773, -5.7732, -5.773, -5.7733, -5.7732, -5.7735, -5.7734, -5.7738, -5.7736, -5.7738, -5.7738, -5.7742, -5.7741, -5.7746, -5.7744, -5.7746, -5.7745, -4.6273, -3.8264, -4.7721, -4.9442, -4.9448, -4.6253, -2.602, -3.9522, -3.3837, -2.9712, -4.6242, -5.1523, -4.4966, -4.4974, -4.3847, -3.6036, -3.8203, -4.2819, -4.7721, -4.9433, -4.9425, -4.9425, -4.7677, -4.9425, -5.1488, -5.4072, -5.408, -5.4097, -4.7719, -4.9412, -4.9417, -4.9425, -5.1487, -5.4109, -5.412, -5.4118, -5.4122, -5.4122, -5.4128, -5.7671, -5.7671, -5.7674, -5.7679, -5.7675, -5.7676, -5.7677, -5.7675, -5.7678, -5.768, -5.7683, -5.7682, -5.7683, -5.7683, -5.7684, -5.7687, -5.7685, -5.7687, -5.7689, -4.6221, -4.6249, -4.3824, -4.9406, -4.941, -4.9429, -4.6216, -2.9405, -3.5557, -2.758, -3.4646, -5.147, -4.2796, -3.5549, -4.7679, -4.2775, -4.9409, -4.9421, -4.9425, -4.7679, -4.4977, -5.1465, -4.9407, -5.1472, -5.1478, -4.9387, -5.1462, -5.147, -6.0084, -6.0088, -6.0089, -6.009, -6.009, -6.0091, -6.0091, -6.0091, -6.0092, -6.0092, -6.0092, -6.0093, -6.0093, -6.0093, -6.0093, -6.0094, -6.0094, -6.0094, -6.0094, -6.0095, -6.0095, -6.0095, -6.0095, -6.0096, -6.0096, -6.0097, -6.0097, -6.0097, -6.0097, -6.0097, -6.0084, -6.0085, -6.0088, -6.0088, -6.0088, -6.0089, -6.0089, -6.0093, -6.0093, -6.0093, -6.0094, -5.8643, -6.0094, -5.8955, -5.9125, -5.9195, -5.9263, -5.97, -5.9799, -5.9773, -5.976, -5.9795, -5.9784, -5.9845, -5.9933, -5.9857, -5.9889, -5.9934, -6.0037, -5.989, -6.0039, -6.0041, -5.9924, -5.9922, -5.993, -5.9948, -5.995, -5.9953, -5.9954, -5.9962, -5.9963, -5.9964, -5.9968, -5.9969, -5.997], \"loglift\": [30.0, 29.0, 28.0, 27.0, 26.0, 25.0, 24.0, 23.0, 22.0, 21.0, 20.0, 19.0, 18.0, 17.0, 16.0, 15.0, 14.0, 13.0, 12.0, 11.0, 10.0, 9.0, 8.0, 7.0, 6.0, 5.0, 4.0, 3.0, 2.0, 1.0, 0.6449, 0.6277, 0.5941, 0.594, 0.5939, 0.5935, 0.5934, 0.5933, 0.593, 0.5929, 0.556, 0.5557, 0.5557, 0.5555, 0.5555, 0.5554, 0.5554, 0.5554, 0.5553, 0.5552, 0.5551, 0.555, 0.5549, 0.5548, 0.5547, 0.5546, 0.5545, 0.5542, 0.5541, 0.5226, 0.5042, 0.5005, 0.4681, 0.4678, 0.4152, 0.0748, 0.2356, 0.0818, -0.0154, 0.3176, 0.4223, 0.2733, 0.2726, 0.2387, -0.0718, -0.1408, -0.0022, 0.1694, 0.2061, 0.0975, -0.0009, -0.2731, -0.0909, 0.0002, -0.2587, -0.2595, -0.2613, 0.6376, 0.631, 0.6304, 0.6295, 0.6178, 0.597, 0.596, 0.596, 0.5952, 0.5952, 0.5946, 0.5593, 0.5592, 0.559, 0.559, 0.5589, 0.5589, 0.5588, 0.5587, 0.5587, 0.5587, 0.5585, 0.5583, 0.5581, 0.5581, 0.5578, 0.5577, 0.5576, 0.5576, 0.5574, 0.5253, 0.5225, 0.4681, 0.4698, 0.4694, 0.4671, 0.4171, 0.0152, 0.1238, -0.0811, 0.0672, 0.4259, 0.2149, -0.0894, 0.2712, 0.0022, 0.2076, 0.2064, 0.206, 0.0836, -0.3099, 0.2643, 0.0009, 0.2635, 0.2629, -0.3153, -0.2047, 0.1242, 0.7904, 0.7899, 0.7897, 0.7896, 0.7896, 0.7896, 0.7896, 0.7895, 0.7894, 0.7894, 0.7894, 0.7894, 0.7893, 0.7893, 0.7892, 0.7892, 0.7892, 0.7891, 0.7891, 0.7891, 0.7891, 0.7891, 0.789, 0.7889, 0.7889, 0.7889, 0.7889, 0.7888, 0.7888, 0.7888, 0.7884, 0.7883, 0.788, 0.788, 0.7879, 0.7879, 0.7879, 0.7874, 0.7874, 0.7874, 0.7873, -3.1874, 0.7873, -2.9398, -2.3807, -2.454, -2.2468, -1.6395, -1.0383, -1.354, -1.7882, -1.485, -1.6986, -1.2145, -0.4188, -1.2157, -0.9489, -0.5809, 0.3232, -1.1375, 0.323, 0.3251, -0.843, -1.0504, -0.9525, -0.8459, -1.0536, -0.7223, -0.8469, -0.9571, -0.7237, -0.725, -0.423, -0.5865, -0.4232]}, \"token.table\": {\"Topic\": [1, 2, 1, 2, 1, 1, 2, 1, 2, 1, 1, 1, 1, 2, 1, 2, 1, 2, 1, 2, 1, 1, 1, 2, 2, 1, 2, 1, 2, 1, 2, 1, 1, 2, 1, 1, 2, 1, 2, 1, 2, 1, 2, 1, 2, 2, 2, 2, 1, 2, 1, 1, 1, 2, 2, 1, 1, 1, 1, 2, 2, 2, 2, 1, 2, 1, 1, 2, 2, 1, 2, 1, 2, 1, 2, 1, 1, 2, 1, 1, 2, 1, 2, 1, 2, 1, 2, 2, 1, 2, 1, 2, 2, 1, 1, 2, 1, 2, 1, 1, 2, 2, 1, 2, 1, 1, 2, 1, 2, 1, 1, 2, 2, 1, 2, 1, 2, 1, 1, 2, 2, 1, 1, 1, 2, 1, 1, 2, 1, 1, 1, 1, 2, 1, 1, 2, 1, 2, 1, 2, 1, 1, 2, 1, 2, 1, 1, 2, 1, 2, 1, 2, 1, 1, 1, 1, 2, 1, 2, 1, 2, 2, 1, 2, 1, 1, 2, 2, 2, 2, 1, 2, 1, 1, 2, 1, 2, 2, 1, 2, 1, 2, 1, 1, 1, 2, 1, 2, 2, 1, 2], \"Freq\": [0.5497872879083041, 0.4450658997352938, 0.43114787022669165, 0.6467218053400374, 0.7336537934129295, 0.7336507741926662, 0.9150246385864138, 0.48749171729032814, 0.5032172565577581, 0.7336872567624002, 0.9574831721651677, 0.7336832705860845, 0.4582592464123839, 0.4582592464123839, 0.9172014853182676, 0.9151862568198557, 0.7336832152541418, 0.9151971810294627, 0.917134679912612, 0.914902985090426, 1.0007709996032665, 1.0008537359905751, 0.5640795051913255, 0.42305962889349413, 0.915195541590144, 0.2524806533404895, 0.7574419600214686, 0.6469032215012777, 0.377360212542412, 0.36628600576702913, 0.7325720115340583, 0.8635269064453841, 0.18300620773973358, 0.7320248309589343, 0.9173354750637918, 0.9174544582742588, 0.7323718049583815, 0.7336763086617719, 0.7323104134283801, 0.9171510293806893, 0.7324279995698632, 0.9174154003684862, 0.7323026756516386, 0.18307617549000293, 0.7323047019600117, 0.8607489435459733, 0.9982564807268387, 0.8609608771673004, 0.7588544433933472, 0.25295148113111576, 0.7337288035057462, 0.9172223664851883, 0.4778677873033306, 0.6371570497377742, 0.9983676105198609, 0.9171805026577364, 0.7338377652286212, 0.7337490246098379, 0.5638200647137953, 0.5638200647137953, 0.7323148925766071, 0.9978402171987716, 0.9977446567309107, 0.7337123830174644, 0.9149829674444941, 0.7337239426917354, 0.3663300410002247, 0.5861280656003595, 0.9151563980871692, 0.6754501640889723, 0.3859715223365556, 0.5727164611802473, 0.45817316894419785, 0.808372862133116, 0.1865475835691806, 0.7336600473711041, 0.36628574036315836, 0.7325714807263167, 0.9170682814820381, 0.9172800662875125, 0.7323839802752324, 0.42266448114159466, 0.5635526415221263, 0.733741740755109, 0.9980964399865425, 0.7336474404898913, 0.7323020046850488, 0.9151742696762567, 0.1830865627358344, 0.7323462509433376, 0.4311428396855961, 0.6467142595283941, 0.9150692965782948, 0.7336919086083394, 0.2091641763002055, 0.836656705200822, 0.4779327535474, 0.6372436713965333, 0.917336114756137, 0.4755765597649632, 0.5315267432667236, 0.9149390069998274, 0.846547626069013, 0.14109127101150218, 0.9171499092420072, 0.37888462203565987, 0.6314743700594332, 0.5056431282192762, 0.5056431282192762, 0.7336998935021706, 0.9174220195260557, 0.7323060845776955, 0.915084017488433, 0.4226998633599601, 0.5635998178132802, 0.7337131575128923, 0.7323836264070402, 0.7336577230977133, 0.7336706717335713, 0.99774663871292, 0.9155250177251756, 1.0007847684963167, 0.9171913623410803, 0.8630219068339672, 0.2157554767084918, 0.917460750261779, 0.14074292560268378, 0.8444575536161026, 1.000733565482107, 0.733724068179652, 0.9173297071402814, 0.7336463169551787, 0.7323747505847285, 1.000928977346957, 0.1407412118046983, 0.8444472708281898, 1.0007330738063842, 0.9145529397965062, 0.42266817408028257, 0.5635575654403767, 0.7336886046619001, 0.9176770877743246, 0.9152030031303121, 0.6472188553620963, 0.4314792369080642, 0.7337585999731467, 0.9170898687070466, 0.9155468353805156, 0.5354037305952616, 0.46401656651589335, 0.7338772717672782, 0.18346931794181956, 0.7337769828372991, 0.9171915218946145, 0.733740657045095, 1.0009224663812393, 0.9152219322417986, 0.4215630978458837, 0.5512748202600017, 0.3662629203605031, 0.7325258407210062, 0.9153641433842191, 0.7337280855834991, 0.18343202139587478, 0.7337247975899759, 0.7336528101920261, 0.7323786289045923, 0.7324404214222385, 0.9149578707794795, 1.0455816084042557, 0.6754715699978456, 0.3859837542844832, 1.0007859181405452, 0.7975502719706331, 0.15951005439412663, 0.6875292474949511, 0.3437646237474756, 0.9152172801917134, 0.7336909505077543, 0.9150667292914524, 0.4187719189995126, 0.5234648987493907, 0.7337484817685458, 0.7337087140958274, 0.6666937755763486, 0.3333468877881743, 0.21538264714119812, 0.8615305885647925, 0.8607920015820014, 0.47280911387595304, 0.47280911387595304], \"Term\": [\"a\", \"a\", \"also\", \"also\", \"amplifiers.\", \"analog\", \"analysis\", \"and\", \"and\", \"applications.i'm\", \"are\", \"article\", \"as\", \"as\", \"at\", \"basic\", \"behind\", \"body\", \"breadboard\", \"but\", \"by\", \"calculated\", \"can\", \"can\", \"channel-length\", \"characteristics\", \"characteristics\", \"circuit\", \"circuit\", \"circuits\", \"circuits\", \"cmos\", \"code\", \"code\", \"compared\", \"complementary\", \"computer\", \"controlled\", \"covered\", \"dc\", \"dciv\", \"design\", \"design.sure,\", \"different\", \"different\", \"diode\", \"electronic\", \"exercises\", \"experiment\", \"experiment\", \"explores\", \"finally,\", \"for\", \"for\", \"give\", \"given\", \"ground\", \"helped\", \"i\", \"i\", \"i'll\", \"i-v\", \"identify\", \"implementing\", \"importance\", \"improving\", \"in\", \"in\", \"include\", \"input\", \"input\", \"involves\", \"involves\", \"is\", \"is\", \"knowledge\", \"like\", \"like\", \"linear\", \"load\", \"loads,\", \"me\", \"me\", \"measuring\", \"models\", \"modified\", \"modulation\", \"modulation,\", \"more\", \"more\", \"mosfet\", \"mosfet\", \"mosfets\", \"necessary\", \"need\", \"need\", \"nmos\", \"nmos\", \"nmos,\", \"of\", \"of\", \"of?\", \"on\", \"on\", \"on-resistance\", \"or\", \"or\", \"please\", \"please\", \"pmos)\", \"pmos,\", \"pmosfets\", \"process\", \"provide\", \"provide\", \"pspice\", \"pspice9.1\", \"ratio\", \"region,\", \"regions.\", \"related\", \"resistor\", \"same\", \"signal\", \"signal\", \"signal.\", \"simulate\", \"simulate\", \"simulated\", \"single\", \"sinusoidal\", \"some\", \"something,\", \"specify\", \"spice\", \"spice\", \"spice,\", \"students\", \"summary\", \"summary\", \"summary.\", \"switch\", \"switch,\", \"switches\", \"switches\", \"switching.the\", \"tested\", \"text\", \"the\", \"the\", \"their\", \"their\", \"them\", \"then\", \"these\", \"this\", \"threshold\", \"to\", \"to\", \"topic\", \"topic\", \"transconductance,\", \"transistor\", \"transistor\", \"transmission\", \"transmission.\", \"turn-on\", \"under\", \"understanding\", \"use\", \"using\", \"using\", \"value\", \"values\", \"values\", \"voltage\", \"voltage\", \"voltage,\", \"wave.\", \"waveforms.\", \"what\", \"what\", \"which\", \"why\", \"with\", \"with\", \"would\", \"would\", \"write\", \"you\", \"you\"]}, \"R\": 30, \"lambda.step\": 0.01, \"plot.opts\": {\"xlab\": \"PC1\", \"ylab\": \"PC2\"}, \"topic.order\": [3, 1, 2]};\n",
       "\n",
       "function LDAvis_load_lib(url, callback){\n",
       "  var s = document.createElement('script');\n",
       "  s.src = url;\n",
       "  s.async = true;\n",
       "  s.onreadystatechange = s.onload = callback;\n",
       "  s.onerror = function(){console.warn(\"failed to load library \" + url);};\n",
       "  document.getElementsByTagName(\"head\")[0].appendChild(s);\n",
       "}\n",
       "\n",
       "if(typeof(LDAvis) !== \"undefined\"){\n",
       "   // already loaded: just create the visualization\n",
       "   !function(LDAvis){\n",
       "       new LDAvis(\"#\" + \"ldavis_el296427586515653768060022188\", ldavis_el296427586515653768060022188_data);\n",
       "   }(LDAvis);\n",
       "}else if(typeof define === \"function\" && define.amd){\n",
       "   // require.js is available: use it to load d3/LDAvis\n",
       "   require.config({paths: {d3: \"https://d3js.org/d3.v5\"}});\n",
       "   require([\"d3\"], function(d3){\n",
       "      window.d3 = d3;\n",
       "      LDAvis_load_lib(\"https://cdn.jsdelivr.net/gh/bmabey/pyLDAvis@3.4.0/pyLDAvis/js/ldavis.v3.0.0.js\", function(){\n",
       "        new LDAvis(\"#\" + \"ldavis_el296427586515653768060022188\", ldavis_el296427586515653768060022188_data);\n",
       "      });\n",
       "    });\n",
       "}else{\n",
       "    // require.js not available: dynamically load d3 & LDAvis\n",
       "    LDAvis_load_lib(\"https://d3js.org/d3.v5.js\", function(){\n",
       "         LDAvis_load_lib(\"https://cdn.jsdelivr.net/gh/bmabey/pyLDAvis@3.4.0/pyLDAvis/js/ldavis.v3.0.0.js\", function(){\n",
       "                 new LDAvis(\"#\" + \"ldavis_el296427586515653768060022188\", ldavis_el296427586515653768060022188_data);\n",
       "            })\n",
       "         });\n",
       "}\n",
       "</script>"
      ],
      "text/plain": [
       "<IPython.core.display.HTML object>"
      ]
     },
     "execution_count": 21,
     "metadata": {},
     "output_type": "execute_result"
    }
   ],
   "source": [
    "# 輸出主題模型分析結果\n",
    "import pyLDAvis.gensim\n",
    "pyLDAvis.enable_notebook()\n",
    "vis = pyLDAvis.gensim.prepare(lda_model, corpus, dictionary)\n",
    "pyLDAvis.display(vis)"
   ]
  },
  {
   "cell_type": "code",
   "execution_count": null,
   "id": "dc2be18e",
   "metadata": {},
   "outputs": [],
   "source": []
  },
  {
   "cell_type": "code",
   "execution_count": null,
   "id": "14d7aeb2",
   "metadata": {},
   "outputs": [],
   "source": []
  }
 ],
 "metadata": {
  "kernelspec": {
   "display_name": "Python 3 (ipykernel)",
   "language": "python",
   "name": "python3"
  },
  "language_info": {
   "codemirror_mode": {
    "name": "ipython",
    "version": 3
   },
   "file_extension": ".py",
   "mimetype": "text/x-python",
   "name": "python",
   "nbconvert_exporter": "python",
   "pygments_lexer": "ipython3",
   "version": "3.10.9"
  }
 },
 "nbformat": 4,
 "nbformat_minor": 5
}
