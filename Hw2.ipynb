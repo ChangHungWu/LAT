{
 "cells": [
  {
   "cell_type": "code",
   "execution_count": 4,
   "id": "b938939d",
   "metadata": {},
   "outputs": [],
   "source": [
    "import pandas as pd\n",
    "\n",
    "df110 = pd.read_csv('高等教育深耕計畫核定經費110年 .csv')\n",
    "df107 = pd.read_csv('高等教育深耕計畫核定經費107年.csv')\n",
    "df108 = pd.read_csv('高等教育深耕計畫核定經費108年.csv')\n",
    "df109 = pd.read_csv('高等教育深耕計畫核定經費109年.csv')"
   ]
  },
  {
   "cell_type": "code",
   "execution_count": 5,
   "id": "060aa443",
   "metadata": {},
   "outputs": [],
   "source": [
    "new = df110.groupby(['類別'])['核定經費(單位：元)'].sum().reset_index()\n",
    "new['year'] = 110\n",
    "\n",
    "new1 = df107[['類別', '核定經費(單位：元)']].groupby(['類別'])['核定經費(單位：元)'].sum().reset_index()\n",
    "new1['year'] = 107\n",
    "\n",
    "new2 = df108[['類別', '核定經費(單位：元)']].groupby(['類別'])['核定經費(單位：元)'].sum().reset_index()\n",
    "new2['year'] = 108\n",
    "\n",
    "new3 = df109[['類別', '核定經費(單位：元)']].groupby(['類別'])['核定經費(單位：元)'].sum().reset_index()\n",
    "new3['year'] = 109"
   ]
  },
  {
   "cell_type": "code",
   "execution_count": 6,
   "id": "25b12b52",
   "metadata": {},
   "outputs": [
    {
     "data": {
      "text/html": [
       "<div>\n",
       "<style scoped>\n",
       "    .dataframe tbody tr th:only-of-type {\n",
       "        vertical-align: middle;\n",
       "    }\n",
       "\n",
       "    .dataframe tbody tr th {\n",
       "        vertical-align: top;\n",
       "    }\n",
       "\n",
       "    .dataframe thead th {\n",
       "        text-align: right;\n",
       "    }\n",
       "</style>\n",
       "<table border=\"1\" class=\"dataframe\">\n",
       "  <thead>\n",
       "    <tr style=\"text-align: right;\">\n",
       "      <th></th>\n",
       "      <th>類別</th>\n",
       "      <th>核定經費(單位：元)</th>\n",
       "      <th>year</th>\n",
       "    </tr>\n",
       "  </thead>\n",
       "  <tbody>\n",
       "    <tr>\n",
       "      <th>0</th>\n",
       "      <td>一般大學</td>\n",
       "      <td>12207729347</td>\n",
       "      <td>110</td>\n",
       "    </tr>\n",
       "    <tr>\n",
       "      <th>1</th>\n",
       "      <td>技專校院</td>\n",
       "      <td>5063037696</td>\n",
       "      <td>110</td>\n",
       "    </tr>\n",
       "    <tr>\n",
       "      <th>0</th>\n",
       "      <td>一般大學</td>\n",
       "      <td>12323060185</td>\n",
       "      <td>109</td>\n",
       "    </tr>\n",
       "    <tr>\n",
       "      <th>1</th>\n",
       "      <td>技專校院</td>\n",
       "      <td>5105867254</td>\n",
       "      <td>109</td>\n",
       "    </tr>\n",
       "    <tr>\n",
       "      <th>0</th>\n",
       "      <td>一般大學</td>\n",
       "      <td>11782638025</td>\n",
       "      <td>108</td>\n",
       "    </tr>\n",
       "    <tr>\n",
       "      <th>1</th>\n",
       "      <td>技專校院</td>\n",
       "      <td>4722227968</td>\n",
       "      <td>108</td>\n",
       "    </tr>\n",
       "    <tr>\n",
       "      <th>0</th>\n",
       "      <td>一般大學</td>\n",
       "      <td>10689720000</td>\n",
       "      <td>107</td>\n",
       "    </tr>\n",
       "    <tr>\n",
       "      <th>1</th>\n",
       "      <td>技專校院</td>\n",
       "      <td>4649944895</td>\n",
       "      <td>107</td>\n",
       "    </tr>\n",
       "  </tbody>\n",
       "</table>\n",
       "</div>"
      ],
      "text/plain": [
       "     類別   核定經費(單位：元)  year\n",
       "0  一般大學  12207729347   110\n",
       "1  技專校院   5063037696   110\n",
       "0  一般大學  12323060185   109\n",
       "1  技專校院   5105867254   109\n",
       "0  一般大學  11782638025   108\n",
       "1  技專校院   4722227968   108\n",
       "0  一般大學  10689720000   107\n",
       "1  技專校院   4649944895   107"
      ]
     },
     "execution_count": 6,
     "metadata": {},
     "output_type": "execute_result"
    }
   ],
   "source": [
    "frames = [new, new3, new2, new1]\n",
    "\n",
    "result = pd.concat(frames)\n",
    "\n",
    "%matplotlib inline\n",
    "\n",
    "result"
   ]
  },
  {
   "cell_type": "code",
   "execution_count": 7,
   "id": "0f063dea",
   "metadata": {},
   "outputs": [
    {
     "data": {
      "text/html": [
       "<div>\n",
       "<style scoped>\n",
       "    .dataframe tbody tr th:only-of-type {\n",
       "        vertical-align: middle;\n",
       "    }\n",
       "\n",
       "    .dataframe tbody tr th {\n",
       "        vertical-align: top;\n",
       "    }\n",
       "\n",
       "    .dataframe thead th {\n",
       "        text-align: right;\n",
       "    }\n",
       "</style>\n",
       "<table border=\"1\" class=\"dataframe\">\n",
       "  <thead>\n",
       "    <tr style=\"text-align: right;\">\n",
       "      <th></th>\n",
       "      <th>類別</th>\n",
       "      <th>核定經費(單位：元)</th>\n",
       "      <th>year</th>\n",
       "    </tr>\n",
       "  </thead>\n",
       "  <tbody>\n",
       "    <tr>\n",
       "      <th>0</th>\n",
       "      <td>一般大學</td>\n",
       "      <td>12207729347</td>\n",
       "      <td>110</td>\n",
       "    </tr>\n",
       "    <tr>\n",
       "      <th>1</th>\n",
       "      <td>技專校院</td>\n",
       "      <td>5063037696</td>\n",
       "      <td>110</td>\n",
       "    </tr>\n",
       "    <tr>\n",
       "      <th>2</th>\n",
       "      <td>一般大學</td>\n",
       "      <td>12323060185</td>\n",
       "      <td>109</td>\n",
       "    </tr>\n",
       "    <tr>\n",
       "      <th>3</th>\n",
       "      <td>技專校院</td>\n",
       "      <td>5105867254</td>\n",
       "      <td>109</td>\n",
       "    </tr>\n",
       "    <tr>\n",
       "      <th>4</th>\n",
       "      <td>一般大學</td>\n",
       "      <td>11782638025</td>\n",
       "      <td>108</td>\n",
       "    </tr>\n",
       "    <tr>\n",
       "      <th>5</th>\n",
       "      <td>技專校院</td>\n",
       "      <td>4722227968</td>\n",
       "      <td>108</td>\n",
       "    </tr>\n",
       "    <tr>\n",
       "      <th>6</th>\n",
       "      <td>一般大學</td>\n",
       "      <td>10689720000</td>\n",
       "      <td>107</td>\n",
       "    </tr>\n",
       "    <tr>\n",
       "      <th>7</th>\n",
       "      <td>技專校院</td>\n",
       "      <td>4649944895</td>\n",
       "      <td>107</td>\n",
       "    </tr>\n",
       "  </tbody>\n",
       "</table>\n",
       "</div>"
      ],
      "text/plain": [
       "     類別   核定經費(單位：元)  year\n",
       "0  一般大學  12207729347   110\n",
       "1  技專校院   5063037696   110\n",
       "2  一般大學  12323060185   109\n",
       "3  技專校院   5105867254   109\n",
       "4  一般大學  11782638025   108\n",
       "5  技專校院   4722227968   108\n",
       "6  一般大學  10689720000   107\n",
       "7  技專校院   4649944895   107"
      ]
     },
     "execution_count": 7,
     "metadata": {},
     "output_type": "execute_result"
    }
   ],
   "source": [
    "r=result.reset_index()\n",
    "rr=r.drop(['index'],axis=1)\n",
    "rr"
   ]
  },
  {
   "cell_type": "code",
   "execution_count": 9,
   "id": "4d7c765c",
   "metadata": {},
   "outputs": [],
   "source": [
    "temp110 = df110[['類別', '學校名稱', '核定經費(單位：元)']]\n",
    "temp109 = df109[['類別', '學校名稱', '核定經費(單位：元)']]\n",
    "temp108 = df108[['類別', '學校名稱', '核定經費(單位：元)']]\n",
    "temp107 = df107[['類別', '學校名稱', '核定經費(單位：元)']]"
   ]
  },
  {
   "cell_type": "code",
   "execution_count": 18,
   "id": "3083642c",
   "metadata": {},
   "outputs": [
    {
     "data": {
      "application/vnd.plotly.v1+json": {
       "config": {
        "plotlyServerURL": "https://plot.ly"
       },
       "data": [
        {
         "alignmentgroup": "True",
         "hovertemplate": "類別=一般大學<br>year=%{x}<br>核定經費(單位：元)=%{y}<extra></extra>",
         "legendgroup": "一般大學",
         "marker": {
          "color": "#636efa",
          "pattern": {
           "shape": ""
          }
         },
         "name": "一般大學",
         "offsetgroup": "一般大學",
         "orientation": "v",
         "showlegend": true,
         "textposition": "auto",
         "type": "bar",
         "x": [
          110,
          109,
          108,
          107
         ],
         "xaxis": "x",
         "y": [
          12207729347,
          12323060185,
          11782638025,
          10689720000
         ],
         "yaxis": "y"
        },
        {
         "alignmentgroup": "True",
         "hovertemplate": "類別=技專校院<br>year=%{x}<br>核定經費(單位：元)=%{y}<extra></extra>",
         "legendgroup": "技專校院",
         "marker": {
          "color": "#EF553B",
          "pattern": {
           "shape": ""
          }
         },
         "name": "技專校院",
         "offsetgroup": "技專校院",
         "orientation": "v",
         "showlegend": true,
         "textposition": "auto",
         "type": "bar",
         "x": [
          110,
          109,
          108,
          107
         ],
         "xaxis": "x",
         "y": [
          5063037696,
          5105867254,
          4722227968,
          4649944895
         ],
         "yaxis": "y"
        }
       ],
       "layout": {
        "barmode": "group",
        "legend": {
         "title": {
          "text": "類別"
         },
         "tracegroupgap": 0
        },
        "margin": {
         "t": 60
        },
        "template": {
         "data": {
          "bar": [
           {
            "error_x": {
             "color": "#2a3f5f"
            },
            "error_y": {
             "color": "#2a3f5f"
            },
            "marker": {
             "line": {
              "color": "#E5ECF6",
              "width": 0.5
             },
             "pattern": {
              "fillmode": "overlay",
              "size": 10,
              "solidity": 0.2
             }
            },
            "type": "bar"
           }
          ],
          "barpolar": [
           {
            "marker": {
             "line": {
              "color": "#E5ECF6",
              "width": 0.5
             },
             "pattern": {
              "fillmode": "overlay",
              "size": 10,
              "solidity": 0.2
             }
            },
            "type": "barpolar"
           }
          ],
          "carpet": [
           {
            "aaxis": {
             "endlinecolor": "#2a3f5f",
             "gridcolor": "white",
             "linecolor": "white",
             "minorgridcolor": "white",
             "startlinecolor": "#2a3f5f"
            },
            "baxis": {
             "endlinecolor": "#2a3f5f",
             "gridcolor": "white",
             "linecolor": "white",
             "minorgridcolor": "white",
             "startlinecolor": "#2a3f5f"
            },
            "type": "carpet"
           }
          ],
          "choropleth": [
           {
            "colorbar": {
             "outlinewidth": 0,
             "ticks": ""
            },
            "type": "choropleth"
           }
          ],
          "contour": [
           {
            "colorbar": {
             "outlinewidth": 0,
             "ticks": ""
            },
            "colorscale": [
             [
              0,
              "#0d0887"
             ],
             [
              0.1111111111111111,
              "#46039f"
             ],
             [
              0.2222222222222222,
              "#7201a8"
             ],
             [
              0.3333333333333333,
              "#9c179e"
             ],
             [
              0.4444444444444444,
              "#bd3786"
             ],
             [
              0.5555555555555556,
              "#d8576b"
             ],
             [
              0.6666666666666666,
              "#ed7953"
             ],
             [
              0.7777777777777778,
              "#fb9f3a"
             ],
             [
              0.8888888888888888,
              "#fdca26"
             ],
             [
              1,
              "#f0f921"
             ]
            ],
            "type": "contour"
           }
          ],
          "contourcarpet": [
           {
            "colorbar": {
             "outlinewidth": 0,
             "ticks": ""
            },
            "type": "contourcarpet"
           }
          ],
          "heatmap": [
           {
            "colorbar": {
             "outlinewidth": 0,
             "ticks": ""
            },
            "colorscale": [
             [
              0,
              "#0d0887"
             ],
             [
              0.1111111111111111,
              "#46039f"
             ],
             [
              0.2222222222222222,
              "#7201a8"
             ],
             [
              0.3333333333333333,
              "#9c179e"
             ],
             [
              0.4444444444444444,
              "#bd3786"
             ],
             [
              0.5555555555555556,
              "#d8576b"
             ],
             [
              0.6666666666666666,
              "#ed7953"
             ],
             [
              0.7777777777777778,
              "#fb9f3a"
             ],
             [
              0.8888888888888888,
              "#fdca26"
             ],
             [
              1,
              "#f0f921"
             ]
            ],
            "type": "heatmap"
           }
          ],
          "heatmapgl": [
           {
            "colorbar": {
             "outlinewidth": 0,
             "ticks": ""
            },
            "colorscale": [
             [
              0,
              "#0d0887"
             ],
             [
              0.1111111111111111,
              "#46039f"
             ],
             [
              0.2222222222222222,
              "#7201a8"
             ],
             [
              0.3333333333333333,
              "#9c179e"
             ],
             [
              0.4444444444444444,
              "#bd3786"
             ],
             [
              0.5555555555555556,
              "#d8576b"
             ],
             [
              0.6666666666666666,
              "#ed7953"
             ],
             [
              0.7777777777777778,
              "#fb9f3a"
             ],
             [
              0.8888888888888888,
              "#fdca26"
             ],
             [
              1,
              "#f0f921"
             ]
            ],
            "type": "heatmapgl"
           }
          ],
          "histogram": [
           {
            "marker": {
             "pattern": {
              "fillmode": "overlay",
              "size": 10,
              "solidity": 0.2
             }
            },
            "type": "histogram"
           }
          ],
          "histogram2d": [
           {
            "colorbar": {
             "outlinewidth": 0,
             "ticks": ""
            },
            "colorscale": [
             [
              0,
              "#0d0887"
             ],
             [
              0.1111111111111111,
              "#46039f"
             ],
             [
              0.2222222222222222,
              "#7201a8"
             ],
             [
              0.3333333333333333,
              "#9c179e"
             ],
             [
              0.4444444444444444,
              "#bd3786"
             ],
             [
              0.5555555555555556,
              "#d8576b"
             ],
             [
              0.6666666666666666,
              "#ed7953"
             ],
             [
              0.7777777777777778,
              "#fb9f3a"
             ],
             [
              0.8888888888888888,
              "#fdca26"
             ],
             [
              1,
              "#f0f921"
             ]
            ],
            "type": "histogram2d"
           }
          ],
          "histogram2dcontour": [
           {
            "colorbar": {
             "outlinewidth": 0,
             "ticks": ""
            },
            "colorscale": [
             [
              0,
              "#0d0887"
             ],
             [
              0.1111111111111111,
              "#46039f"
             ],
             [
              0.2222222222222222,
              "#7201a8"
             ],
             [
              0.3333333333333333,
              "#9c179e"
             ],
             [
              0.4444444444444444,
              "#bd3786"
             ],
             [
              0.5555555555555556,
              "#d8576b"
             ],
             [
              0.6666666666666666,
              "#ed7953"
             ],
             [
              0.7777777777777778,
              "#fb9f3a"
             ],
             [
              0.8888888888888888,
              "#fdca26"
             ],
             [
              1,
              "#f0f921"
             ]
            ],
            "type": "histogram2dcontour"
           }
          ],
          "mesh3d": [
           {
            "colorbar": {
             "outlinewidth": 0,
             "ticks": ""
            },
            "type": "mesh3d"
           }
          ],
          "parcoords": [
           {
            "line": {
             "colorbar": {
              "outlinewidth": 0,
              "ticks": ""
             }
            },
            "type": "parcoords"
           }
          ],
          "pie": [
           {
            "automargin": true,
            "type": "pie"
           }
          ],
          "scatter": [
           {
            "fillpattern": {
             "fillmode": "overlay",
             "size": 10,
             "solidity": 0.2
            },
            "type": "scatter"
           }
          ],
          "scatter3d": [
           {
            "line": {
             "colorbar": {
              "outlinewidth": 0,
              "ticks": ""
             }
            },
            "marker": {
             "colorbar": {
              "outlinewidth": 0,
              "ticks": ""
             }
            },
            "type": "scatter3d"
           }
          ],
          "scattercarpet": [
           {
            "marker": {
             "colorbar": {
              "outlinewidth": 0,
              "ticks": ""
             }
            },
            "type": "scattercarpet"
           }
          ],
          "scattergeo": [
           {
            "marker": {
             "colorbar": {
              "outlinewidth": 0,
              "ticks": ""
             }
            },
            "type": "scattergeo"
           }
          ],
          "scattergl": [
           {
            "marker": {
             "colorbar": {
              "outlinewidth": 0,
              "ticks": ""
             }
            },
            "type": "scattergl"
           }
          ],
          "scattermapbox": [
           {
            "marker": {
             "colorbar": {
              "outlinewidth": 0,
              "ticks": ""
             }
            },
            "type": "scattermapbox"
           }
          ],
          "scatterpolar": [
           {
            "marker": {
             "colorbar": {
              "outlinewidth": 0,
              "ticks": ""
             }
            },
            "type": "scatterpolar"
           }
          ],
          "scatterpolargl": [
           {
            "marker": {
             "colorbar": {
              "outlinewidth": 0,
              "ticks": ""
             }
            },
            "type": "scatterpolargl"
           }
          ],
          "scatterternary": [
           {
            "marker": {
             "colorbar": {
              "outlinewidth": 0,
              "ticks": ""
             }
            },
            "type": "scatterternary"
           }
          ],
          "surface": [
           {
            "colorbar": {
             "outlinewidth": 0,
             "ticks": ""
            },
            "colorscale": [
             [
              0,
              "#0d0887"
             ],
             [
              0.1111111111111111,
              "#46039f"
             ],
             [
              0.2222222222222222,
              "#7201a8"
             ],
             [
              0.3333333333333333,
              "#9c179e"
             ],
             [
              0.4444444444444444,
              "#bd3786"
             ],
             [
              0.5555555555555556,
              "#d8576b"
             ],
             [
              0.6666666666666666,
              "#ed7953"
             ],
             [
              0.7777777777777778,
              "#fb9f3a"
             ],
             [
              0.8888888888888888,
              "#fdca26"
             ],
             [
              1,
              "#f0f921"
             ]
            ],
            "type": "surface"
           }
          ],
          "table": [
           {
            "cells": {
             "fill": {
              "color": "#EBF0F8"
             },
             "line": {
              "color": "white"
             }
            },
            "header": {
             "fill": {
              "color": "#C8D4E3"
             },
             "line": {
              "color": "white"
             }
            },
            "type": "table"
           }
          ]
         },
         "layout": {
          "annotationdefaults": {
           "arrowcolor": "#2a3f5f",
           "arrowhead": 0,
           "arrowwidth": 1
          },
          "autotypenumbers": "strict",
          "coloraxis": {
           "colorbar": {
            "outlinewidth": 0,
            "ticks": ""
           }
          },
          "colorscale": {
           "diverging": [
            [
             0,
             "#8e0152"
            ],
            [
             0.1,
             "#c51b7d"
            ],
            [
             0.2,
             "#de77ae"
            ],
            [
             0.3,
             "#f1b6da"
            ],
            [
             0.4,
             "#fde0ef"
            ],
            [
             0.5,
             "#f7f7f7"
            ],
            [
             0.6,
             "#e6f5d0"
            ],
            [
             0.7,
             "#b8e186"
            ],
            [
             0.8,
             "#7fbc41"
            ],
            [
             0.9,
             "#4d9221"
            ],
            [
             1,
             "#276419"
            ]
           ],
           "sequential": [
            [
             0,
             "#0d0887"
            ],
            [
             0.1111111111111111,
             "#46039f"
            ],
            [
             0.2222222222222222,
             "#7201a8"
            ],
            [
             0.3333333333333333,
             "#9c179e"
            ],
            [
             0.4444444444444444,
             "#bd3786"
            ],
            [
             0.5555555555555556,
             "#d8576b"
            ],
            [
             0.6666666666666666,
             "#ed7953"
            ],
            [
             0.7777777777777778,
             "#fb9f3a"
            ],
            [
             0.8888888888888888,
             "#fdca26"
            ],
            [
             1,
             "#f0f921"
            ]
           ],
           "sequentialminus": [
            [
             0,
             "#0d0887"
            ],
            [
             0.1111111111111111,
             "#46039f"
            ],
            [
             0.2222222222222222,
             "#7201a8"
            ],
            [
             0.3333333333333333,
             "#9c179e"
            ],
            [
             0.4444444444444444,
             "#bd3786"
            ],
            [
             0.5555555555555556,
             "#d8576b"
            ],
            [
             0.6666666666666666,
             "#ed7953"
            ],
            [
             0.7777777777777778,
             "#fb9f3a"
            ],
            [
             0.8888888888888888,
             "#fdca26"
            ],
            [
             1,
             "#f0f921"
            ]
           ]
          },
          "colorway": [
           "#636efa",
           "#EF553B",
           "#00cc96",
           "#ab63fa",
           "#FFA15A",
           "#19d3f3",
           "#FF6692",
           "#B6E880",
           "#FF97FF",
           "#FECB52"
          ],
          "font": {
           "color": "#2a3f5f"
          },
          "geo": {
           "bgcolor": "white",
           "lakecolor": "white",
           "landcolor": "#E5ECF6",
           "showlakes": true,
           "showland": true,
           "subunitcolor": "white"
          },
          "hoverlabel": {
           "align": "left"
          },
          "hovermode": "closest",
          "mapbox": {
           "style": "light"
          },
          "paper_bgcolor": "white",
          "plot_bgcolor": "#E5ECF6",
          "polar": {
           "angularaxis": {
            "gridcolor": "white",
            "linecolor": "white",
            "ticks": ""
           },
           "bgcolor": "#E5ECF6",
           "radialaxis": {
            "gridcolor": "white",
            "linecolor": "white",
            "ticks": ""
           }
          },
          "scene": {
           "xaxis": {
            "backgroundcolor": "#E5ECF6",
            "gridcolor": "white",
            "gridwidth": 2,
            "linecolor": "white",
            "showbackground": true,
            "ticks": "",
            "zerolinecolor": "white"
           },
           "yaxis": {
            "backgroundcolor": "#E5ECF6",
            "gridcolor": "white",
            "gridwidth": 2,
            "linecolor": "white",
            "showbackground": true,
            "ticks": "",
            "zerolinecolor": "white"
           },
           "zaxis": {
            "backgroundcolor": "#E5ECF6",
            "gridcolor": "white",
            "gridwidth": 2,
            "linecolor": "white",
            "showbackground": true,
            "ticks": "",
            "zerolinecolor": "white"
           }
          },
          "shapedefaults": {
           "line": {
            "color": "#2a3f5f"
           }
          },
          "ternary": {
           "aaxis": {
            "gridcolor": "white",
            "linecolor": "white",
            "ticks": ""
           },
           "baxis": {
            "gridcolor": "white",
            "linecolor": "white",
            "ticks": ""
           },
           "bgcolor": "#E5ECF6",
           "caxis": {
            "gridcolor": "white",
            "linecolor": "white",
            "ticks": ""
           }
          },
          "title": {
           "x": 0.05
          },
          "xaxis": {
           "automargin": true,
           "gridcolor": "white",
           "linecolor": "white",
           "ticks": "",
           "title": {
            "standoff": 15
           },
           "zerolinecolor": "white",
           "zerolinewidth": 2
          },
          "yaxis": {
           "automargin": true,
           "gridcolor": "white",
           "linecolor": "white",
           "ticks": "",
           "title": {
            "standoff": 15
           },
           "zerolinecolor": "white",
           "zerolinewidth": 2
          }
         }
        },
        "xaxis": {
         "anchor": "y",
         "domain": [
          0,
          1
         ],
         "title": {
          "text": "year"
         }
        },
        "yaxis": {
         "anchor": "x",
         "domain": [
          0,
          1
         ],
         "title": {
          "text": "核定經費(單位：元)"
         }
        }
       }
      },
      "text/html": [
       "<div>                            <div id=\"13746ba3-e1b7-47cd-b216-14191b985161\" class=\"plotly-graph-div\" style=\"height:525px; width:100%;\"></div>            <script type=\"text/javascript\">                require([\"plotly\"], function(Plotly) {                    window.PLOTLYENV=window.PLOTLYENV || {};                                    if (document.getElementById(\"13746ba3-e1b7-47cd-b216-14191b985161\")) {                    Plotly.newPlot(                        \"13746ba3-e1b7-47cd-b216-14191b985161\",                        [{\"alignmentgroup\":\"True\",\"hovertemplate\":\"\\u985e\\u5225=\\u4e00\\u822c\\u5927\\u5b78<br>year=%{x}<br>\\u6838\\u5b9a\\u7d93\\u8cbb(\\u55ae\\u4f4d\\uff1a\\u5143)=%{y}<extra></extra>\",\"legendgroup\":\"\\u4e00\\u822c\\u5927\\u5b78\",\"marker\":{\"color\":\"#636efa\",\"pattern\":{\"shape\":\"\"}},\"name\":\"\\u4e00\\u822c\\u5927\\u5b78\",\"offsetgroup\":\"\\u4e00\\u822c\\u5927\\u5b78\",\"orientation\":\"v\",\"showlegend\":true,\"textposition\":\"auto\",\"x\":[110,109,108,107],\"xaxis\":\"x\",\"y\":[12207729347,12323060185,11782638025,10689720000],\"yaxis\":\"y\",\"type\":\"bar\"},{\"alignmentgroup\":\"True\",\"hovertemplate\":\"\\u985e\\u5225=\\u6280\\u5c08\\u6821\\u9662<br>year=%{x}<br>\\u6838\\u5b9a\\u7d93\\u8cbb(\\u55ae\\u4f4d\\uff1a\\u5143)=%{y}<extra></extra>\",\"legendgroup\":\"\\u6280\\u5c08\\u6821\\u9662\",\"marker\":{\"color\":\"#EF553B\",\"pattern\":{\"shape\":\"\"}},\"name\":\"\\u6280\\u5c08\\u6821\\u9662\",\"offsetgroup\":\"\\u6280\\u5c08\\u6821\\u9662\",\"orientation\":\"v\",\"showlegend\":true,\"textposition\":\"auto\",\"x\":[110,109,108,107],\"xaxis\":\"x\",\"y\":[5063037696,5105867254,4722227968,4649944895],\"yaxis\":\"y\",\"type\":\"bar\"}],                        {\"template\":{\"data\":{\"histogram2dcontour\":[{\"type\":\"histogram2dcontour\",\"colorbar\":{\"outlinewidth\":0,\"ticks\":\"\"},\"colorscale\":[[0.0,\"#0d0887\"],[0.1111111111111111,\"#46039f\"],[0.2222222222222222,\"#7201a8\"],[0.3333333333333333,\"#9c179e\"],[0.4444444444444444,\"#bd3786\"],[0.5555555555555556,\"#d8576b\"],[0.6666666666666666,\"#ed7953\"],[0.7777777777777778,\"#fb9f3a\"],[0.8888888888888888,\"#fdca26\"],[1.0,\"#f0f921\"]]}],\"choropleth\":[{\"type\":\"choropleth\",\"colorbar\":{\"outlinewidth\":0,\"ticks\":\"\"}}],\"histogram2d\":[{\"type\":\"histogram2d\",\"colorbar\":{\"outlinewidth\":0,\"ticks\":\"\"},\"colorscale\":[[0.0,\"#0d0887\"],[0.1111111111111111,\"#46039f\"],[0.2222222222222222,\"#7201a8\"],[0.3333333333333333,\"#9c179e\"],[0.4444444444444444,\"#bd3786\"],[0.5555555555555556,\"#d8576b\"],[0.6666666666666666,\"#ed7953\"],[0.7777777777777778,\"#fb9f3a\"],[0.8888888888888888,\"#fdca26\"],[1.0,\"#f0f921\"]]}],\"heatmap\":[{\"type\":\"heatmap\",\"colorbar\":{\"outlinewidth\":0,\"ticks\":\"\"},\"colorscale\":[[0.0,\"#0d0887\"],[0.1111111111111111,\"#46039f\"],[0.2222222222222222,\"#7201a8\"],[0.3333333333333333,\"#9c179e\"],[0.4444444444444444,\"#bd3786\"],[0.5555555555555556,\"#d8576b\"],[0.6666666666666666,\"#ed7953\"],[0.7777777777777778,\"#fb9f3a\"],[0.8888888888888888,\"#fdca26\"],[1.0,\"#f0f921\"]]}],\"heatmapgl\":[{\"type\":\"heatmapgl\",\"colorbar\":{\"outlinewidth\":0,\"ticks\":\"\"},\"colorscale\":[[0.0,\"#0d0887\"],[0.1111111111111111,\"#46039f\"],[0.2222222222222222,\"#7201a8\"],[0.3333333333333333,\"#9c179e\"],[0.4444444444444444,\"#bd3786\"],[0.5555555555555556,\"#d8576b\"],[0.6666666666666666,\"#ed7953\"],[0.7777777777777778,\"#fb9f3a\"],[0.8888888888888888,\"#fdca26\"],[1.0,\"#f0f921\"]]}],\"contourcarpet\":[{\"type\":\"contourcarpet\",\"colorbar\":{\"outlinewidth\":0,\"ticks\":\"\"}}],\"contour\":[{\"type\":\"contour\",\"colorbar\":{\"outlinewidth\":0,\"ticks\":\"\"},\"colorscale\":[[0.0,\"#0d0887\"],[0.1111111111111111,\"#46039f\"],[0.2222222222222222,\"#7201a8\"],[0.3333333333333333,\"#9c179e\"],[0.4444444444444444,\"#bd3786\"],[0.5555555555555556,\"#d8576b\"],[0.6666666666666666,\"#ed7953\"],[0.7777777777777778,\"#fb9f3a\"],[0.8888888888888888,\"#fdca26\"],[1.0,\"#f0f921\"]]}],\"surface\":[{\"type\":\"surface\",\"colorbar\":{\"outlinewidth\":0,\"ticks\":\"\"},\"colorscale\":[[0.0,\"#0d0887\"],[0.1111111111111111,\"#46039f\"],[0.2222222222222222,\"#7201a8\"],[0.3333333333333333,\"#9c179e\"],[0.4444444444444444,\"#bd3786\"],[0.5555555555555556,\"#d8576b\"],[0.6666666666666666,\"#ed7953\"],[0.7777777777777778,\"#fb9f3a\"],[0.8888888888888888,\"#fdca26\"],[1.0,\"#f0f921\"]]}],\"mesh3d\":[{\"type\":\"mesh3d\",\"colorbar\":{\"outlinewidth\":0,\"ticks\":\"\"}}],\"scatter\":[{\"fillpattern\":{\"fillmode\":\"overlay\",\"size\":10,\"solidity\":0.2},\"type\":\"scatter\"}],\"parcoords\":[{\"type\":\"parcoords\",\"line\":{\"colorbar\":{\"outlinewidth\":0,\"ticks\":\"\"}}}],\"scatterpolargl\":[{\"type\":\"scatterpolargl\",\"marker\":{\"colorbar\":{\"outlinewidth\":0,\"ticks\":\"\"}}}],\"bar\":[{\"error_x\":{\"color\":\"#2a3f5f\"},\"error_y\":{\"color\":\"#2a3f5f\"},\"marker\":{\"line\":{\"color\":\"#E5ECF6\",\"width\":0.5},\"pattern\":{\"fillmode\":\"overlay\",\"size\":10,\"solidity\":0.2}},\"type\":\"bar\"}],\"scattergeo\":[{\"type\":\"scattergeo\",\"marker\":{\"colorbar\":{\"outlinewidth\":0,\"ticks\":\"\"}}}],\"scatterpolar\":[{\"type\":\"scatterpolar\",\"marker\":{\"colorbar\":{\"outlinewidth\":0,\"ticks\":\"\"}}}],\"histogram\":[{\"marker\":{\"pattern\":{\"fillmode\":\"overlay\",\"size\":10,\"solidity\":0.2}},\"type\":\"histogram\"}],\"scattergl\":[{\"type\":\"scattergl\",\"marker\":{\"colorbar\":{\"outlinewidth\":0,\"ticks\":\"\"}}}],\"scatter3d\":[{\"type\":\"scatter3d\",\"line\":{\"colorbar\":{\"outlinewidth\":0,\"ticks\":\"\"}},\"marker\":{\"colorbar\":{\"outlinewidth\":0,\"ticks\":\"\"}}}],\"scattermapbox\":[{\"type\":\"scattermapbox\",\"marker\":{\"colorbar\":{\"outlinewidth\":0,\"ticks\":\"\"}}}],\"scatterternary\":[{\"type\":\"scatterternary\",\"marker\":{\"colorbar\":{\"outlinewidth\":0,\"ticks\":\"\"}}}],\"scattercarpet\":[{\"type\":\"scattercarpet\",\"marker\":{\"colorbar\":{\"outlinewidth\":0,\"ticks\":\"\"}}}],\"carpet\":[{\"aaxis\":{\"endlinecolor\":\"#2a3f5f\",\"gridcolor\":\"white\",\"linecolor\":\"white\",\"minorgridcolor\":\"white\",\"startlinecolor\":\"#2a3f5f\"},\"baxis\":{\"endlinecolor\":\"#2a3f5f\",\"gridcolor\":\"white\",\"linecolor\":\"white\",\"minorgridcolor\":\"white\",\"startlinecolor\":\"#2a3f5f\"},\"type\":\"carpet\"}],\"table\":[{\"cells\":{\"fill\":{\"color\":\"#EBF0F8\"},\"line\":{\"color\":\"white\"}},\"header\":{\"fill\":{\"color\":\"#C8D4E3\"},\"line\":{\"color\":\"white\"}},\"type\":\"table\"}],\"barpolar\":[{\"marker\":{\"line\":{\"color\":\"#E5ECF6\",\"width\":0.5},\"pattern\":{\"fillmode\":\"overlay\",\"size\":10,\"solidity\":0.2}},\"type\":\"barpolar\"}],\"pie\":[{\"automargin\":true,\"type\":\"pie\"}]},\"layout\":{\"autotypenumbers\":\"strict\",\"colorway\":[\"#636efa\",\"#EF553B\",\"#00cc96\",\"#ab63fa\",\"#FFA15A\",\"#19d3f3\",\"#FF6692\",\"#B6E880\",\"#FF97FF\",\"#FECB52\"],\"font\":{\"color\":\"#2a3f5f\"},\"hovermode\":\"closest\",\"hoverlabel\":{\"align\":\"left\"},\"paper_bgcolor\":\"white\",\"plot_bgcolor\":\"#E5ECF6\",\"polar\":{\"bgcolor\":\"#E5ECF6\",\"angularaxis\":{\"gridcolor\":\"white\",\"linecolor\":\"white\",\"ticks\":\"\"},\"radialaxis\":{\"gridcolor\":\"white\",\"linecolor\":\"white\",\"ticks\":\"\"}},\"ternary\":{\"bgcolor\":\"#E5ECF6\",\"aaxis\":{\"gridcolor\":\"white\",\"linecolor\":\"white\",\"ticks\":\"\"},\"baxis\":{\"gridcolor\":\"white\",\"linecolor\":\"white\",\"ticks\":\"\"},\"caxis\":{\"gridcolor\":\"white\",\"linecolor\":\"white\",\"ticks\":\"\"}},\"coloraxis\":{\"colorbar\":{\"outlinewidth\":0,\"ticks\":\"\"}},\"colorscale\":{\"sequential\":[[0.0,\"#0d0887\"],[0.1111111111111111,\"#46039f\"],[0.2222222222222222,\"#7201a8\"],[0.3333333333333333,\"#9c179e\"],[0.4444444444444444,\"#bd3786\"],[0.5555555555555556,\"#d8576b\"],[0.6666666666666666,\"#ed7953\"],[0.7777777777777778,\"#fb9f3a\"],[0.8888888888888888,\"#fdca26\"],[1.0,\"#f0f921\"]],\"sequentialminus\":[[0.0,\"#0d0887\"],[0.1111111111111111,\"#46039f\"],[0.2222222222222222,\"#7201a8\"],[0.3333333333333333,\"#9c179e\"],[0.4444444444444444,\"#bd3786\"],[0.5555555555555556,\"#d8576b\"],[0.6666666666666666,\"#ed7953\"],[0.7777777777777778,\"#fb9f3a\"],[0.8888888888888888,\"#fdca26\"],[1.0,\"#f0f921\"]],\"diverging\":[[0,\"#8e0152\"],[0.1,\"#c51b7d\"],[0.2,\"#de77ae\"],[0.3,\"#f1b6da\"],[0.4,\"#fde0ef\"],[0.5,\"#f7f7f7\"],[0.6,\"#e6f5d0\"],[0.7,\"#b8e186\"],[0.8,\"#7fbc41\"],[0.9,\"#4d9221\"],[1,\"#276419\"]]},\"xaxis\":{\"gridcolor\":\"white\",\"linecolor\":\"white\",\"ticks\":\"\",\"title\":{\"standoff\":15},\"zerolinecolor\":\"white\",\"automargin\":true,\"zerolinewidth\":2},\"yaxis\":{\"gridcolor\":\"white\",\"linecolor\":\"white\",\"ticks\":\"\",\"title\":{\"standoff\":15},\"zerolinecolor\":\"white\",\"automargin\":true,\"zerolinewidth\":2},\"scene\":{\"xaxis\":{\"backgroundcolor\":\"#E5ECF6\",\"gridcolor\":\"white\",\"linecolor\":\"white\",\"showbackground\":true,\"ticks\":\"\",\"zerolinecolor\":\"white\",\"gridwidth\":2},\"yaxis\":{\"backgroundcolor\":\"#E5ECF6\",\"gridcolor\":\"white\",\"linecolor\":\"white\",\"showbackground\":true,\"ticks\":\"\",\"zerolinecolor\":\"white\",\"gridwidth\":2},\"zaxis\":{\"backgroundcolor\":\"#E5ECF6\",\"gridcolor\":\"white\",\"linecolor\":\"white\",\"showbackground\":true,\"ticks\":\"\",\"zerolinecolor\":\"white\",\"gridwidth\":2}},\"shapedefaults\":{\"line\":{\"color\":\"#2a3f5f\"}},\"annotationdefaults\":{\"arrowcolor\":\"#2a3f5f\",\"arrowhead\":0,\"arrowwidth\":1},\"geo\":{\"bgcolor\":\"white\",\"landcolor\":\"#E5ECF6\",\"subunitcolor\":\"white\",\"showland\":true,\"showlakes\":true,\"lakecolor\":\"white\"},\"title\":{\"x\":0.05},\"mapbox\":{\"style\":\"light\"}}},\"xaxis\":{\"anchor\":\"y\",\"domain\":[0.0,1.0],\"title\":{\"text\":\"year\"}},\"yaxis\":{\"anchor\":\"x\",\"domain\":[0.0,1.0],\"title\":{\"text\":\"\\u6838\\u5b9a\\u7d93\\u8cbb(\\u55ae\\u4f4d\\uff1a\\u5143)\"}},\"legend\":{\"title\":{\"text\":\"\\u985e\\u5225\"},\"tracegroupgap\":0},\"margin\":{\"t\":60},\"barmode\":\"group\"},                        {\"responsive\": true}                    ).then(function(){\n",
       "                            \n",
       "var gd = document.getElementById('13746ba3-e1b7-47cd-b216-14191b985161');\n",
       "var x = new MutationObserver(function (mutations, observer) {{\n",
       "        var display = window.getComputedStyle(gd).display;\n",
       "        if (!display || display === 'none') {{\n",
       "            console.log([gd, 'removed!']);\n",
       "            Plotly.purge(gd);\n",
       "            observer.disconnect();\n",
       "        }}\n",
       "}});\n",
       "\n",
       "// Listen for the removal of the full notebook cells\n",
       "var notebookContainer = gd.closest('#notebook-container');\n",
       "if (notebookContainer) {{\n",
       "    x.observe(notebookContainer, {childList: true});\n",
       "}}\n",
       "\n",
       "// Listen for the clearing of the current output cell\n",
       "var outputEl = gd.closest('.output');\n",
       "if (outputEl) {{\n",
       "    x.observe(outputEl, {childList: true});\n",
       "}}\n",
       "\n",
       "                        })                };                });            </script>        </div>"
      ]
     },
     "metadata": {},
     "output_type": "display_data"
    }
   ],
   "source": [
    "import plotly.express as px\n",
    "fig = px.bar(result, x=\"year\", y=\"核定經費(單位：元)\", color=\"類別\", barmode=\"group\")\n",
    "fig.show()"
   ]
  },
  {
   "cell_type": "code",
   "execution_count": 19,
   "id": "2613e756",
   "metadata": {},
   "outputs": [
    {
     "data": {
      "text/html": [
       "<div>\n",
       "<style scoped>\n",
       "    .dataframe tbody tr th:only-of-type {\n",
       "        vertical-align: middle;\n",
       "    }\n",
       "\n",
       "    .dataframe tbody tr th {\n",
       "        vertical-align: top;\n",
       "    }\n",
       "\n",
       "    .dataframe thead th {\n",
       "        text-align: right;\n",
       "    }\n",
       "</style>\n",
       "<table border=\"1\" class=\"dataframe\">\n",
       "  <thead>\n",
       "    <tr style=\"text-align: right;\">\n",
       "      <th></th>\n",
       "      <th>類別</th>\n",
       "      <th>學校名稱</th>\n",
       "      <th>核定經費(單位：元)</th>\n",
       "    </tr>\n",
       "  </thead>\n",
       "  <tbody>\n",
       "    <tr>\n",
       "      <th>0</th>\n",
       "      <td>一般大學</td>\n",
       "      <td>國立政治大學</td>\n",
       "      <td>321647507</td>\n",
       "    </tr>\n",
       "    <tr>\n",
       "      <th>1</th>\n",
       "      <td>一般大學</td>\n",
       "      <td>國立清華大學</td>\n",
       "      <td>1212025181</td>\n",
       "    </tr>\n",
       "    <tr>\n",
       "      <th>2</th>\n",
       "      <td>一般大學</td>\n",
       "      <td>國立臺灣大學</td>\n",
       "      <td>2326731025</td>\n",
       "    </tr>\n",
       "    <tr>\n",
       "      <th>3</th>\n",
       "      <td>一般大學</td>\n",
       "      <td>國立臺灣師範大學</td>\n",
       "      <td>227345240</td>\n",
       "    </tr>\n",
       "    <tr>\n",
       "      <th>4</th>\n",
       "      <td>一般大學</td>\n",
       "      <td>國立成功大學</td>\n",
       "      <td>1412842075</td>\n",
       "    </tr>\n",
       "    <tr>\n",
       "      <th>...</th>\n",
       "      <td>...</td>\n",
       "      <td>...</td>\n",
       "      <td>...</td>\n",
       "    </tr>\n",
       "    <tr>\n",
       "      <th>153</th>\n",
       "      <td>技專校院</td>\n",
       "      <td>高美醫護管理專科學校</td>\n",
       "      <td>0</td>\n",
       "    </tr>\n",
       "    <tr>\n",
       "      <th>154</th>\n",
       "      <td>技專校院</td>\n",
       "      <td>育英醫護管理專科學校</td>\n",
       "      <td>10690000</td>\n",
       "    </tr>\n",
       "    <tr>\n",
       "      <th>155</th>\n",
       "      <td>技專校院</td>\n",
       "      <td>崇仁醫護管理專科學校</td>\n",
       "      <td>11320000</td>\n",
       "    </tr>\n",
       "    <tr>\n",
       "      <th>156</th>\n",
       "      <td>技專校院</td>\n",
       "      <td>聖母醫護管理專科學校</td>\n",
       "      <td>8197342</td>\n",
       "    </tr>\n",
       "    <tr>\n",
       "      <th>157</th>\n",
       "      <td>技專校院</td>\n",
       "      <td>新生醫護管理專科學校</td>\n",
       "      <td>20088500</td>\n",
       "    </tr>\n",
       "  </tbody>\n",
       "</table>\n",
       "<p>615 rows × 3 columns</p>\n",
       "</div>"
      ],
      "text/plain": [
       "       類別        學校名稱  核定經費(單位：元)\n",
       "0    一般大學      國立政治大學   321647507\n",
       "1    一般大學      國立清華大學  1212025181\n",
       "2    一般大學      國立臺灣大學  2326731025\n",
       "3    一般大學    國立臺灣師範大學   227345240\n",
       "4    一般大學      國立成功大學  1412842075\n",
       "..    ...         ...         ...\n",
       "153  技專校院  高美醫護管理專科學校           0\n",
       "154  技專校院  育英醫護管理專科學校    10690000\n",
       "155  技專校院  崇仁醫護管理專科學校    11320000\n",
       "156  技專校院  聖母醫護管理專科學校     8197342\n",
       "157  技專校院  新生醫護管理專科學校    20088500\n",
       "\n",
       "[615 rows x 3 columns]"
      ]
     },
     "execution_count": 19,
     "metadata": {},
     "output_type": "execute_result"
    }
   ],
   "source": [
    "school = [temp110, temp109, temp108, temp107]\n",
    "\n",
    "result1 = pd.concat(school)\n",
    "\n",
    "result1"
   ]
  },
  {
   "cell_type": "code",
   "execution_count": 20,
   "id": "abc66863",
   "metadata": {},
   "outputs": [
    {
     "data": {
      "text/html": [
       "<div>\n",
       "<style scoped>\n",
       "    .dataframe tbody tr th:only-of-type {\n",
       "        vertical-align: middle;\n",
       "    }\n",
       "\n",
       "    .dataframe tbody tr th {\n",
       "        vertical-align: top;\n",
       "    }\n",
       "\n",
       "    .dataframe thead th {\n",
       "        text-align: right;\n",
       "    }\n",
       "</style>\n",
       "<table border=\"1\" class=\"dataframe\">\n",
       "  <thead>\n",
       "    <tr style=\"text-align: right;\">\n",
       "      <th></th>\n",
       "      <th>類別</th>\n",
       "      <th>學校名稱</th>\n",
       "      <th>核定經費(單位：元)</th>\n",
       "    </tr>\n",
       "  </thead>\n",
       "  <tbody>\n",
       "    <tr>\n",
       "      <th>0</th>\n",
       "      <td>一般大學</td>\n",
       "      <td>一貫道天皇學院</td>\n",
       "      <td>14391000</td>\n",
       "    </tr>\n",
       "    <tr>\n",
       "      <th>1</th>\n",
       "      <td>一般大學</td>\n",
       "      <td>世新大學</td>\n",
       "      <td>244019801</td>\n",
       "    </tr>\n",
       "    <tr>\n",
       "      <th>2</th>\n",
       "      <td>一般大學</td>\n",
       "      <td>中信金融管理學院</td>\n",
       "      <td>62233063</td>\n",
       "    </tr>\n",
       "    <tr>\n",
       "      <th>3</th>\n",
       "      <td>一般大學</td>\n",
       "      <td>中原大學</td>\n",
       "      <td>566128253</td>\n",
       "    </tr>\n",
       "    <tr>\n",
       "      <th>4</th>\n",
       "      <td>一般大學</td>\n",
       "      <td>中國文化大學</td>\n",
       "      <td>278397368</td>\n",
       "    </tr>\n",
       "    <tr>\n",
       "      <th>...</th>\n",
       "      <td>...</td>\n",
       "      <td>...</td>\n",
       "      <td>...</td>\n",
       "    </tr>\n",
       "    <tr>\n",
       "      <th>155</th>\n",
       "      <td>技專校院</td>\n",
       "      <td>馬偕醫護管理專科學校</td>\n",
       "      <td>79890000</td>\n",
       "    </tr>\n",
       "    <tr>\n",
       "      <th>156</th>\n",
       "      <td>技專校院</td>\n",
       "      <td>高美醫護管理專科學校</td>\n",
       "      <td>0</td>\n",
       "    </tr>\n",
       "    <tr>\n",
       "      <th>157</th>\n",
       "      <td>技專校院</td>\n",
       "      <td>高苑科技大學</td>\n",
       "      <td>94326823</td>\n",
       "    </tr>\n",
       "    <tr>\n",
       "      <th>158</th>\n",
       "      <td>技專校院</td>\n",
       "      <td>黎明技術學院</td>\n",
       "      <td>68546073</td>\n",
       "    </tr>\n",
       "    <tr>\n",
       "      <th>159</th>\n",
       "      <td>技專校院</td>\n",
       "      <td>龍華科技大學</td>\n",
       "      <td>467826224</td>\n",
       "    </tr>\n",
       "  </tbody>\n",
       "</table>\n",
       "<p>160 rows × 3 columns</p>\n",
       "</div>"
      ],
      "text/plain": [
       "       類別        學校名稱  核定經費(單位：元)\n",
       "0    一般大學     一貫道天皇學院    14391000\n",
       "1    一般大學        世新大學   244019801\n",
       "2    一般大學    中信金融管理學院    62233063\n",
       "3    一般大學        中原大學   566128253\n",
       "4    一般大學      中國文化大學   278397368\n",
       "..    ...         ...         ...\n",
       "155  技專校院  馬偕醫護管理專科學校    79890000\n",
       "156  技專校院  高美醫護管理專科學校           0\n",
       "157  技專校院      高苑科技大學    94326823\n",
       "158  技專校院      黎明技術學院    68546073\n",
       "159  技專校院      龍華科技大學   467826224\n",
       "\n",
       "[160 rows x 3 columns]"
      ]
     },
     "execution_count": 20,
     "metadata": {},
     "output_type": "execute_result"
    }
   ],
   "source": [
    "school1 = result1[['類別', '學校名稱', '核定經費(單位：元)']].groupby(['類別', '學校名稱'])['核定經費(單位：元)'].sum().reset_index()\n",
    "school1"
   ]
  },
  {
   "cell_type": "code",
   "execution_count": 21,
   "id": "4bc6f78c",
   "metadata": {},
   "outputs": [
    {
     "data": {
      "application/vnd.plotly.v1+json": {
       "config": {
        "plotlyServerURL": "https://plot.ly"
       },
       "data": [
        {
         "alignmentgroup": "True",
         "hovertemplate": "類別=一般大學<br>學校名稱=%{x}<br>核定經費(單位：元)=%{y}<extra></extra>",
         "legendgroup": "一般大學",
         "marker": {
          "color": "#636efa",
          "pattern": {
           "shape": ""
          }
         },
         "name": "一般大學",
         "offsetgroup": "一般大學",
         "orientation": "v",
         "showlegend": true,
         "textposition": "auto",
         "type": "bar",
         "x": [
          "一貫道天皇學院",
          "世新大學",
          "中信金融管理學院",
          "中原大學",
          "中國文化大學",
          "中國醫藥大學",
          "中山醫學大學",
          "中華大學",
          "亞洲大學",
          "佛光大學",
          "元智大學",
          "南華大學",
          "台灣首府大學",
          "國立中央大學",
          "國立中山大學",
          "國立中正大學",
          "國立中興大學",
          "國立交通大學",
          "國立嘉義大學",
          "國立宜蘭大學",
          "國立屏東大學",
          "國立彰化師範大學",
          "國立成功大學",
          "國立政治大學",
          "國立暨南國際大學",
          "國立東華大學",
          "國立清華大學",
          "國立聯合大學",
          "國立臺中教育大學",
          "國立臺北大學",
          "國立臺北教育大學",
          "國立臺北藝術大學",
          "國立臺南大學",
          "國立臺南藝術大學",
          "國立臺東大學",
          "國立臺灣大學",
          "國立臺灣師範大學",
          "國立臺灣海洋大學",
          "國立臺灣藝術大學",
          "國立臺灣體育運動大學",
          "國立金門大學",
          "國立陽明大學",
          "國立體育大學",
          "國立高雄大學",
          "國立高雄師範大學",
          "大同大學",
          "大葉大學",
          "實踐大學",
          "康寧大學",
          "慈濟大學",
          "明道大學",
          "東吳大學",
          "東海大學",
          "法鼓文理學院",
          "淡江大學",
          "玄奘大學",
          "真理大學",
          "稻江科技暨管理學院",
          "義守大學",
          "臺北市立大學",
          "臺北醫學大學",
          "華梵大學",
          "輔仁大學",
          "逢甲大學",
          "銘傳大學",
          "長庚大學",
          "長榮大學",
          "開南大學",
          "靜宜大學",
          "馬偕醫學院",
          "高雄醫學大學"
         ],
         "xaxis": "x",
         "y": [
          14391000,
          244019801,
          62233063,
          566128253,
          278397368,
          796775969,
          237875976,
          195291248,
          250520697,
          185621465,
          379034709,
          237014986,
          37342074,
          1680194517,
          1198557694,
          639903242,
          1625272828,
          4149500328,
          243223271,
          241284960,
          267198963,
          267992374,
          5275852760,
          1274373074,
          301829579,
          243857359,
          4583361981,
          182938483,
          205196758,
          331300045,
          212759309,
          206694381,
          196572939,
          68497203,
          227078828,
          8753601336,
          890344664,
          558711670,
          182472109,
          124841361,
          134561052,
          1369682436,
          176295050,
          201286703,
          170518983,
          168609120,
          257017189,
          263236021,
          28551028,
          221779507,
          35247641,
          368307143,
          483051852,
          9841658,
          361051434,
          133113024,
          75278385,
          3636000,
          327832651,
          192042676,
          1073771053,
          115509642,
          353257047,
          587330551,
          296238125,
          661368507,
          228211623,
          72101661,
          363580532,
          160733231,
          492047407
         ],
         "yaxis": "y"
        },
        {
         "alignmentgroup": "True",
         "hovertemplate": "類別=技專校院<br>學校名稱=%{x}<br>核定經費(單位：元)=%{y}<extra></extra>",
         "legendgroup": "技專校院",
         "marker": {
          "color": "#EF553B",
          "pattern": {
           "shape": ""
          }
         },
         "name": "技專校院",
         "offsetgroup": "技專校院",
         "orientation": "v",
         "showlegend": true,
         "textposition": "auto",
         "type": "bar",
         "x": [
          "中國科技大學",
          "中州科技大學",
          "中臺科技大學",
          "中華科技大學",
          "中華醫事科技大學",
          "亞太創意技術學院",
          "亞東技術學院",
          "仁德醫護管理專科學校",
          "修平科技大學",
          "健行科技大學",
          "僑光科技大學",
          "元培醫事科技大學",
          "南亞技術學院",
          "南榮科技大學",
          "南臺科技大學",
          "南開科技大學",
          "台北海洋科技大學",
          "台南應用科技大學",
          "吳鳳科技大學",
          "和春技術學院",
          "嘉南藥理大學",
          "國立勤益科技大學",
          "國立屏東科技大學",
          "國立澎湖科技大學",
          "國立臺中科技大學",
          "國立臺北商業大學",
          "國立臺北科技大學",
          "國立臺北護理健康大學",
          "國立臺南護理專科學校",
          "國立臺東專科學校",
          "國立臺灣戲曲學院",
          "國立臺灣科技大學",
          "國立虎尾科技大學",
          "國立雲林科技大學",
          "國立高雄應用科技大學",
          "國立高雄海洋科技大學",
          "國立高雄科技大學",
          "國立高雄第一科技大學",
          "國立高雄餐旅大學",
          "大仁科技大學",
          "大同技術學院",
          "大漢技術學院",
          "大華科技大學",
          "宏國德霖科技大學",
          "崇仁醫護管理專科學校",
          "崇右影藝科技大學",
          "崑山科技大學",
          "嶺東科技大學",
          "建國科技大學",
          "弘光科技大學",
          "德明財經科技大學",
          "慈惠醫護管理專科學校",
          "慈濟科技大學",
          "敏實科技大學",
          "敏惠醫護管理專科學校",
          "文藻外語大學",
          "新生醫護管理專科學校",
          "明志科技大學",
          "明新科技大學",
          "景文科技大學",
          "朝陽科技大學",
          "東南科技大學",
          "東方設計大學",
          "樹人醫護管理專科學校",
          "樹德科技大學",
          "正修科技大學",
          "環球科技大學",
          "經國管理暨健康學院",
          "美和科技大學",
          "耕莘健康管理專科學校",
          "聖母醫護管理專科學校",
          "聖約翰科技大學",
          "育英醫護管理專科學校",
          "育達科技大學",
          "致理科技大學",
          "臺北城市科技大學",
          "臺灣觀光學院",
          "華夏科技大學",
          "萬能科技大學",
          "蘭陽技術學院",
          "輔英科技大學",
          "遠東科技大學",
          "醒吾科技大學",
          "長庚科技大學",
          "馬偕醫護管理專科學校",
          "高美醫護管理專科學校",
          "高苑科技大學",
          "黎明技術學院",
          "龍華科技大學"
         ],
         "xaxis": "x",
         "y": [
          292400000,
          41897600,
          183670155,
          114099334,
          168455990,
          1606772,
          91148500,
          91942166,
          185144649,
          196109577,
          105044631,
          146739988,
          47891000,
          9660000,
          680196196,
          134513958,
          112015285,
          153777643,
          113645158,
          8000000,
          339812120,
          582375371,
          657204305,
          109995988,
          122008361,
          232477903,
          1116716101,
          304810991,
          88904294,
          145978825,
          69541609,
          1275575036,
          947297487,
          871855828,
          143890341,
          54220100,
          1185199835,
          201230000,
          347286446,
          132834675,
          27031040,
          25252676,
          20008600,
          79878224,
          56339570,
          41599155,
          749494846,
          195909211,
          88648982,
          463127766,
          172719208,
          76310602,
          189835656,
          6972600,
          47121063,
          245020893,
          82626944,
          373902862,
          206974300,
          181857916,
          262025473,
          87713000,
          44651389,
          101276000,
          312387459,
          731439000,
          54860865,
          47970000,
          147092167,
          115151340,
          39472632,
          68726769,
          41782024,
          42867994,
          302045828,
          109980000,
          1050000,
          98383068,
          93096286,
          15486018,
          158803806,
          303885507,
          268155502,
          244380234,
          79890000,
          0,
          94326823,
          68546073,
          467826224
         ],
         "yaxis": "y"
        }
       ],
       "layout": {
        "barmode": "relative",
        "legend": {
         "title": {
          "text": "類別"
         },
         "tracegroupgap": 0
        },
        "margin": {
         "t": 60
        },
        "template": {
         "data": {
          "bar": [
           {
            "error_x": {
             "color": "#2a3f5f"
            },
            "error_y": {
             "color": "#2a3f5f"
            },
            "marker": {
             "line": {
              "color": "#E5ECF6",
              "width": 0.5
             },
             "pattern": {
              "fillmode": "overlay",
              "size": 10,
              "solidity": 0.2
             }
            },
            "type": "bar"
           }
          ],
          "barpolar": [
           {
            "marker": {
             "line": {
              "color": "#E5ECF6",
              "width": 0.5
             },
             "pattern": {
              "fillmode": "overlay",
              "size": 10,
              "solidity": 0.2
             }
            },
            "type": "barpolar"
           }
          ],
          "carpet": [
           {
            "aaxis": {
             "endlinecolor": "#2a3f5f",
             "gridcolor": "white",
             "linecolor": "white",
             "minorgridcolor": "white",
             "startlinecolor": "#2a3f5f"
            },
            "baxis": {
             "endlinecolor": "#2a3f5f",
             "gridcolor": "white",
             "linecolor": "white",
             "minorgridcolor": "white",
             "startlinecolor": "#2a3f5f"
            },
            "type": "carpet"
           }
          ],
          "choropleth": [
           {
            "colorbar": {
             "outlinewidth": 0,
             "ticks": ""
            },
            "type": "choropleth"
           }
          ],
          "contour": [
           {
            "colorbar": {
             "outlinewidth": 0,
             "ticks": ""
            },
            "colorscale": [
             [
              0,
              "#0d0887"
             ],
             [
              0.1111111111111111,
              "#46039f"
             ],
             [
              0.2222222222222222,
              "#7201a8"
             ],
             [
              0.3333333333333333,
              "#9c179e"
             ],
             [
              0.4444444444444444,
              "#bd3786"
             ],
             [
              0.5555555555555556,
              "#d8576b"
             ],
             [
              0.6666666666666666,
              "#ed7953"
             ],
             [
              0.7777777777777778,
              "#fb9f3a"
             ],
             [
              0.8888888888888888,
              "#fdca26"
             ],
             [
              1,
              "#f0f921"
             ]
            ],
            "type": "contour"
           }
          ],
          "contourcarpet": [
           {
            "colorbar": {
             "outlinewidth": 0,
             "ticks": ""
            },
            "type": "contourcarpet"
           }
          ],
          "heatmap": [
           {
            "colorbar": {
             "outlinewidth": 0,
             "ticks": ""
            },
            "colorscale": [
             [
              0,
              "#0d0887"
             ],
             [
              0.1111111111111111,
              "#46039f"
             ],
             [
              0.2222222222222222,
              "#7201a8"
             ],
             [
              0.3333333333333333,
              "#9c179e"
             ],
             [
              0.4444444444444444,
              "#bd3786"
             ],
             [
              0.5555555555555556,
              "#d8576b"
             ],
             [
              0.6666666666666666,
              "#ed7953"
             ],
             [
              0.7777777777777778,
              "#fb9f3a"
             ],
             [
              0.8888888888888888,
              "#fdca26"
             ],
             [
              1,
              "#f0f921"
             ]
            ],
            "type": "heatmap"
           }
          ],
          "heatmapgl": [
           {
            "colorbar": {
             "outlinewidth": 0,
             "ticks": ""
            },
            "colorscale": [
             [
              0,
              "#0d0887"
             ],
             [
              0.1111111111111111,
              "#46039f"
             ],
             [
              0.2222222222222222,
              "#7201a8"
             ],
             [
              0.3333333333333333,
              "#9c179e"
             ],
             [
              0.4444444444444444,
              "#bd3786"
             ],
             [
              0.5555555555555556,
              "#d8576b"
             ],
             [
              0.6666666666666666,
              "#ed7953"
             ],
             [
              0.7777777777777778,
              "#fb9f3a"
             ],
             [
              0.8888888888888888,
              "#fdca26"
             ],
             [
              1,
              "#f0f921"
             ]
            ],
            "type": "heatmapgl"
           }
          ],
          "histogram": [
           {
            "marker": {
             "pattern": {
              "fillmode": "overlay",
              "size": 10,
              "solidity": 0.2
             }
            },
            "type": "histogram"
           }
          ],
          "histogram2d": [
           {
            "colorbar": {
             "outlinewidth": 0,
             "ticks": ""
            },
            "colorscale": [
             [
              0,
              "#0d0887"
             ],
             [
              0.1111111111111111,
              "#46039f"
             ],
             [
              0.2222222222222222,
              "#7201a8"
             ],
             [
              0.3333333333333333,
              "#9c179e"
             ],
             [
              0.4444444444444444,
              "#bd3786"
             ],
             [
              0.5555555555555556,
              "#d8576b"
             ],
             [
              0.6666666666666666,
              "#ed7953"
             ],
             [
              0.7777777777777778,
              "#fb9f3a"
             ],
             [
              0.8888888888888888,
              "#fdca26"
             ],
             [
              1,
              "#f0f921"
             ]
            ],
            "type": "histogram2d"
           }
          ],
          "histogram2dcontour": [
           {
            "colorbar": {
             "outlinewidth": 0,
             "ticks": ""
            },
            "colorscale": [
             [
              0,
              "#0d0887"
             ],
             [
              0.1111111111111111,
              "#46039f"
             ],
             [
              0.2222222222222222,
              "#7201a8"
             ],
             [
              0.3333333333333333,
              "#9c179e"
             ],
             [
              0.4444444444444444,
              "#bd3786"
             ],
             [
              0.5555555555555556,
              "#d8576b"
             ],
             [
              0.6666666666666666,
              "#ed7953"
             ],
             [
              0.7777777777777778,
              "#fb9f3a"
             ],
             [
              0.8888888888888888,
              "#fdca26"
             ],
             [
              1,
              "#f0f921"
             ]
            ],
            "type": "histogram2dcontour"
           }
          ],
          "mesh3d": [
           {
            "colorbar": {
             "outlinewidth": 0,
             "ticks": ""
            },
            "type": "mesh3d"
           }
          ],
          "parcoords": [
           {
            "line": {
             "colorbar": {
              "outlinewidth": 0,
              "ticks": ""
             }
            },
            "type": "parcoords"
           }
          ],
          "pie": [
           {
            "automargin": true,
            "type": "pie"
           }
          ],
          "scatter": [
           {
            "fillpattern": {
             "fillmode": "overlay",
             "size": 10,
             "solidity": 0.2
            },
            "type": "scatter"
           }
          ],
          "scatter3d": [
           {
            "line": {
             "colorbar": {
              "outlinewidth": 0,
              "ticks": ""
             }
            },
            "marker": {
             "colorbar": {
              "outlinewidth": 0,
              "ticks": ""
             }
            },
            "type": "scatter3d"
           }
          ],
          "scattercarpet": [
           {
            "marker": {
             "colorbar": {
              "outlinewidth": 0,
              "ticks": ""
             }
            },
            "type": "scattercarpet"
           }
          ],
          "scattergeo": [
           {
            "marker": {
             "colorbar": {
              "outlinewidth": 0,
              "ticks": ""
             }
            },
            "type": "scattergeo"
           }
          ],
          "scattergl": [
           {
            "marker": {
             "colorbar": {
              "outlinewidth": 0,
              "ticks": ""
             }
            },
            "type": "scattergl"
           }
          ],
          "scattermapbox": [
           {
            "marker": {
             "colorbar": {
              "outlinewidth": 0,
              "ticks": ""
             }
            },
            "type": "scattermapbox"
           }
          ],
          "scatterpolar": [
           {
            "marker": {
             "colorbar": {
              "outlinewidth": 0,
              "ticks": ""
             }
            },
            "type": "scatterpolar"
           }
          ],
          "scatterpolargl": [
           {
            "marker": {
             "colorbar": {
              "outlinewidth": 0,
              "ticks": ""
             }
            },
            "type": "scatterpolargl"
           }
          ],
          "scatterternary": [
           {
            "marker": {
             "colorbar": {
              "outlinewidth": 0,
              "ticks": ""
             }
            },
            "type": "scatterternary"
           }
          ],
          "surface": [
           {
            "colorbar": {
             "outlinewidth": 0,
             "ticks": ""
            },
            "colorscale": [
             [
              0,
              "#0d0887"
             ],
             [
              0.1111111111111111,
              "#46039f"
             ],
             [
              0.2222222222222222,
              "#7201a8"
             ],
             [
              0.3333333333333333,
              "#9c179e"
             ],
             [
              0.4444444444444444,
              "#bd3786"
             ],
             [
              0.5555555555555556,
              "#d8576b"
             ],
             [
              0.6666666666666666,
              "#ed7953"
             ],
             [
              0.7777777777777778,
              "#fb9f3a"
             ],
             [
              0.8888888888888888,
              "#fdca26"
             ],
             [
              1,
              "#f0f921"
             ]
            ],
            "type": "surface"
           }
          ],
          "table": [
           {
            "cells": {
             "fill": {
              "color": "#EBF0F8"
             },
             "line": {
              "color": "white"
             }
            },
            "header": {
             "fill": {
              "color": "#C8D4E3"
             },
             "line": {
              "color": "white"
             }
            },
            "type": "table"
           }
          ]
         },
         "layout": {
          "annotationdefaults": {
           "arrowcolor": "#2a3f5f",
           "arrowhead": 0,
           "arrowwidth": 1
          },
          "autotypenumbers": "strict",
          "coloraxis": {
           "colorbar": {
            "outlinewidth": 0,
            "ticks": ""
           }
          },
          "colorscale": {
           "diverging": [
            [
             0,
             "#8e0152"
            ],
            [
             0.1,
             "#c51b7d"
            ],
            [
             0.2,
             "#de77ae"
            ],
            [
             0.3,
             "#f1b6da"
            ],
            [
             0.4,
             "#fde0ef"
            ],
            [
             0.5,
             "#f7f7f7"
            ],
            [
             0.6,
             "#e6f5d0"
            ],
            [
             0.7,
             "#b8e186"
            ],
            [
             0.8,
             "#7fbc41"
            ],
            [
             0.9,
             "#4d9221"
            ],
            [
             1,
             "#276419"
            ]
           ],
           "sequential": [
            [
             0,
             "#0d0887"
            ],
            [
             0.1111111111111111,
             "#46039f"
            ],
            [
             0.2222222222222222,
             "#7201a8"
            ],
            [
             0.3333333333333333,
             "#9c179e"
            ],
            [
             0.4444444444444444,
             "#bd3786"
            ],
            [
             0.5555555555555556,
             "#d8576b"
            ],
            [
             0.6666666666666666,
             "#ed7953"
            ],
            [
             0.7777777777777778,
             "#fb9f3a"
            ],
            [
             0.8888888888888888,
             "#fdca26"
            ],
            [
             1,
             "#f0f921"
            ]
           ],
           "sequentialminus": [
            [
             0,
             "#0d0887"
            ],
            [
             0.1111111111111111,
             "#46039f"
            ],
            [
             0.2222222222222222,
             "#7201a8"
            ],
            [
             0.3333333333333333,
             "#9c179e"
            ],
            [
             0.4444444444444444,
             "#bd3786"
            ],
            [
             0.5555555555555556,
             "#d8576b"
            ],
            [
             0.6666666666666666,
             "#ed7953"
            ],
            [
             0.7777777777777778,
             "#fb9f3a"
            ],
            [
             0.8888888888888888,
             "#fdca26"
            ],
            [
             1,
             "#f0f921"
            ]
           ]
          },
          "colorway": [
           "#636efa",
           "#EF553B",
           "#00cc96",
           "#ab63fa",
           "#FFA15A",
           "#19d3f3",
           "#FF6692",
           "#B6E880",
           "#FF97FF",
           "#FECB52"
          ],
          "font": {
           "color": "#2a3f5f"
          },
          "geo": {
           "bgcolor": "white",
           "lakecolor": "white",
           "landcolor": "#E5ECF6",
           "showlakes": true,
           "showland": true,
           "subunitcolor": "white"
          },
          "hoverlabel": {
           "align": "left"
          },
          "hovermode": "closest",
          "mapbox": {
           "style": "light"
          },
          "paper_bgcolor": "white",
          "plot_bgcolor": "#E5ECF6",
          "polar": {
           "angularaxis": {
            "gridcolor": "white",
            "linecolor": "white",
            "ticks": ""
           },
           "bgcolor": "#E5ECF6",
           "radialaxis": {
            "gridcolor": "white",
            "linecolor": "white",
            "ticks": ""
           }
          },
          "scene": {
           "xaxis": {
            "backgroundcolor": "#E5ECF6",
            "gridcolor": "white",
            "gridwidth": 2,
            "linecolor": "white",
            "showbackground": true,
            "ticks": "",
            "zerolinecolor": "white"
           },
           "yaxis": {
            "backgroundcolor": "#E5ECF6",
            "gridcolor": "white",
            "gridwidth": 2,
            "linecolor": "white",
            "showbackground": true,
            "ticks": "",
            "zerolinecolor": "white"
           },
           "zaxis": {
            "backgroundcolor": "#E5ECF6",
            "gridcolor": "white",
            "gridwidth": 2,
            "linecolor": "white",
            "showbackground": true,
            "ticks": "",
            "zerolinecolor": "white"
           }
          },
          "shapedefaults": {
           "line": {
            "color": "#2a3f5f"
           }
          },
          "ternary": {
           "aaxis": {
            "gridcolor": "white",
            "linecolor": "white",
            "ticks": ""
           },
           "baxis": {
            "gridcolor": "white",
            "linecolor": "white",
            "ticks": ""
           },
           "bgcolor": "#E5ECF6",
           "caxis": {
            "gridcolor": "white",
            "linecolor": "white",
            "ticks": ""
           }
          },
          "title": {
           "x": 0.05
          },
          "xaxis": {
           "automargin": true,
           "gridcolor": "white",
           "linecolor": "white",
           "ticks": "",
           "title": {
            "standoff": 15
           },
           "zerolinecolor": "white",
           "zerolinewidth": 2
          },
          "yaxis": {
           "automargin": true,
           "gridcolor": "white",
           "linecolor": "white",
           "ticks": "",
           "title": {
            "standoff": 15
           },
           "zerolinecolor": "white",
           "zerolinewidth": 2
          }
         }
        },
        "xaxis": {
         "anchor": "y",
         "domain": [
          0,
          1
         ],
         "title": {
          "text": "學校名稱"
         }
        },
        "yaxis": {
         "anchor": "x",
         "domain": [
          0,
          1
         ],
         "title": {
          "text": "核定經費(單位：元)"
         }
        }
       }
      },
      "text/html": [
       "<div>                            <div id=\"a18e6c63-72e5-46c5-bc08-57eae1c1d77d\" class=\"plotly-graph-div\" style=\"height:525px; width:100%;\"></div>            <script type=\"text/javascript\">                require([\"plotly\"], function(Plotly) {                    window.PLOTLYENV=window.PLOTLYENV || {};                                    if (document.getElementById(\"a18e6c63-72e5-46c5-bc08-57eae1c1d77d\")) {                    Plotly.newPlot(                        \"a18e6c63-72e5-46c5-bc08-57eae1c1d77d\",                        [{\"alignmentgroup\":\"True\",\"hovertemplate\":\"\\u985e\\u5225=\\u4e00\\u822c\\u5927\\u5b78<br>\\u5b78\\u6821\\u540d\\u7a31=%{x}<br>\\u6838\\u5b9a\\u7d93\\u8cbb(\\u55ae\\u4f4d\\uff1a\\u5143)=%{y}<extra></extra>\",\"legendgroup\":\"\\u4e00\\u822c\\u5927\\u5b78\",\"marker\":{\"color\":\"#636efa\",\"pattern\":{\"shape\":\"\"}},\"name\":\"\\u4e00\\u822c\\u5927\\u5b78\",\"offsetgroup\":\"\\u4e00\\u822c\\u5927\\u5b78\",\"orientation\":\"v\",\"showlegend\":true,\"textposition\":\"auto\",\"x\":[\"\\u4e00\\u8cab\\u9053\\u5929\\u7687\\u5b78\\u9662\",\"\\u4e16\\u65b0\\u5927\\u5b78\",\"\\u4e2d\\u4fe1\\u91d1\\u878d\\u7ba1\\u7406\\u5b78\\u9662\",\"\\u4e2d\\u539f\\u5927\\u5b78\",\"\\u4e2d\\u570b\\u6587\\u5316\\u5927\\u5b78\",\"\\u4e2d\\u570b\\u91ab\\u85e5\\u5927\\u5b78\",\"\\u4e2d\\u5c71\\u91ab\\u5b78\\u5927\\u5b78\",\"\\u4e2d\\u83ef\\u5927\\u5b78\",\"\\u4e9e\\u6d32\\u5927\\u5b78\",\"\\u4f5b\\u5149\\u5927\\u5b78\",\"\\u5143\\u667a\\u5927\\u5b78\",\"\\u5357\\u83ef\\u5927\\u5b78\",\"\\u53f0\\u7063\\u9996\\u5e9c\\u5927\\u5b78\",\"\\u570b\\u7acb\\u4e2d\\u592e\\u5927\\u5b78\",\"\\u570b\\u7acb\\u4e2d\\u5c71\\u5927\\u5b78\",\"\\u570b\\u7acb\\u4e2d\\u6b63\\u5927\\u5b78\",\"\\u570b\\u7acb\\u4e2d\\u8208\\u5927\\u5b78\",\"\\u570b\\u7acb\\u4ea4\\u901a\\u5927\\u5b78\",\"\\u570b\\u7acb\\u5609\\u7fa9\\u5927\\u5b78\",\"\\u570b\\u7acb\\u5b9c\\u862d\\u5927\\u5b78\",\"\\u570b\\u7acb\\u5c4f\\u6771\\u5927\\u5b78\",\"\\u570b\\u7acb\\u5f70\\u5316\\u5e2b\\u7bc4\\u5927\\u5b78\",\"\\u570b\\u7acb\\u6210\\u529f\\u5927\\u5b78\",\"\\u570b\\u7acb\\u653f\\u6cbb\\u5927\\u5b78\",\"\\u570b\\u7acb\\u66a8\\u5357\\u570b\\u969b\\u5927\\u5b78\",\"\\u570b\\u7acb\\u6771\\u83ef\\u5927\\u5b78\",\"\\u570b\\u7acb\\u6e05\\u83ef\\u5927\\u5b78\",\"\\u570b\\u7acb\\u806f\\u5408\\u5927\\u5b78\",\"\\u570b\\u7acb\\u81fa\\u4e2d\\u6559\\u80b2\\u5927\\u5b78\",\"\\u570b\\u7acb\\u81fa\\u5317\\u5927\\u5b78\",\"\\u570b\\u7acb\\u81fa\\u5317\\u6559\\u80b2\\u5927\\u5b78\",\"\\u570b\\u7acb\\u81fa\\u5317\\u85dd\\u8853\\u5927\\u5b78\",\"\\u570b\\u7acb\\u81fa\\u5357\\u5927\\u5b78\",\"\\u570b\\u7acb\\u81fa\\u5357\\u85dd\\u8853\\u5927\\u5b78\",\"\\u570b\\u7acb\\u81fa\\u6771\\u5927\\u5b78\",\"\\u570b\\u7acb\\u81fa\\u7063\\u5927\\u5b78\",\"\\u570b\\u7acb\\u81fa\\u7063\\u5e2b\\u7bc4\\u5927\\u5b78\",\"\\u570b\\u7acb\\u81fa\\u7063\\u6d77\\u6d0b\\u5927\\u5b78\",\"\\u570b\\u7acb\\u81fa\\u7063\\u85dd\\u8853\\u5927\\u5b78\",\"\\u570b\\u7acb\\u81fa\\u7063\\u9ad4\\u80b2\\u904b\\u52d5\\u5927\\u5b78\",\"\\u570b\\u7acb\\u91d1\\u9580\\u5927\\u5b78\",\"\\u570b\\u7acb\\u967d\\u660e\\u5927\\u5b78\",\"\\u570b\\u7acb\\u9ad4\\u80b2\\u5927\\u5b78\",\"\\u570b\\u7acb\\u9ad8\\u96c4\\u5927\\u5b78\",\"\\u570b\\u7acb\\u9ad8\\u96c4\\u5e2b\\u7bc4\\u5927\\u5b78\",\"\\u5927\\u540c\\u5927\\u5b78\",\"\\u5927\\u8449\\u5927\\u5b78\",\"\\u5be6\\u8e10\\u5927\\u5b78\",\"\\u5eb7\\u5be7\\u5927\\u5b78\",\"\\u6148\\u6fdf\\u5927\\u5b78\",\"\\u660e\\u9053\\u5927\\u5b78\",\"\\u6771\\u5433\\u5927\\u5b78\",\"\\u6771\\u6d77\\u5927\\u5b78\",\"\\u6cd5\\u9f13\\u6587\\u7406\\u5b78\\u9662\",\"\\u6de1\\u6c5f\\u5927\\u5b78\",\"\\u7384\\u5958\\u5927\\u5b78\",\"\\u771f\\u7406\\u5927\\u5b78\",\"\\u7a3b\\u6c5f\\u79d1\\u6280\\u66a8\\u7ba1\\u7406\\u5b78\\u9662\",\"\\u7fa9\\u5b88\\u5927\\u5b78\",\"\\u81fa\\u5317\\u5e02\\u7acb\\u5927\\u5b78\",\"\\u81fa\\u5317\\u91ab\\u5b78\\u5927\\u5b78\",\"\\u83ef\\u68b5\\u5927\\u5b78\",\"\\u8f14\\u4ec1\\u5927\\u5b78\",\"\\u9022\\u7532\\u5927\\u5b78\",\"\\u9298\\u50b3\\u5927\\u5b78\",\"\\u9577\\u5e9a\\u5927\\u5b78\",\"\\u9577\\u69ae\\u5927\\u5b78\",\"\\u958b\\u5357\\u5927\\u5b78\",\"\\u975c\\u5b9c\\u5927\\u5b78\",\"\\u99ac\\u5055\\u91ab\\u5b78\\u9662\",\"\\u9ad8\\u96c4\\u91ab\\u5b78\\u5927\\u5b78\"],\"xaxis\":\"x\",\"y\":[14391000,244019801,62233063,566128253,278397368,796775969,237875976,195291248,250520697,185621465,379034709,237014986,37342074,1680194517,1198557694,639903242,1625272828,4149500328,243223271,241284960,267198963,267992374,5275852760,1274373074,301829579,243857359,4583361981,182938483,205196758,331300045,212759309,206694381,196572939,68497203,227078828,8753601336,890344664,558711670,182472109,124841361,134561052,1369682436,176295050,201286703,170518983,168609120,257017189,263236021,28551028,221779507,35247641,368307143,483051852,9841658,361051434,133113024,75278385,3636000,327832651,192042676,1073771053,115509642,353257047,587330551,296238125,661368507,228211623,72101661,363580532,160733231,492047407],\"yaxis\":\"y\",\"type\":\"bar\"},{\"alignmentgroup\":\"True\",\"hovertemplate\":\"\\u985e\\u5225=\\u6280\\u5c08\\u6821\\u9662<br>\\u5b78\\u6821\\u540d\\u7a31=%{x}<br>\\u6838\\u5b9a\\u7d93\\u8cbb(\\u55ae\\u4f4d\\uff1a\\u5143)=%{y}<extra></extra>\",\"legendgroup\":\"\\u6280\\u5c08\\u6821\\u9662\",\"marker\":{\"color\":\"#EF553B\",\"pattern\":{\"shape\":\"\"}},\"name\":\"\\u6280\\u5c08\\u6821\\u9662\",\"offsetgroup\":\"\\u6280\\u5c08\\u6821\\u9662\",\"orientation\":\"v\",\"showlegend\":true,\"textposition\":\"auto\",\"x\":[\"\\u4e2d\\u570b\\u79d1\\u6280\\u5927\\u5b78\",\"\\u4e2d\\u5dde\\u79d1\\u6280\\u5927\\u5b78\",\"\\u4e2d\\u81fa\\u79d1\\u6280\\u5927\\u5b78\",\"\\u4e2d\\u83ef\\u79d1\\u6280\\u5927\\u5b78\",\"\\u4e2d\\u83ef\\u91ab\\u4e8b\\u79d1\\u6280\\u5927\\u5b78\",\"\\u4e9e\\u592a\\u5275\\u610f\\u6280\\u8853\\u5b78\\u9662\",\"\\u4e9e\\u6771\\u6280\\u8853\\u5b78\\u9662\",\"\\u4ec1\\u5fb7\\u91ab\\u8b77\\u7ba1\\u7406\\u5c08\\u79d1\\u5b78\\u6821\",\"\\u4fee\\u5e73\\u79d1\\u6280\\u5927\\u5b78\",\"\\u5065\\u884c\\u79d1\\u6280\\u5927\\u5b78\",\"\\u50d1\\u5149\\u79d1\\u6280\\u5927\\u5b78\",\"\\u5143\\u57f9\\u91ab\\u4e8b\\u79d1\\u6280\\u5927\\u5b78\",\"\\u5357\\u4e9e\\u6280\\u8853\\u5b78\\u9662\",\"\\u5357\\u69ae\\u79d1\\u6280\\u5927\\u5b78\",\"\\u5357\\u81fa\\u79d1\\u6280\\u5927\\u5b78\",\"\\u5357\\u958b\\u79d1\\u6280\\u5927\\u5b78\",\"\\u53f0\\u5317\\u6d77\\u6d0b\\u79d1\\u6280\\u5927\\u5b78\",\"\\u53f0\\u5357\\u61c9\\u7528\\u79d1\\u6280\\u5927\\u5b78\",\"\\u5433\\u9cf3\\u79d1\\u6280\\u5927\\u5b78\",\"\\u548c\\u6625\\u6280\\u8853\\u5b78\\u9662\",\"\\u5609\\u5357\\u85e5\\u7406\\u5927\\u5b78\",\"\\u570b\\u7acb\\u52e4\\u76ca\\u79d1\\u6280\\u5927\\u5b78\",\"\\u570b\\u7acb\\u5c4f\\u6771\\u79d1\\u6280\\u5927\\u5b78\",\"\\u570b\\u7acb\\u6f8e\\u6e56\\u79d1\\u6280\\u5927\\u5b78\",\"\\u570b\\u7acb\\u81fa\\u4e2d\\u79d1\\u6280\\u5927\\u5b78\",\"\\u570b\\u7acb\\u81fa\\u5317\\u5546\\u696d\\u5927\\u5b78\",\"\\u570b\\u7acb\\u81fa\\u5317\\u79d1\\u6280\\u5927\\u5b78\",\"\\u570b\\u7acb\\u81fa\\u5317\\u8b77\\u7406\\u5065\\u5eb7\\u5927\\u5b78\",\"\\u570b\\u7acb\\u81fa\\u5357\\u8b77\\u7406\\u5c08\\u79d1\\u5b78\\u6821\",\"\\u570b\\u7acb\\u81fa\\u6771\\u5c08\\u79d1\\u5b78\\u6821\",\"\\u570b\\u7acb\\u81fa\\u7063\\u6232\\u66f2\\u5b78\\u9662\",\"\\u570b\\u7acb\\u81fa\\u7063\\u79d1\\u6280\\u5927\\u5b78\",\"\\u570b\\u7acb\\u864e\\u5c3e\\u79d1\\u6280\\u5927\\u5b78\",\"\\u570b\\u7acb\\u96f2\\u6797\\u79d1\\u6280\\u5927\\u5b78\",\"\\u570b\\u7acb\\u9ad8\\u96c4\\u61c9\\u7528\\u79d1\\u6280\\u5927\\u5b78\",\"\\u570b\\u7acb\\u9ad8\\u96c4\\u6d77\\u6d0b\\u79d1\\u6280\\u5927\\u5b78\",\"\\u570b\\u7acb\\u9ad8\\u96c4\\u79d1\\u6280\\u5927\\u5b78\",\"\\u570b\\u7acb\\u9ad8\\u96c4\\u7b2c\\u4e00\\u79d1\\u6280\\u5927\\u5b78\",\"\\u570b\\u7acb\\u9ad8\\u96c4\\u9910\\u65c5\\u5927\\u5b78\",\"\\u5927\\u4ec1\\u79d1\\u6280\\u5927\\u5b78\",\"\\u5927\\u540c\\u6280\\u8853\\u5b78\\u9662\",\"\\u5927\\u6f22\\u6280\\u8853\\u5b78\\u9662\",\"\\u5927\\u83ef\\u79d1\\u6280\\u5927\\u5b78\",\"\\u5b8f\\u570b\\u5fb7\\u9716\\u79d1\\u6280\\u5927\\u5b78\",\"\\u5d07\\u4ec1\\u91ab\\u8b77\\u7ba1\\u7406\\u5c08\\u79d1\\u5b78\\u6821\",\"\\u5d07\\u53f3\\u5f71\\u85dd\\u79d1\\u6280\\u5927\\u5b78\",\"\\u5d11\\u5c71\\u79d1\\u6280\\u5927\\u5b78\",\"\\u5dba\\u6771\\u79d1\\u6280\\u5927\\u5b78\",\"\\u5efa\\u570b\\u79d1\\u6280\\u5927\\u5b78\",\"\\u5f18\\u5149\\u79d1\\u6280\\u5927\\u5b78\",\"\\u5fb7\\u660e\\u8ca1\\u7d93\\u79d1\\u6280\\u5927\\u5b78\",\"\\u6148\\u60e0\\u91ab\\u8b77\\u7ba1\\u7406\\u5c08\\u79d1\\u5b78\\u6821\",\"\\u6148\\u6fdf\\u79d1\\u6280\\u5927\\u5b78\",\"\\u654f\\u5be6\\u79d1\\u6280\\u5927\\u5b78\",\"\\u654f\\u60e0\\u91ab\\u8b77\\u7ba1\\u7406\\u5c08\\u79d1\\u5b78\\u6821\",\"\\u6587\\u85fb\\u5916\\u8a9e\\u5927\\u5b78\",\"\\u65b0\\u751f\\u91ab\\u8b77\\u7ba1\\u7406\\u5c08\\u79d1\\u5b78\\u6821\",\"\\u660e\\u5fd7\\u79d1\\u6280\\u5927\\u5b78\",\"\\u660e\\u65b0\\u79d1\\u6280\\u5927\\u5b78\",\"\\u666f\\u6587\\u79d1\\u6280\\u5927\\u5b78\",\"\\u671d\\u967d\\u79d1\\u6280\\u5927\\u5b78\",\"\\u6771\\u5357\\u79d1\\u6280\\u5927\\u5b78\",\"\\u6771\\u65b9\\u8a2d\\u8a08\\u5927\\u5b78\",\"\\u6a39\\u4eba\\u91ab\\u8b77\\u7ba1\\u7406\\u5c08\\u79d1\\u5b78\\u6821\",\"\\u6a39\\u5fb7\\u79d1\\u6280\\u5927\\u5b78\",\"\\u6b63\\u4fee\\u79d1\\u6280\\u5927\\u5b78\",\"\\u74b0\\u7403\\u79d1\\u6280\\u5927\\u5b78\",\"\\u7d93\\u570b\\u7ba1\\u7406\\u66a8\\u5065\\u5eb7\\u5b78\\u9662\",\"\\u7f8e\\u548c\\u79d1\\u6280\\u5927\\u5b78\",\"\\u8015\\u8398\\u5065\\u5eb7\\u7ba1\\u7406\\u5c08\\u79d1\\u5b78\\u6821\",\"\\u8056\\u6bcd\\u91ab\\u8b77\\u7ba1\\u7406\\u5c08\\u79d1\\u5b78\\u6821\",\"\\u8056\\u7d04\\u7ff0\\u79d1\\u6280\\u5927\\u5b78\",\"\\u80b2\\u82f1\\u91ab\\u8b77\\u7ba1\\u7406\\u5c08\\u79d1\\u5b78\\u6821\",\"\\u80b2\\u9054\\u79d1\\u6280\\u5927\\u5b78\",\"\\u81f4\\u7406\\u79d1\\u6280\\u5927\\u5b78\",\"\\u81fa\\u5317\\u57ce\\u5e02\\u79d1\\u6280\\u5927\\u5b78\",\"\\u81fa\\u7063\\u89c0\\u5149\\u5b78\\u9662\",\"\\u83ef\\u590f\\u79d1\\u6280\\u5927\\u5b78\",\"\\u842c\\u80fd\\u79d1\\u6280\\u5927\\u5b78\",\"\\u862d\\u967d\\u6280\\u8853\\u5b78\\u9662\",\"\\u8f14\\u82f1\\u79d1\\u6280\\u5927\\u5b78\",\"\\u9060\\u6771\\u79d1\\u6280\\u5927\\u5b78\",\"\\u9192\\u543e\\u79d1\\u6280\\u5927\\u5b78\",\"\\u9577\\u5e9a\\u79d1\\u6280\\u5927\\u5b78\",\"\\u99ac\\u5055\\u91ab\\u8b77\\u7ba1\\u7406\\u5c08\\u79d1\\u5b78\\u6821\",\"\\u9ad8\\u7f8e\\u91ab\\u8b77\\u7ba1\\u7406\\u5c08\\u79d1\\u5b78\\u6821\",\"\\u9ad8\\u82d1\\u79d1\\u6280\\u5927\\u5b78\",\"\\u9ece\\u660e\\u6280\\u8853\\u5b78\\u9662\",\"\\u9f8d\\u83ef\\u79d1\\u6280\\u5927\\u5b78\"],\"xaxis\":\"x\",\"y\":[292400000,41897600,183670155,114099334,168455990,1606772,91148500,91942166,185144649,196109577,105044631,146739988,47891000,9660000,680196196,134513958,112015285,153777643,113645158,8000000,339812120,582375371,657204305,109995988,122008361,232477903,1116716101,304810991,88904294,145978825,69541609,1275575036,947297487,871855828,143890341,54220100,1185199835,201230000,347286446,132834675,27031040,25252676,20008600,79878224,56339570,41599155,749494846,195909211,88648982,463127766,172719208,76310602,189835656,6972600,47121063,245020893,82626944,373902862,206974300,181857916,262025473,87713000,44651389,101276000,312387459,731439000,54860865,47970000,147092167,115151340,39472632,68726769,41782024,42867994,302045828,109980000,1050000,98383068,93096286,15486018,158803806,303885507,268155502,244380234,79890000,0,94326823,68546073,467826224],\"yaxis\":\"y\",\"type\":\"bar\"}],                        {\"template\":{\"data\":{\"histogram2dcontour\":[{\"type\":\"histogram2dcontour\",\"colorbar\":{\"outlinewidth\":0,\"ticks\":\"\"},\"colorscale\":[[0.0,\"#0d0887\"],[0.1111111111111111,\"#46039f\"],[0.2222222222222222,\"#7201a8\"],[0.3333333333333333,\"#9c179e\"],[0.4444444444444444,\"#bd3786\"],[0.5555555555555556,\"#d8576b\"],[0.6666666666666666,\"#ed7953\"],[0.7777777777777778,\"#fb9f3a\"],[0.8888888888888888,\"#fdca26\"],[1.0,\"#f0f921\"]]}],\"choropleth\":[{\"type\":\"choropleth\",\"colorbar\":{\"outlinewidth\":0,\"ticks\":\"\"}}],\"histogram2d\":[{\"type\":\"histogram2d\",\"colorbar\":{\"outlinewidth\":0,\"ticks\":\"\"},\"colorscale\":[[0.0,\"#0d0887\"],[0.1111111111111111,\"#46039f\"],[0.2222222222222222,\"#7201a8\"],[0.3333333333333333,\"#9c179e\"],[0.4444444444444444,\"#bd3786\"],[0.5555555555555556,\"#d8576b\"],[0.6666666666666666,\"#ed7953\"],[0.7777777777777778,\"#fb9f3a\"],[0.8888888888888888,\"#fdca26\"],[1.0,\"#f0f921\"]]}],\"heatmap\":[{\"type\":\"heatmap\",\"colorbar\":{\"outlinewidth\":0,\"ticks\":\"\"},\"colorscale\":[[0.0,\"#0d0887\"],[0.1111111111111111,\"#46039f\"],[0.2222222222222222,\"#7201a8\"],[0.3333333333333333,\"#9c179e\"],[0.4444444444444444,\"#bd3786\"],[0.5555555555555556,\"#d8576b\"],[0.6666666666666666,\"#ed7953\"],[0.7777777777777778,\"#fb9f3a\"],[0.8888888888888888,\"#fdca26\"],[1.0,\"#f0f921\"]]}],\"heatmapgl\":[{\"type\":\"heatmapgl\",\"colorbar\":{\"outlinewidth\":0,\"ticks\":\"\"},\"colorscale\":[[0.0,\"#0d0887\"],[0.1111111111111111,\"#46039f\"],[0.2222222222222222,\"#7201a8\"],[0.3333333333333333,\"#9c179e\"],[0.4444444444444444,\"#bd3786\"],[0.5555555555555556,\"#d8576b\"],[0.6666666666666666,\"#ed7953\"],[0.7777777777777778,\"#fb9f3a\"],[0.8888888888888888,\"#fdca26\"],[1.0,\"#f0f921\"]]}],\"contourcarpet\":[{\"type\":\"contourcarpet\",\"colorbar\":{\"outlinewidth\":0,\"ticks\":\"\"}}],\"contour\":[{\"type\":\"contour\",\"colorbar\":{\"outlinewidth\":0,\"ticks\":\"\"},\"colorscale\":[[0.0,\"#0d0887\"],[0.1111111111111111,\"#46039f\"],[0.2222222222222222,\"#7201a8\"],[0.3333333333333333,\"#9c179e\"],[0.4444444444444444,\"#bd3786\"],[0.5555555555555556,\"#d8576b\"],[0.6666666666666666,\"#ed7953\"],[0.7777777777777778,\"#fb9f3a\"],[0.8888888888888888,\"#fdca26\"],[1.0,\"#f0f921\"]]}],\"surface\":[{\"type\":\"surface\",\"colorbar\":{\"outlinewidth\":0,\"ticks\":\"\"},\"colorscale\":[[0.0,\"#0d0887\"],[0.1111111111111111,\"#46039f\"],[0.2222222222222222,\"#7201a8\"],[0.3333333333333333,\"#9c179e\"],[0.4444444444444444,\"#bd3786\"],[0.5555555555555556,\"#d8576b\"],[0.6666666666666666,\"#ed7953\"],[0.7777777777777778,\"#fb9f3a\"],[0.8888888888888888,\"#fdca26\"],[1.0,\"#f0f921\"]]}],\"mesh3d\":[{\"type\":\"mesh3d\",\"colorbar\":{\"outlinewidth\":0,\"ticks\":\"\"}}],\"scatter\":[{\"fillpattern\":{\"fillmode\":\"overlay\",\"size\":10,\"solidity\":0.2},\"type\":\"scatter\"}],\"parcoords\":[{\"type\":\"parcoords\",\"line\":{\"colorbar\":{\"outlinewidth\":0,\"ticks\":\"\"}}}],\"scatterpolargl\":[{\"type\":\"scatterpolargl\",\"marker\":{\"colorbar\":{\"outlinewidth\":0,\"ticks\":\"\"}}}],\"bar\":[{\"error_x\":{\"color\":\"#2a3f5f\"},\"error_y\":{\"color\":\"#2a3f5f\"},\"marker\":{\"line\":{\"color\":\"#E5ECF6\",\"width\":0.5},\"pattern\":{\"fillmode\":\"overlay\",\"size\":10,\"solidity\":0.2}},\"type\":\"bar\"}],\"scattergeo\":[{\"type\":\"scattergeo\",\"marker\":{\"colorbar\":{\"outlinewidth\":0,\"ticks\":\"\"}}}],\"scatterpolar\":[{\"type\":\"scatterpolar\",\"marker\":{\"colorbar\":{\"outlinewidth\":0,\"ticks\":\"\"}}}],\"histogram\":[{\"marker\":{\"pattern\":{\"fillmode\":\"overlay\",\"size\":10,\"solidity\":0.2}},\"type\":\"histogram\"}],\"scattergl\":[{\"type\":\"scattergl\",\"marker\":{\"colorbar\":{\"outlinewidth\":0,\"ticks\":\"\"}}}],\"scatter3d\":[{\"type\":\"scatter3d\",\"line\":{\"colorbar\":{\"outlinewidth\":0,\"ticks\":\"\"}},\"marker\":{\"colorbar\":{\"outlinewidth\":0,\"ticks\":\"\"}}}],\"scattermapbox\":[{\"type\":\"scattermapbox\",\"marker\":{\"colorbar\":{\"outlinewidth\":0,\"ticks\":\"\"}}}],\"scatterternary\":[{\"type\":\"scatterternary\",\"marker\":{\"colorbar\":{\"outlinewidth\":0,\"ticks\":\"\"}}}],\"scattercarpet\":[{\"type\":\"scattercarpet\",\"marker\":{\"colorbar\":{\"outlinewidth\":0,\"ticks\":\"\"}}}],\"carpet\":[{\"aaxis\":{\"endlinecolor\":\"#2a3f5f\",\"gridcolor\":\"white\",\"linecolor\":\"white\",\"minorgridcolor\":\"white\",\"startlinecolor\":\"#2a3f5f\"},\"baxis\":{\"endlinecolor\":\"#2a3f5f\",\"gridcolor\":\"white\",\"linecolor\":\"white\",\"minorgridcolor\":\"white\",\"startlinecolor\":\"#2a3f5f\"},\"type\":\"carpet\"}],\"table\":[{\"cells\":{\"fill\":{\"color\":\"#EBF0F8\"},\"line\":{\"color\":\"white\"}},\"header\":{\"fill\":{\"color\":\"#C8D4E3\"},\"line\":{\"color\":\"white\"}},\"type\":\"table\"}],\"barpolar\":[{\"marker\":{\"line\":{\"color\":\"#E5ECF6\",\"width\":0.5},\"pattern\":{\"fillmode\":\"overlay\",\"size\":10,\"solidity\":0.2}},\"type\":\"barpolar\"}],\"pie\":[{\"automargin\":true,\"type\":\"pie\"}]},\"layout\":{\"autotypenumbers\":\"strict\",\"colorway\":[\"#636efa\",\"#EF553B\",\"#00cc96\",\"#ab63fa\",\"#FFA15A\",\"#19d3f3\",\"#FF6692\",\"#B6E880\",\"#FF97FF\",\"#FECB52\"],\"font\":{\"color\":\"#2a3f5f\"},\"hovermode\":\"closest\",\"hoverlabel\":{\"align\":\"left\"},\"paper_bgcolor\":\"white\",\"plot_bgcolor\":\"#E5ECF6\",\"polar\":{\"bgcolor\":\"#E5ECF6\",\"angularaxis\":{\"gridcolor\":\"white\",\"linecolor\":\"white\",\"ticks\":\"\"},\"radialaxis\":{\"gridcolor\":\"white\",\"linecolor\":\"white\",\"ticks\":\"\"}},\"ternary\":{\"bgcolor\":\"#E5ECF6\",\"aaxis\":{\"gridcolor\":\"white\",\"linecolor\":\"white\",\"ticks\":\"\"},\"baxis\":{\"gridcolor\":\"white\",\"linecolor\":\"white\",\"ticks\":\"\"},\"caxis\":{\"gridcolor\":\"white\",\"linecolor\":\"white\",\"ticks\":\"\"}},\"coloraxis\":{\"colorbar\":{\"outlinewidth\":0,\"ticks\":\"\"}},\"colorscale\":{\"sequential\":[[0.0,\"#0d0887\"],[0.1111111111111111,\"#46039f\"],[0.2222222222222222,\"#7201a8\"],[0.3333333333333333,\"#9c179e\"],[0.4444444444444444,\"#bd3786\"],[0.5555555555555556,\"#d8576b\"],[0.6666666666666666,\"#ed7953\"],[0.7777777777777778,\"#fb9f3a\"],[0.8888888888888888,\"#fdca26\"],[1.0,\"#f0f921\"]],\"sequentialminus\":[[0.0,\"#0d0887\"],[0.1111111111111111,\"#46039f\"],[0.2222222222222222,\"#7201a8\"],[0.3333333333333333,\"#9c179e\"],[0.4444444444444444,\"#bd3786\"],[0.5555555555555556,\"#d8576b\"],[0.6666666666666666,\"#ed7953\"],[0.7777777777777778,\"#fb9f3a\"],[0.8888888888888888,\"#fdca26\"],[1.0,\"#f0f921\"]],\"diverging\":[[0,\"#8e0152\"],[0.1,\"#c51b7d\"],[0.2,\"#de77ae\"],[0.3,\"#f1b6da\"],[0.4,\"#fde0ef\"],[0.5,\"#f7f7f7\"],[0.6,\"#e6f5d0\"],[0.7,\"#b8e186\"],[0.8,\"#7fbc41\"],[0.9,\"#4d9221\"],[1,\"#276419\"]]},\"xaxis\":{\"gridcolor\":\"white\",\"linecolor\":\"white\",\"ticks\":\"\",\"title\":{\"standoff\":15},\"zerolinecolor\":\"white\",\"automargin\":true,\"zerolinewidth\":2},\"yaxis\":{\"gridcolor\":\"white\",\"linecolor\":\"white\",\"ticks\":\"\",\"title\":{\"standoff\":15},\"zerolinecolor\":\"white\",\"automargin\":true,\"zerolinewidth\":2},\"scene\":{\"xaxis\":{\"backgroundcolor\":\"#E5ECF6\",\"gridcolor\":\"white\",\"linecolor\":\"white\",\"showbackground\":true,\"ticks\":\"\",\"zerolinecolor\":\"white\",\"gridwidth\":2},\"yaxis\":{\"backgroundcolor\":\"#E5ECF6\",\"gridcolor\":\"white\",\"linecolor\":\"white\",\"showbackground\":true,\"ticks\":\"\",\"zerolinecolor\":\"white\",\"gridwidth\":2},\"zaxis\":{\"backgroundcolor\":\"#E5ECF6\",\"gridcolor\":\"white\",\"linecolor\":\"white\",\"showbackground\":true,\"ticks\":\"\",\"zerolinecolor\":\"white\",\"gridwidth\":2}},\"shapedefaults\":{\"line\":{\"color\":\"#2a3f5f\"}},\"annotationdefaults\":{\"arrowcolor\":\"#2a3f5f\",\"arrowhead\":0,\"arrowwidth\":1},\"geo\":{\"bgcolor\":\"white\",\"landcolor\":\"#E5ECF6\",\"subunitcolor\":\"white\",\"showland\":true,\"showlakes\":true,\"lakecolor\":\"white\"},\"title\":{\"x\":0.05},\"mapbox\":{\"style\":\"light\"}}},\"xaxis\":{\"anchor\":\"y\",\"domain\":[0.0,1.0],\"title\":{\"text\":\"\\u5b78\\u6821\\u540d\\u7a31\"}},\"yaxis\":{\"anchor\":\"x\",\"domain\":[0.0,1.0],\"title\":{\"text\":\"\\u6838\\u5b9a\\u7d93\\u8cbb(\\u55ae\\u4f4d\\uff1a\\u5143)\"}},\"legend\":{\"title\":{\"text\":\"\\u985e\\u5225\"},\"tracegroupgap\":0},\"margin\":{\"t\":60},\"barmode\":\"relative\"},                        {\"responsive\": true}                    ).then(function(){\n",
       "                            \n",
       "var gd = document.getElementById('a18e6c63-72e5-46c5-bc08-57eae1c1d77d');\n",
       "var x = new MutationObserver(function (mutations, observer) {{\n",
       "        var display = window.getComputedStyle(gd).display;\n",
       "        if (!display || display === 'none') {{\n",
       "            console.log([gd, 'removed!']);\n",
       "            Plotly.purge(gd);\n",
       "            observer.disconnect();\n",
       "        }}\n",
       "}});\n",
       "\n",
       "// Listen for the removal of the full notebook cells\n",
       "var notebookContainer = gd.closest('#notebook-container');\n",
       "if (notebookContainer) {{\n",
       "    x.observe(notebookContainer, {childList: true});\n",
       "}}\n",
       "\n",
       "// Listen for the clearing of the current output cell\n",
       "var outputEl = gd.closest('.output');\n",
       "if (outputEl) {{\n",
       "    x.observe(outputEl, {childList: true});\n",
       "}}\n",
       "\n",
       "                        })                };                });            </script>        </div>"
      ]
     },
     "metadata": {},
     "output_type": "display_data"
    }
   ],
   "source": [
    "import plotly.express as px\n",
    "fig = px.bar(school1, x=\"學校名稱\", y=\"核定經費(單位：元)\", color=\"類別\")\n",
    "fig.show()"
   ]
  },
  {
   "cell_type": "code",
   "execution_count": 25,
   "id": "5983b83c",
   "metadata": {},
   "outputs": [
    {
     "data": {
      "text/html": [
       "<div>\n",
       "<style scoped>\n",
       "    .dataframe tbody tr th:only-of-type {\n",
       "        vertical-align: middle;\n",
       "    }\n",
       "\n",
       "    .dataframe tbody tr th {\n",
       "        vertical-align: top;\n",
       "    }\n",
       "\n",
       "    .dataframe thead th {\n",
       "        text-align: right;\n",
       "    }\n",
       "</style>\n",
       "<table border=\"1\" class=\"dataframe\">\n",
       "  <thead>\n",
       "    <tr style=\"text-align: right;\">\n",
       "      <th></th>\n",
       "      <th>類別</th>\n",
       "      <th>學校名稱</th>\n",
       "      <th>核定經費(單位：元)</th>\n",
       "    </tr>\n",
       "  </thead>\n",
       "  <tbody>\n",
       "    <tr>\n",
       "      <th>13</th>\n",
       "      <td>一般大學</td>\n",
       "      <td>國立中央大學</td>\n",
       "      <td>1680194517</td>\n",
       "    </tr>\n",
       "    <tr>\n",
       "      <th>14</th>\n",
       "      <td>一般大學</td>\n",
       "      <td>國立中山大學</td>\n",
       "      <td>1198557694</td>\n",
       "    </tr>\n",
       "    <tr>\n",
       "      <th>15</th>\n",
       "      <td>一般大學</td>\n",
       "      <td>國立中正大學</td>\n",
       "      <td>639903242</td>\n",
       "    </tr>\n",
       "    <tr>\n",
       "      <th>16</th>\n",
       "      <td>一般大學</td>\n",
       "      <td>國立中興大學</td>\n",
       "      <td>1625272828</td>\n",
       "    </tr>\n",
       "    <tr>\n",
       "      <th>17</th>\n",
       "      <td>一般大學</td>\n",
       "      <td>國立交通大學</td>\n",
       "      <td>4149500328</td>\n",
       "    </tr>\n",
       "    <tr>\n",
       "      <th>18</th>\n",
       "      <td>一般大學</td>\n",
       "      <td>國立嘉義大學</td>\n",
       "      <td>243223271</td>\n",
       "    </tr>\n",
       "    <tr>\n",
       "      <th>19</th>\n",
       "      <td>一般大學</td>\n",
       "      <td>國立宜蘭大學</td>\n",
       "      <td>241284960</td>\n",
       "    </tr>\n",
       "    <tr>\n",
       "      <th>20</th>\n",
       "      <td>一般大學</td>\n",
       "      <td>國立屏東大學</td>\n",
       "      <td>267198963</td>\n",
       "    </tr>\n",
       "    <tr>\n",
       "      <th>21</th>\n",
       "      <td>一般大學</td>\n",
       "      <td>國立彰化師範大學</td>\n",
       "      <td>267992374</td>\n",
       "    </tr>\n",
       "    <tr>\n",
       "      <th>22</th>\n",
       "      <td>一般大學</td>\n",
       "      <td>國立成功大學</td>\n",
       "      <td>5275852760</td>\n",
       "    </tr>\n",
       "    <tr>\n",
       "      <th>23</th>\n",
       "      <td>一般大學</td>\n",
       "      <td>國立政治大學</td>\n",
       "      <td>1274373074</td>\n",
       "    </tr>\n",
       "    <tr>\n",
       "      <th>24</th>\n",
       "      <td>一般大學</td>\n",
       "      <td>國立暨南國際大學</td>\n",
       "      <td>301829579</td>\n",
       "    </tr>\n",
       "    <tr>\n",
       "      <th>25</th>\n",
       "      <td>一般大學</td>\n",
       "      <td>國立東華大學</td>\n",
       "      <td>243857359</td>\n",
       "    </tr>\n",
       "    <tr>\n",
       "      <th>26</th>\n",
       "      <td>一般大學</td>\n",
       "      <td>國立清華大學</td>\n",
       "      <td>4583361981</td>\n",
       "    </tr>\n",
       "    <tr>\n",
       "      <th>27</th>\n",
       "      <td>一般大學</td>\n",
       "      <td>國立聯合大學</td>\n",
       "      <td>182938483</td>\n",
       "    </tr>\n",
       "    <tr>\n",
       "      <th>28</th>\n",
       "      <td>一般大學</td>\n",
       "      <td>國立臺中教育大學</td>\n",
       "      <td>205196758</td>\n",
       "    </tr>\n",
       "    <tr>\n",
       "      <th>29</th>\n",
       "      <td>一般大學</td>\n",
       "      <td>國立臺北大學</td>\n",
       "      <td>331300045</td>\n",
       "    </tr>\n",
       "    <tr>\n",
       "      <th>30</th>\n",
       "      <td>一般大學</td>\n",
       "      <td>國立臺北教育大學</td>\n",
       "      <td>212759309</td>\n",
       "    </tr>\n",
       "    <tr>\n",
       "      <th>31</th>\n",
       "      <td>一般大學</td>\n",
       "      <td>國立臺北藝術大學</td>\n",
       "      <td>206694381</td>\n",
       "    </tr>\n",
       "    <tr>\n",
       "      <th>32</th>\n",
       "      <td>一般大學</td>\n",
       "      <td>國立臺南大學</td>\n",
       "      <td>196572939</td>\n",
       "    </tr>\n",
       "    <tr>\n",
       "      <th>33</th>\n",
       "      <td>一般大學</td>\n",
       "      <td>國立臺南藝術大學</td>\n",
       "      <td>68497203</td>\n",
       "    </tr>\n",
       "    <tr>\n",
       "      <th>34</th>\n",
       "      <td>一般大學</td>\n",
       "      <td>國立臺東大學</td>\n",
       "      <td>227078828</td>\n",
       "    </tr>\n",
       "    <tr>\n",
       "      <th>35</th>\n",
       "      <td>一般大學</td>\n",
       "      <td>國立臺灣大學</td>\n",
       "      <td>8753601336</td>\n",
       "    </tr>\n",
       "    <tr>\n",
       "      <th>36</th>\n",
       "      <td>一般大學</td>\n",
       "      <td>國立臺灣師範大學</td>\n",
       "      <td>890344664</td>\n",
       "    </tr>\n",
       "    <tr>\n",
       "      <th>37</th>\n",
       "      <td>一般大學</td>\n",
       "      <td>國立臺灣海洋大學</td>\n",
       "      <td>558711670</td>\n",
       "    </tr>\n",
       "    <tr>\n",
       "      <th>38</th>\n",
       "      <td>一般大學</td>\n",
       "      <td>國立臺灣藝術大學</td>\n",
       "      <td>182472109</td>\n",
       "    </tr>\n",
       "    <tr>\n",
       "      <th>39</th>\n",
       "      <td>一般大學</td>\n",
       "      <td>國立臺灣體育運動大學</td>\n",
       "      <td>124841361</td>\n",
       "    </tr>\n",
       "    <tr>\n",
       "      <th>40</th>\n",
       "      <td>一般大學</td>\n",
       "      <td>國立金門大學</td>\n",
       "      <td>134561052</td>\n",
       "    </tr>\n",
       "    <tr>\n",
       "      <th>41</th>\n",
       "      <td>一般大學</td>\n",
       "      <td>國立陽明大學</td>\n",
       "      <td>1369682436</td>\n",
       "    </tr>\n",
       "    <tr>\n",
       "      <th>42</th>\n",
       "      <td>一般大學</td>\n",
       "      <td>國立體育大學</td>\n",
       "      <td>176295050</td>\n",
       "    </tr>\n",
       "    <tr>\n",
       "      <th>43</th>\n",
       "      <td>一般大學</td>\n",
       "      <td>國立高雄大學</td>\n",
       "      <td>201286703</td>\n",
       "    </tr>\n",
       "    <tr>\n",
       "      <th>44</th>\n",
       "      <td>一般大學</td>\n",
       "      <td>國立高雄師範大學</td>\n",
       "      <td>170518983</td>\n",
       "    </tr>\n",
       "    <tr>\n",
       "      <th>92</th>\n",
       "      <td>技專校院</td>\n",
       "      <td>國立勤益科技大學</td>\n",
       "      <td>582375371</td>\n",
       "    </tr>\n",
       "    <tr>\n",
       "      <th>93</th>\n",
       "      <td>技專校院</td>\n",
       "      <td>國立屏東科技大學</td>\n",
       "      <td>657204305</td>\n",
       "    </tr>\n",
       "    <tr>\n",
       "      <th>94</th>\n",
       "      <td>技專校院</td>\n",
       "      <td>國立澎湖科技大學</td>\n",
       "      <td>109995988</td>\n",
       "    </tr>\n",
       "    <tr>\n",
       "      <th>95</th>\n",
       "      <td>技專校院</td>\n",
       "      <td>國立臺中科技大學</td>\n",
       "      <td>122008361</td>\n",
       "    </tr>\n",
       "    <tr>\n",
       "      <th>96</th>\n",
       "      <td>技專校院</td>\n",
       "      <td>國立臺北商業大學</td>\n",
       "      <td>232477903</td>\n",
       "    </tr>\n",
       "    <tr>\n",
       "      <th>97</th>\n",
       "      <td>技專校院</td>\n",
       "      <td>國立臺北科技大學</td>\n",
       "      <td>1116716101</td>\n",
       "    </tr>\n",
       "    <tr>\n",
       "      <th>98</th>\n",
       "      <td>技專校院</td>\n",
       "      <td>國立臺北護理健康大學</td>\n",
       "      <td>304810991</td>\n",
       "    </tr>\n",
       "    <tr>\n",
       "      <th>99</th>\n",
       "      <td>技專校院</td>\n",
       "      <td>國立臺南護理專科學校</td>\n",
       "      <td>88904294</td>\n",
       "    </tr>\n",
       "    <tr>\n",
       "      <th>100</th>\n",
       "      <td>技專校院</td>\n",
       "      <td>國立臺東專科學校</td>\n",
       "      <td>145978825</td>\n",
       "    </tr>\n",
       "    <tr>\n",
       "      <th>101</th>\n",
       "      <td>技專校院</td>\n",
       "      <td>國立臺灣戲曲學院</td>\n",
       "      <td>69541609</td>\n",
       "    </tr>\n",
       "    <tr>\n",
       "      <th>102</th>\n",
       "      <td>技專校院</td>\n",
       "      <td>國立臺灣科技大學</td>\n",
       "      <td>1275575036</td>\n",
       "    </tr>\n",
       "    <tr>\n",
       "      <th>103</th>\n",
       "      <td>技專校院</td>\n",
       "      <td>國立虎尾科技大學</td>\n",
       "      <td>947297487</td>\n",
       "    </tr>\n",
       "    <tr>\n",
       "      <th>104</th>\n",
       "      <td>技專校院</td>\n",
       "      <td>國立雲林科技大學</td>\n",
       "      <td>871855828</td>\n",
       "    </tr>\n",
       "    <tr>\n",
       "      <th>105</th>\n",
       "      <td>技專校院</td>\n",
       "      <td>國立高雄應用科技大學</td>\n",
       "      <td>143890341</td>\n",
       "    </tr>\n",
       "    <tr>\n",
       "      <th>106</th>\n",
       "      <td>技專校院</td>\n",
       "      <td>國立高雄海洋科技大學</td>\n",
       "      <td>54220100</td>\n",
       "    </tr>\n",
       "    <tr>\n",
       "      <th>107</th>\n",
       "      <td>技專校院</td>\n",
       "      <td>國立高雄科技大學</td>\n",
       "      <td>1185199835</td>\n",
       "    </tr>\n",
       "    <tr>\n",
       "      <th>108</th>\n",
       "      <td>技專校院</td>\n",
       "      <td>國立高雄第一科技大學</td>\n",
       "      <td>201230000</td>\n",
       "    </tr>\n",
       "    <tr>\n",
       "      <th>109</th>\n",
       "      <td>技專校院</td>\n",
       "      <td>國立高雄餐旅大學</td>\n",
       "      <td>347286446</td>\n",
       "    </tr>\n",
       "  </tbody>\n",
       "</table>\n",
       "</div>"
      ],
      "text/plain": [
       "       類別        學校名稱  核定經費(單位：元)\n",
       "13   一般大學      國立中央大學  1680194517\n",
       "14   一般大學      國立中山大學  1198557694\n",
       "15   一般大學      國立中正大學   639903242\n",
       "16   一般大學      國立中興大學  1625272828\n",
       "17   一般大學      國立交通大學  4149500328\n",
       "18   一般大學      國立嘉義大學   243223271\n",
       "19   一般大學      國立宜蘭大學   241284960\n",
       "20   一般大學      國立屏東大學   267198963\n",
       "21   一般大學    國立彰化師範大學   267992374\n",
       "22   一般大學      國立成功大學  5275852760\n",
       "23   一般大學      國立政治大學  1274373074\n",
       "24   一般大學    國立暨南國際大學   301829579\n",
       "25   一般大學      國立東華大學   243857359\n",
       "26   一般大學      國立清華大學  4583361981\n",
       "27   一般大學      國立聯合大學   182938483\n",
       "28   一般大學    國立臺中教育大學   205196758\n",
       "29   一般大學      國立臺北大學   331300045\n",
       "30   一般大學    國立臺北教育大學   212759309\n",
       "31   一般大學    國立臺北藝術大學   206694381\n",
       "32   一般大學      國立臺南大學   196572939\n",
       "33   一般大學    國立臺南藝術大學    68497203\n",
       "34   一般大學      國立臺東大學   227078828\n",
       "35   一般大學      國立臺灣大學  8753601336\n",
       "36   一般大學    國立臺灣師範大學   890344664\n",
       "37   一般大學    國立臺灣海洋大學   558711670\n",
       "38   一般大學    國立臺灣藝術大學   182472109\n",
       "39   一般大學  國立臺灣體育運動大學   124841361\n",
       "40   一般大學      國立金門大學   134561052\n",
       "41   一般大學      國立陽明大學  1369682436\n",
       "42   一般大學      國立體育大學   176295050\n",
       "43   一般大學      國立高雄大學   201286703\n",
       "44   一般大學    國立高雄師範大學   170518983\n",
       "92   技專校院    國立勤益科技大學   582375371\n",
       "93   技專校院    國立屏東科技大學   657204305\n",
       "94   技專校院    國立澎湖科技大學   109995988\n",
       "95   技專校院    國立臺中科技大學   122008361\n",
       "96   技專校院    國立臺北商業大學   232477903\n",
       "97   技專校院    國立臺北科技大學  1116716101\n",
       "98   技專校院  國立臺北護理健康大學   304810991\n",
       "99   技專校院  國立臺南護理專科學校    88904294\n",
       "100  技專校院    國立臺東專科學校   145978825\n",
       "101  技專校院    國立臺灣戲曲學院    69541609\n",
       "102  技專校院    國立臺灣科技大學  1275575036\n",
       "103  技專校院    國立虎尾科技大學   947297487\n",
       "104  技專校院    國立雲林科技大學   871855828\n",
       "105  技專校院  國立高雄應用科技大學   143890341\n",
       "106  技專校院  國立高雄海洋科技大學    54220100\n",
       "107  技專校院    國立高雄科技大學  1185199835\n",
       "108  技專校院  國立高雄第一科技大學   201230000\n",
       "109  技專校院    國立高雄餐旅大學   347286446"
      ]
     },
     "execution_count": 25,
     "metadata": {},
     "output_type": "execute_result"
    }
   ],
   "source": [
    "school1['is_national'] = school1['學校名稱'].apply(lambda x: True if '國立' in x else False)\n",
    "\n",
    "national_universities_judge = school1[school1['is_national'] == True]\n",
    "\n",
    "national_universities = national_universities_judge[['類別', '學校名稱', '核定經費(單位：元)']]\n",
    "\n",
    "national_universities"
   ]
  },
  {
   "cell_type": "code",
   "execution_count": 30,
   "id": "47ac08b2",
   "metadata": {},
   "outputs": [
    {
     "data": {
      "application/vnd.plotly.v1+json": {
       "config": {
        "plotlyServerURL": "https://plot.ly"
       },
       "data": [
        {
         "alignmentgroup": "True",
         "hovertemplate": "類別=一般大學<br>學校名稱=%{x}<br>核定經費(單位：元)=%{y}<extra></extra>",
         "legendgroup": "一般大學",
         "marker": {
          "color": "#636efa",
          "pattern": {
           "shape": ""
          }
         },
         "name": "一般大學",
         "offsetgroup": "一般大學",
         "orientation": "v",
         "showlegend": true,
         "textposition": "auto",
         "type": "bar",
         "x": [
          "國立中央大學",
          "國立中山大學",
          "國立中正大學",
          "國立中興大學",
          "國立交通大學",
          "國立嘉義大學",
          "國立宜蘭大學",
          "國立屏東大學",
          "國立彰化師範大學",
          "國立成功大學",
          "國立政治大學",
          "國立暨南國際大學",
          "國立東華大學",
          "國立清華大學",
          "國立聯合大學",
          "國立臺中教育大學",
          "國立臺北大學",
          "國立臺北教育大學",
          "國立臺北藝術大學",
          "國立臺南大學",
          "國立臺南藝術大學",
          "國立臺東大學",
          "國立臺灣大學",
          "國立臺灣師範大學",
          "國立臺灣海洋大學",
          "國立臺灣藝術大學",
          "國立臺灣體育運動大學",
          "國立金門大學",
          "國立陽明大學",
          "國立體育大學",
          "國立高雄大學",
          "國立高雄師範大學"
         ],
         "xaxis": "x",
         "y": [
          1680194517,
          1198557694,
          639903242,
          1625272828,
          4149500328,
          243223271,
          241284960,
          267198963,
          267992374,
          5275852760,
          1274373074,
          301829579,
          243857359,
          4583361981,
          182938483,
          205196758,
          331300045,
          212759309,
          206694381,
          196572939,
          68497203,
          227078828,
          8753601336,
          890344664,
          558711670,
          182472109,
          124841361,
          134561052,
          1369682436,
          176295050,
          201286703,
          170518983
         ],
         "yaxis": "y"
        },
        {
         "alignmentgroup": "True",
         "hovertemplate": "類別=技專校院<br>學校名稱=%{x}<br>核定經費(單位：元)=%{y}<extra></extra>",
         "legendgroup": "技專校院",
         "marker": {
          "color": "#EF553B",
          "pattern": {
           "shape": ""
          }
         },
         "name": "技專校院",
         "offsetgroup": "技專校院",
         "orientation": "v",
         "showlegend": true,
         "textposition": "auto",
         "type": "bar",
         "x": [
          "國立勤益科技大學",
          "國立屏東科技大學",
          "國立澎湖科技大學",
          "國立臺中科技大學",
          "國立臺北商業大學",
          "國立臺北科技大學",
          "國立臺北護理健康大學",
          "國立臺南護理專科學校",
          "國立臺東專科學校",
          "國立臺灣戲曲學院",
          "國立臺灣科技大學",
          "國立虎尾科技大學",
          "國立雲林科技大學",
          "國立高雄應用科技大學",
          "國立高雄海洋科技大學",
          "國立高雄科技大學",
          "國立高雄第一科技大學",
          "國立高雄餐旅大學"
         ],
         "xaxis": "x",
         "y": [
          582375371,
          657204305,
          109995988,
          122008361,
          232477903,
          1116716101,
          304810991,
          88904294,
          145978825,
          69541609,
          1275575036,
          947297487,
          871855828,
          143890341,
          54220100,
          1185199835,
          201230000,
          347286446
         ],
         "yaxis": "y"
        }
       ],
       "layout": {
        "barmode": "relative",
        "legend": {
         "title": {
          "text": "類別"
         },
         "tracegroupgap": 0
        },
        "template": {
         "data": {
          "bar": [
           {
            "error_x": {
             "color": "#2a3f5f"
            },
            "error_y": {
             "color": "#2a3f5f"
            },
            "marker": {
             "line": {
              "color": "#E5ECF6",
              "width": 0.5
             },
             "pattern": {
              "fillmode": "overlay",
              "size": 10,
              "solidity": 0.2
             }
            },
            "type": "bar"
           }
          ],
          "barpolar": [
           {
            "marker": {
             "line": {
              "color": "#E5ECF6",
              "width": 0.5
             },
             "pattern": {
              "fillmode": "overlay",
              "size": 10,
              "solidity": 0.2
             }
            },
            "type": "barpolar"
           }
          ],
          "carpet": [
           {
            "aaxis": {
             "endlinecolor": "#2a3f5f",
             "gridcolor": "white",
             "linecolor": "white",
             "minorgridcolor": "white",
             "startlinecolor": "#2a3f5f"
            },
            "baxis": {
             "endlinecolor": "#2a3f5f",
             "gridcolor": "white",
             "linecolor": "white",
             "minorgridcolor": "white",
             "startlinecolor": "#2a3f5f"
            },
            "type": "carpet"
           }
          ],
          "choropleth": [
           {
            "colorbar": {
             "outlinewidth": 0,
             "ticks": ""
            },
            "type": "choropleth"
           }
          ],
          "contour": [
           {
            "colorbar": {
             "outlinewidth": 0,
             "ticks": ""
            },
            "colorscale": [
             [
              0,
              "#0d0887"
             ],
             [
              0.1111111111111111,
              "#46039f"
             ],
             [
              0.2222222222222222,
              "#7201a8"
             ],
             [
              0.3333333333333333,
              "#9c179e"
             ],
             [
              0.4444444444444444,
              "#bd3786"
             ],
             [
              0.5555555555555556,
              "#d8576b"
             ],
             [
              0.6666666666666666,
              "#ed7953"
             ],
             [
              0.7777777777777778,
              "#fb9f3a"
             ],
             [
              0.8888888888888888,
              "#fdca26"
             ],
             [
              1,
              "#f0f921"
             ]
            ],
            "type": "contour"
           }
          ],
          "contourcarpet": [
           {
            "colorbar": {
             "outlinewidth": 0,
             "ticks": ""
            },
            "type": "contourcarpet"
           }
          ],
          "heatmap": [
           {
            "colorbar": {
             "outlinewidth": 0,
             "ticks": ""
            },
            "colorscale": [
             [
              0,
              "#0d0887"
             ],
             [
              0.1111111111111111,
              "#46039f"
             ],
             [
              0.2222222222222222,
              "#7201a8"
             ],
             [
              0.3333333333333333,
              "#9c179e"
             ],
             [
              0.4444444444444444,
              "#bd3786"
             ],
             [
              0.5555555555555556,
              "#d8576b"
             ],
             [
              0.6666666666666666,
              "#ed7953"
             ],
             [
              0.7777777777777778,
              "#fb9f3a"
             ],
             [
              0.8888888888888888,
              "#fdca26"
             ],
             [
              1,
              "#f0f921"
             ]
            ],
            "type": "heatmap"
           }
          ],
          "heatmapgl": [
           {
            "colorbar": {
             "outlinewidth": 0,
             "ticks": ""
            },
            "colorscale": [
             [
              0,
              "#0d0887"
             ],
             [
              0.1111111111111111,
              "#46039f"
             ],
             [
              0.2222222222222222,
              "#7201a8"
             ],
             [
              0.3333333333333333,
              "#9c179e"
             ],
             [
              0.4444444444444444,
              "#bd3786"
             ],
             [
              0.5555555555555556,
              "#d8576b"
             ],
             [
              0.6666666666666666,
              "#ed7953"
             ],
             [
              0.7777777777777778,
              "#fb9f3a"
             ],
             [
              0.8888888888888888,
              "#fdca26"
             ],
             [
              1,
              "#f0f921"
             ]
            ],
            "type": "heatmapgl"
           }
          ],
          "histogram": [
           {
            "marker": {
             "pattern": {
              "fillmode": "overlay",
              "size": 10,
              "solidity": 0.2
             }
            },
            "type": "histogram"
           }
          ],
          "histogram2d": [
           {
            "colorbar": {
             "outlinewidth": 0,
             "ticks": ""
            },
            "colorscale": [
             [
              0,
              "#0d0887"
             ],
             [
              0.1111111111111111,
              "#46039f"
             ],
             [
              0.2222222222222222,
              "#7201a8"
             ],
             [
              0.3333333333333333,
              "#9c179e"
             ],
             [
              0.4444444444444444,
              "#bd3786"
             ],
             [
              0.5555555555555556,
              "#d8576b"
             ],
             [
              0.6666666666666666,
              "#ed7953"
             ],
             [
              0.7777777777777778,
              "#fb9f3a"
             ],
             [
              0.8888888888888888,
              "#fdca26"
             ],
             [
              1,
              "#f0f921"
             ]
            ],
            "type": "histogram2d"
           }
          ],
          "histogram2dcontour": [
           {
            "colorbar": {
             "outlinewidth": 0,
             "ticks": ""
            },
            "colorscale": [
             [
              0,
              "#0d0887"
             ],
             [
              0.1111111111111111,
              "#46039f"
             ],
             [
              0.2222222222222222,
              "#7201a8"
             ],
             [
              0.3333333333333333,
              "#9c179e"
             ],
             [
              0.4444444444444444,
              "#bd3786"
             ],
             [
              0.5555555555555556,
              "#d8576b"
             ],
             [
              0.6666666666666666,
              "#ed7953"
             ],
             [
              0.7777777777777778,
              "#fb9f3a"
             ],
             [
              0.8888888888888888,
              "#fdca26"
             ],
             [
              1,
              "#f0f921"
             ]
            ],
            "type": "histogram2dcontour"
           }
          ],
          "mesh3d": [
           {
            "colorbar": {
             "outlinewidth": 0,
             "ticks": ""
            },
            "type": "mesh3d"
           }
          ],
          "parcoords": [
           {
            "line": {
             "colorbar": {
              "outlinewidth": 0,
              "ticks": ""
             }
            },
            "type": "parcoords"
           }
          ],
          "pie": [
           {
            "automargin": true,
            "type": "pie"
           }
          ],
          "scatter": [
           {
            "fillpattern": {
             "fillmode": "overlay",
             "size": 10,
             "solidity": 0.2
            },
            "type": "scatter"
           }
          ],
          "scatter3d": [
           {
            "line": {
             "colorbar": {
              "outlinewidth": 0,
              "ticks": ""
             }
            },
            "marker": {
             "colorbar": {
              "outlinewidth": 0,
              "ticks": ""
             }
            },
            "type": "scatter3d"
           }
          ],
          "scattercarpet": [
           {
            "marker": {
             "colorbar": {
              "outlinewidth": 0,
              "ticks": ""
             }
            },
            "type": "scattercarpet"
           }
          ],
          "scattergeo": [
           {
            "marker": {
             "colorbar": {
              "outlinewidth": 0,
              "ticks": ""
             }
            },
            "type": "scattergeo"
           }
          ],
          "scattergl": [
           {
            "marker": {
             "colorbar": {
              "outlinewidth": 0,
              "ticks": ""
             }
            },
            "type": "scattergl"
           }
          ],
          "scattermapbox": [
           {
            "marker": {
             "colorbar": {
              "outlinewidth": 0,
              "ticks": ""
             }
            },
            "type": "scattermapbox"
           }
          ],
          "scatterpolar": [
           {
            "marker": {
             "colorbar": {
              "outlinewidth": 0,
              "ticks": ""
             }
            },
            "type": "scatterpolar"
           }
          ],
          "scatterpolargl": [
           {
            "marker": {
             "colorbar": {
              "outlinewidth": 0,
              "ticks": ""
             }
            },
            "type": "scatterpolargl"
           }
          ],
          "scatterternary": [
           {
            "marker": {
             "colorbar": {
              "outlinewidth": 0,
              "ticks": ""
             }
            },
            "type": "scatterternary"
           }
          ],
          "surface": [
           {
            "colorbar": {
             "outlinewidth": 0,
             "ticks": ""
            },
            "colorscale": [
             [
              0,
              "#0d0887"
             ],
             [
              0.1111111111111111,
              "#46039f"
             ],
             [
              0.2222222222222222,
              "#7201a8"
             ],
             [
              0.3333333333333333,
              "#9c179e"
             ],
             [
              0.4444444444444444,
              "#bd3786"
             ],
             [
              0.5555555555555556,
              "#d8576b"
             ],
             [
              0.6666666666666666,
              "#ed7953"
             ],
             [
              0.7777777777777778,
              "#fb9f3a"
             ],
             [
              0.8888888888888888,
              "#fdca26"
             ],
             [
              1,
              "#f0f921"
             ]
            ],
            "type": "surface"
           }
          ],
          "table": [
           {
            "cells": {
             "fill": {
              "color": "#EBF0F8"
             },
             "line": {
              "color": "white"
             }
            },
            "header": {
             "fill": {
              "color": "#C8D4E3"
             },
             "line": {
              "color": "white"
             }
            },
            "type": "table"
           }
          ]
         },
         "layout": {
          "annotationdefaults": {
           "arrowcolor": "#2a3f5f",
           "arrowhead": 0,
           "arrowwidth": 1
          },
          "autotypenumbers": "strict",
          "coloraxis": {
           "colorbar": {
            "outlinewidth": 0,
            "ticks": ""
           }
          },
          "colorscale": {
           "diverging": [
            [
             0,
             "#8e0152"
            ],
            [
             0.1,
             "#c51b7d"
            ],
            [
             0.2,
             "#de77ae"
            ],
            [
             0.3,
             "#f1b6da"
            ],
            [
             0.4,
             "#fde0ef"
            ],
            [
             0.5,
             "#f7f7f7"
            ],
            [
             0.6,
             "#e6f5d0"
            ],
            [
             0.7,
             "#b8e186"
            ],
            [
             0.8,
             "#7fbc41"
            ],
            [
             0.9,
             "#4d9221"
            ],
            [
             1,
             "#276419"
            ]
           ],
           "sequential": [
            [
             0,
             "#0d0887"
            ],
            [
             0.1111111111111111,
             "#46039f"
            ],
            [
             0.2222222222222222,
             "#7201a8"
            ],
            [
             0.3333333333333333,
             "#9c179e"
            ],
            [
             0.4444444444444444,
             "#bd3786"
            ],
            [
             0.5555555555555556,
             "#d8576b"
            ],
            [
             0.6666666666666666,
             "#ed7953"
            ],
            [
             0.7777777777777778,
             "#fb9f3a"
            ],
            [
             0.8888888888888888,
             "#fdca26"
            ],
            [
             1,
             "#f0f921"
            ]
           ],
           "sequentialminus": [
            [
             0,
             "#0d0887"
            ],
            [
             0.1111111111111111,
             "#46039f"
            ],
            [
             0.2222222222222222,
             "#7201a8"
            ],
            [
             0.3333333333333333,
             "#9c179e"
            ],
            [
             0.4444444444444444,
             "#bd3786"
            ],
            [
             0.5555555555555556,
             "#d8576b"
            ],
            [
             0.6666666666666666,
             "#ed7953"
            ],
            [
             0.7777777777777778,
             "#fb9f3a"
            ],
            [
             0.8888888888888888,
             "#fdca26"
            ],
            [
             1,
             "#f0f921"
            ]
           ]
          },
          "colorway": [
           "#636efa",
           "#EF553B",
           "#00cc96",
           "#ab63fa",
           "#FFA15A",
           "#19d3f3",
           "#FF6692",
           "#B6E880",
           "#FF97FF",
           "#FECB52"
          ],
          "font": {
           "color": "#2a3f5f"
          },
          "geo": {
           "bgcolor": "white",
           "lakecolor": "white",
           "landcolor": "#E5ECF6",
           "showlakes": true,
           "showland": true,
           "subunitcolor": "white"
          },
          "hoverlabel": {
           "align": "left"
          },
          "hovermode": "closest",
          "mapbox": {
           "style": "light"
          },
          "paper_bgcolor": "white",
          "plot_bgcolor": "#E5ECF6",
          "polar": {
           "angularaxis": {
            "gridcolor": "white",
            "linecolor": "white",
            "ticks": ""
           },
           "bgcolor": "#E5ECF6",
           "radialaxis": {
            "gridcolor": "white",
            "linecolor": "white",
            "ticks": ""
           }
          },
          "scene": {
           "xaxis": {
            "backgroundcolor": "#E5ECF6",
            "gridcolor": "white",
            "gridwidth": 2,
            "linecolor": "white",
            "showbackground": true,
            "ticks": "",
            "zerolinecolor": "white"
           },
           "yaxis": {
            "backgroundcolor": "#E5ECF6",
            "gridcolor": "white",
            "gridwidth": 2,
            "linecolor": "white",
            "showbackground": true,
            "ticks": "",
            "zerolinecolor": "white"
           },
           "zaxis": {
            "backgroundcolor": "#E5ECF6",
            "gridcolor": "white",
            "gridwidth": 2,
            "linecolor": "white",
            "showbackground": true,
            "ticks": "",
            "zerolinecolor": "white"
           }
          },
          "shapedefaults": {
           "line": {
            "color": "#2a3f5f"
           }
          },
          "ternary": {
           "aaxis": {
            "gridcolor": "white",
            "linecolor": "white",
            "ticks": ""
           },
           "baxis": {
            "gridcolor": "white",
            "linecolor": "white",
            "ticks": ""
           },
           "bgcolor": "#E5ECF6",
           "caxis": {
            "gridcolor": "white",
            "linecolor": "white",
            "ticks": ""
           }
          },
          "title": {
           "x": 0.05
          },
          "xaxis": {
           "automargin": true,
           "gridcolor": "white",
           "linecolor": "white",
           "ticks": "",
           "title": {
            "standoff": 15
           },
           "zerolinecolor": "white",
           "zerolinewidth": 2
          },
          "yaxis": {
           "automargin": true,
           "gridcolor": "white",
           "linecolor": "white",
           "ticks": "",
           "title": {
            "standoff": 15
           },
           "zerolinecolor": "white",
           "zerolinewidth": 2
          }
         }
        },
        "title": {
         "text": "國立大學核經費"
        },
        "xaxis": {
         "anchor": "y",
         "domain": [
          0,
          1
         ],
         "title": {
          "text": "學校名稱"
         }
        },
        "yaxis": {
         "anchor": "x",
         "domain": [
          0,
          1
         ],
         "title": {
          "text": "核定經費(單位：元)"
         }
        }
       }
      },
      "text/html": [
       "<div>                            <div id=\"8bb737b9-7e6d-4933-a6fa-45023a9d887b\" class=\"plotly-graph-div\" style=\"height:525px; width:100%;\"></div>            <script type=\"text/javascript\">                require([\"plotly\"], function(Plotly) {                    window.PLOTLYENV=window.PLOTLYENV || {};                                    if (document.getElementById(\"8bb737b9-7e6d-4933-a6fa-45023a9d887b\")) {                    Plotly.newPlot(                        \"8bb737b9-7e6d-4933-a6fa-45023a9d887b\",                        [{\"alignmentgroup\":\"True\",\"hovertemplate\":\"\\u985e\\u5225=\\u4e00\\u822c\\u5927\\u5b78<br>\\u5b78\\u6821\\u540d\\u7a31=%{x}<br>\\u6838\\u5b9a\\u7d93\\u8cbb(\\u55ae\\u4f4d\\uff1a\\u5143)=%{y}<extra></extra>\",\"legendgroup\":\"\\u4e00\\u822c\\u5927\\u5b78\",\"marker\":{\"color\":\"#636efa\",\"pattern\":{\"shape\":\"\"}},\"name\":\"\\u4e00\\u822c\\u5927\\u5b78\",\"offsetgroup\":\"\\u4e00\\u822c\\u5927\\u5b78\",\"orientation\":\"v\",\"showlegend\":true,\"textposition\":\"auto\",\"x\":[\"\\u570b\\u7acb\\u4e2d\\u592e\\u5927\\u5b78\",\"\\u570b\\u7acb\\u4e2d\\u5c71\\u5927\\u5b78\",\"\\u570b\\u7acb\\u4e2d\\u6b63\\u5927\\u5b78\",\"\\u570b\\u7acb\\u4e2d\\u8208\\u5927\\u5b78\",\"\\u570b\\u7acb\\u4ea4\\u901a\\u5927\\u5b78\",\"\\u570b\\u7acb\\u5609\\u7fa9\\u5927\\u5b78\",\"\\u570b\\u7acb\\u5b9c\\u862d\\u5927\\u5b78\",\"\\u570b\\u7acb\\u5c4f\\u6771\\u5927\\u5b78\",\"\\u570b\\u7acb\\u5f70\\u5316\\u5e2b\\u7bc4\\u5927\\u5b78\",\"\\u570b\\u7acb\\u6210\\u529f\\u5927\\u5b78\",\"\\u570b\\u7acb\\u653f\\u6cbb\\u5927\\u5b78\",\"\\u570b\\u7acb\\u66a8\\u5357\\u570b\\u969b\\u5927\\u5b78\",\"\\u570b\\u7acb\\u6771\\u83ef\\u5927\\u5b78\",\"\\u570b\\u7acb\\u6e05\\u83ef\\u5927\\u5b78\",\"\\u570b\\u7acb\\u806f\\u5408\\u5927\\u5b78\",\"\\u570b\\u7acb\\u81fa\\u4e2d\\u6559\\u80b2\\u5927\\u5b78\",\"\\u570b\\u7acb\\u81fa\\u5317\\u5927\\u5b78\",\"\\u570b\\u7acb\\u81fa\\u5317\\u6559\\u80b2\\u5927\\u5b78\",\"\\u570b\\u7acb\\u81fa\\u5317\\u85dd\\u8853\\u5927\\u5b78\",\"\\u570b\\u7acb\\u81fa\\u5357\\u5927\\u5b78\",\"\\u570b\\u7acb\\u81fa\\u5357\\u85dd\\u8853\\u5927\\u5b78\",\"\\u570b\\u7acb\\u81fa\\u6771\\u5927\\u5b78\",\"\\u570b\\u7acb\\u81fa\\u7063\\u5927\\u5b78\",\"\\u570b\\u7acb\\u81fa\\u7063\\u5e2b\\u7bc4\\u5927\\u5b78\",\"\\u570b\\u7acb\\u81fa\\u7063\\u6d77\\u6d0b\\u5927\\u5b78\",\"\\u570b\\u7acb\\u81fa\\u7063\\u85dd\\u8853\\u5927\\u5b78\",\"\\u570b\\u7acb\\u81fa\\u7063\\u9ad4\\u80b2\\u904b\\u52d5\\u5927\\u5b78\",\"\\u570b\\u7acb\\u91d1\\u9580\\u5927\\u5b78\",\"\\u570b\\u7acb\\u967d\\u660e\\u5927\\u5b78\",\"\\u570b\\u7acb\\u9ad4\\u80b2\\u5927\\u5b78\",\"\\u570b\\u7acb\\u9ad8\\u96c4\\u5927\\u5b78\",\"\\u570b\\u7acb\\u9ad8\\u96c4\\u5e2b\\u7bc4\\u5927\\u5b78\"],\"xaxis\":\"x\",\"y\":[1680194517,1198557694,639903242,1625272828,4149500328,243223271,241284960,267198963,267992374,5275852760,1274373074,301829579,243857359,4583361981,182938483,205196758,331300045,212759309,206694381,196572939,68497203,227078828,8753601336,890344664,558711670,182472109,124841361,134561052,1369682436,176295050,201286703,170518983],\"yaxis\":\"y\",\"type\":\"bar\"},{\"alignmentgroup\":\"True\",\"hovertemplate\":\"\\u985e\\u5225=\\u6280\\u5c08\\u6821\\u9662<br>\\u5b78\\u6821\\u540d\\u7a31=%{x}<br>\\u6838\\u5b9a\\u7d93\\u8cbb(\\u55ae\\u4f4d\\uff1a\\u5143)=%{y}<extra></extra>\",\"legendgroup\":\"\\u6280\\u5c08\\u6821\\u9662\",\"marker\":{\"color\":\"#EF553B\",\"pattern\":{\"shape\":\"\"}},\"name\":\"\\u6280\\u5c08\\u6821\\u9662\",\"offsetgroup\":\"\\u6280\\u5c08\\u6821\\u9662\",\"orientation\":\"v\",\"showlegend\":true,\"textposition\":\"auto\",\"x\":[\"\\u570b\\u7acb\\u52e4\\u76ca\\u79d1\\u6280\\u5927\\u5b78\",\"\\u570b\\u7acb\\u5c4f\\u6771\\u79d1\\u6280\\u5927\\u5b78\",\"\\u570b\\u7acb\\u6f8e\\u6e56\\u79d1\\u6280\\u5927\\u5b78\",\"\\u570b\\u7acb\\u81fa\\u4e2d\\u79d1\\u6280\\u5927\\u5b78\",\"\\u570b\\u7acb\\u81fa\\u5317\\u5546\\u696d\\u5927\\u5b78\",\"\\u570b\\u7acb\\u81fa\\u5317\\u79d1\\u6280\\u5927\\u5b78\",\"\\u570b\\u7acb\\u81fa\\u5317\\u8b77\\u7406\\u5065\\u5eb7\\u5927\\u5b78\",\"\\u570b\\u7acb\\u81fa\\u5357\\u8b77\\u7406\\u5c08\\u79d1\\u5b78\\u6821\",\"\\u570b\\u7acb\\u81fa\\u6771\\u5c08\\u79d1\\u5b78\\u6821\",\"\\u570b\\u7acb\\u81fa\\u7063\\u6232\\u66f2\\u5b78\\u9662\",\"\\u570b\\u7acb\\u81fa\\u7063\\u79d1\\u6280\\u5927\\u5b78\",\"\\u570b\\u7acb\\u864e\\u5c3e\\u79d1\\u6280\\u5927\\u5b78\",\"\\u570b\\u7acb\\u96f2\\u6797\\u79d1\\u6280\\u5927\\u5b78\",\"\\u570b\\u7acb\\u9ad8\\u96c4\\u61c9\\u7528\\u79d1\\u6280\\u5927\\u5b78\",\"\\u570b\\u7acb\\u9ad8\\u96c4\\u6d77\\u6d0b\\u79d1\\u6280\\u5927\\u5b78\",\"\\u570b\\u7acb\\u9ad8\\u96c4\\u79d1\\u6280\\u5927\\u5b78\",\"\\u570b\\u7acb\\u9ad8\\u96c4\\u7b2c\\u4e00\\u79d1\\u6280\\u5927\\u5b78\",\"\\u570b\\u7acb\\u9ad8\\u96c4\\u9910\\u65c5\\u5927\\u5b78\"],\"xaxis\":\"x\",\"y\":[582375371,657204305,109995988,122008361,232477903,1116716101,304810991,88904294,145978825,69541609,1275575036,947297487,871855828,143890341,54220100,1185199835,201230000,347286446],\"yaxis\":\"y\",\"type\":\"bar\"}],                        {\"template\":{\"data\":{\"histogram2dcontour\":[{\"type\":\"histogram2dcontour\",\"colorbar\":{\"outlinewidth\":0,\"ticks\":\"\"},\"colorscale\":[[0.0,\"#0d0887\"],[0.1111111111111111,\"#46039f\"],[0.2222222222222222,\"#7201a8\"],[0.3333333333333333,\"#9c179e\"],[0.4444444444444444,\"#bd3786\"],[0.5555555555555556,\"#d8576b\"],[0.6666666666666666,\"#ed7953\"],[0.7777777777777778,\"#fb9f3a\"],[0.8888888888888888,\"#fdca26\"],[1.0,\"#f0f921\"]]}],\"choropleth\":[{\"type\":\"choropleth\",\"colorbar\":{\"outlinewidth\":0,\"ticks\":\"\"}}],\"histogram2d\":[{\"type\":\"histogram2d\",\"colorbar\":{\"outlinewidth\":0,\"ticks\":\"\"},\"colorscale\":[[0.0,\"#0d0887\"],[0.1111111111111111,\"#46039f\"],[0.2222222222222222,\"#7201a8\"],[0.3333333333333333,\"#9c179e\"],[0.4444444444444444,\"#bd3786\"],[0.5555555555555556,\"#d8576b\"],[0.6666666666666666,\"#ed7953\"],[0.7777777777777778,\"#fb9f3a\"],[0.8888888888888888,\"#fdca26\"],[1.0,\"#f0f921\"]]}],\"heatmap\":[{\"type\":\"heatmap\",\"colorbar\":{\"outlinewidth\":0,\"ticks\":\"\"},\"colorscale\":[[0.0,\"#0d0887\"],[0.1111111111111111,\"#46039f\"],[0.2222222222222222,\"#7201a8\"],[0.3333333333333333,\"#9c179e\"],[0.4444444444444444,\"#bd3786\"],[0.5555555555555556,\"#d8576b\"],[0.6666666666666666,\"#ed7953\"],[0.7777777777777778,\"#fb9f3a\"],[0.8888888888888888,\"#fdca26\"],[1.0,\"#f0f921\"]]}],\"heatmapgl\":[{\"type\":\"heatmapgl\",\"colorbar\":{\"outlinewidth\":0,\"ticks\":\"\"},\"colorscale\":[[0.0,\"#0d0887\"],[0.1111111111111111,\"#46039f\"],[0.2222222222222222,\"#7201a8\"],[0.3333333333333333,\"#9c179e\"],[0.4444444444444444,\"#bd3786\"],[0.5555555555555556,\"#d8576b\"],[0.6666666666666666,\"#ed7953\"],[0.7777777777777778,\"#fb9f3a\"],[0.8888888888888888,\"#fdca26\"],[1.0,\"#f0f921\"]]}],\"contourcarpet\":[{\"type\":\"contourcarpet\",\"colorbar\":{\"outlinewidth\":0,\"ticks\":\"\"}}],\"contour\":[{\"type\":\"contour\",\"colorbar\":{\"outlinewidth\":0,\"ticks\":\"\"},\"colorscale\":[[0.0,\"#0d0887\"],[0.1111111111111111,\"#46039f\"],[0.2222222222222222,\"#7201a8\"],[0.3333333333333333,\"#9c179e\"],[0.4444444444444444,\"#bd3786\"],[0.5555555555555556,\"#d8576b\"],[0.6666666666666666,\"#ed7953\"],[0.7777777777777778,\"#fb9f3a\"],[0.8888888888888888,\"#fdca26\"],[1.0,\"#f0f921\"]]}],\"surface\":[{\"type\":\"surface\",\"colorbar\":{\"outlinewidth\":0,\"ticks\":\"\"},\"colorscale\":[[0.0,\"#0d0887\"],[0.1111111111111111,\"#46039f\"],[0.2222222222222222,\"#7201a8\"],[0.3333333333333333,\"#9c179e\"],[0.4444444444444444,\"#bd3786\"],[0.5555555555555556,\"#d8576b\"],[0.6666666666666666,\"#ed7953\"],[0.7777777777777778,\"#fb9f3a\"],[0.8888888888888888,\"#fdca26\"],[1.0,\"#f0f921\"]]}],\"mesh3d\":[{\"type\":\"mesh3d\",\"colorbar\":{\"outlinewidth\":0,\"ticks\":\"\"}}],\"scatter\":[{\"fillpattern\":{\"fillmode\":\"overlay\",\"size\":10,\"solidity\":0.2},\"type\":\"scatter\"}],\"parcoords\":[{\"type\":\"parcoords\",\"line\":{\"colorbar\":{\"outlinewidth\":0,\"ticks\":\"\"}}}],\"scatterpolargl\":[{\"type\":\"scatterpolargl\",\"marker\":{\"colorbar\":{\"outlinewidth\":0,\"ticks\":\"\"}}}],\"bar\":[{\"error_x\":{\"color\":\"#2a3f5f\"},\"error_y\":{\"color\":\"#2a3f5f\"},\"marker\":{\"line\":{\"color\":\"#E5ECF6\",\"width\":0.5},\"pattern\":{\"fillmode\":\"overlay\",\"size\":10,\"solidity\":0.2}},\"type\":\"bar\"}],\"scattergeo\":[{\"type\":\"scattergeo\",\"marker\":{\"colorbar\":{\"outlinewidth\":0,\"ticks\":\"\"}}}],\"scatterpolar\":[{\"type\":\"scatterpolar\",\"marker\":{\"colorbar\":{\"outlinewidth\":0,\"ticks\":\"\"}}}],\"histogram\":[{\"marker\":{\"pattern\":{\"fillmode\":\"overlay\",\"size\":10,\"solidity\":0.2}},\"type\":\"histogram\"}],\"scattergl\":[{\"type\":\"scattergl\",\"marker\":{\"colorbar\":{\"outlinewidth\":0,\"ticks\":\"\"}}}],\"scatter3d\":[{\"type\":\"scatter3d\",\"line\":{\"colorbar\":{\"outlinewidth\":0,\"ticks\":\"\"}},\"marker\":{\"colorbar\":{\"outlinewidth\":0,\"ticks\":\"\"}}}],\"scattermapbox\":[{\"type\":\"scattermapbox\",\"marker\":{\"colorbar\":{\"outlinewidth\":0,\"ticks\":\"\"}}}],\"scatterternary\":[{\"type\":\"scatterternary\",\"marker\":{\"colorbar\":{\"outlinewidth\":0,\"ticks\":\"\"}}}],\"scattercarpet\":[{\"type\":\"scattercarpet\",\"marker\":{\"colorbar\":{\"outlinewidth\":0,\"ticks\":\"\"}}}],\"carpet\":[{\"aaxis\":{\"endlinecolor\":\"#2a3f5f\",\"gridcolor\":\"white\",\"linecolor\":\"white\",\"minorgridcolor\":\"white\",\"startlinecolor\":\"#2a3f5f\"},\"baxis\":{\"endlinecolor\":\"#2a3f5f\",\"gridcolor\":\"white\",\"linecolor\":\"white\",\"minorgridcolor\":\"white\",\"startlinecolor\":\"#2a3f5f\"},\"type\":\"carpet\"}],\"table\":[{\"cells\":{\"fill\":{\"color\":\"#EBF0F8\"},\"line\":{\"color\":\"white\"}},\"header\":{\"fill\":{\"color\":\"#C8D4E3\"},\"line\":{\"color\":\"white\"}},\"type\":\"table\"}],\"barpolar\":[{\"marker\":{\"line\":{\"color\":\"#E5ECF6\",\"width\":0.5},\"pattern\":{\"fillmode\":\"overlay\",\"size\":10,\"solidity\":0.2}},\"type\":\"barpolar\"}],\"pie\":[{\"automargin\":true,\"type\":\"pie\"}]},\"layout\":{\"autotypenumbers\":\"strict\",\"colorway\":[\"#636efa\",\"#EF553B\",\"#00cc96\",\"#ab63fa\",\"#FFA15A\",\"#19d3f3\",\"#FF6692\",\"#B6E880\",\"#FF97FF\",\"#FECB52\"],\"font\":{\"color\":\"#2a3f5f\"},\"hovermode\":\"closest\",\"hoverlabel\":{\"align\":\"left\"},\"paper_bgcolor\":\"white\",\"plot_bgcolor\":\"#E5ECF6\",\"polar\":{\"bgcolor\":\"#E5ECF6\",\"angularaxis\":{\"gridcolor\":\"white\",\"linecolor\":\"white\",\"ticks\":\"\"},\"radialaxis\":{\"gridcolor\":\"white\",\"linecolor\":\"white\",\"ticks\":\"\"}},\"ternary\":{\"bgcolor\":\"#E5ECF6\",\"aaxis\":{\"gridcolor\":\"white\",\"linecolor\":\"white\",\"ticks\":\"\"},\"baxis\":{\"gridcolor\":\"white\",\"linecolor\":\"white\",\"ticks\":\"\"},\"caxis\":{\"gridcolor\":\"white\",\"linecolor\":\"white\",\"ticks\":\"\"}},\"coloraxis\":{\"colorbar\":{\"outlinewidth\":0,\"ticks\":\"\"}},\"colorscale\":{\"sequential\":[[0.0,\"#0d0887\"],[0.1111111111111111,\"#46039f\"],[0.2222222222222222,\"#7201a8\"],[0.3333333333333333,\"#9c179e\"],[0.4444444444444444,\"#bd3786\"],[0.5555555555555556,\"#d8576b\"],[0.6666666666666666,\"#ed7953\"],[0.7777777777777778,\"#fb9f3a\"],[0.8888888888888888,\"#fdca26\"],[1.0,\"#f0f921\"]],\"sequentialminus\":[[0.0,\"#0d0887\"],[0.1111111111111111,\"#46039f\"],[0.2222222222222222,\"#7201a8\"],[0.3333333333333333,\"#9c179e\"],[0.4444444444444444,\"#bd3786\"],[0.5555555555555556,\"#d8576b\"],[0.6666666666666666,\"#ed7953\"],[0.7777777777777778,\"#fb9f3a\"],[0.8888888888888888,\"#fdca26\"],[1.0,\"#f0f921\"]],\"diverging\":[[0,\"#8e0152\"],[0.1,\"#c51b7d\"],[0.2,\"#de77ae\"],[0.3,\"#f1b6da\"],[0.4,\"#fde0ef\"],[0.5,\"#f7f7f7\"],[0.6,\"#e6f5d0\"],[0.7,\"#b8e186\"],[0.8,\"#7fbc41\"],[0.9,\"#4d9221\"],[1,\"#276419\"]]},\"xaxis\":{\"gridcolor\":\"white\",\"linecolor\":\"white\",\"ticks\":\"\",\"title\":{\"standoff\":15},\"zerolinecolor\":\"white\",\"automargin\":true,\"zerolinewidth\":2},\"yaxis\":{\"gridcolor\":\"white\",\"linecolor\":\"white\",\"ticks\":\"\",\"title\":{\"standoff\":15},\"zerolinecolor\":\"white\",\"automargin\":true,\"zerolinewidth\":2},\"scene\":{\"xaxis\":{\"backgroundcolor\":\"#E5ECF6\",\"gridcolor\":\"white\",\"linecolor\":\"white\",\"showbackground\":true,\"ticks\":\"\",\"zerolinecolor\":\"white\",\"gridwidth\":2},\"yaxis\":{\"backgroundcolor\":\"#E5ECF6\",\"gridcolor\":\"white\",\"linecolor\":\"white\",\"showbackground\":true,\"ticks\":\"\",\"zerolinecolor\":\"white\",\"gridwidth\":2},\"zaxis\":{\"backgroundcolor\":\"#E5ECF6\",\"gridcolor\":\"white\",\"linecolor\":\"white\",\"showbackground\":true,\"ticks\":\"\",\"zerolinecolor\":\"white\",\"gridwidth\":2}},\"shapedefaults\":{\"line\":{\"color\":\"#2a3f5f\"}},\"annotationdefaults\":{\"arrowcolor\":\"#2a3f5f\",\"arrowhead\":0,\"arrowwidth\":1},\"geo\":{\"bgcolor\":\"white\",\"landcolor\":\"#E5ECF6\",\"subunitcolor\":\"white\",\"showland\":true,\"showlakes\":true,\"lakecolor\":\"white\"},\"title\":{\"x\":0.05},\"mapbox\":{\"style\":\"light\"}}},\"xaxis\":{\"anchor\":\"y\",\"domain\":[0.0,1.0],\"title\":{\"text\":\"\\u5b78\\u6821\\u540d\\u7a31\"}},\"yaxis\":{\"anchor\":\"x\",\"domain\":[0.0,1.0],\"title\":{\"text\":\"\\u6838\\u5b9a\\u7d93\\u8cbb(\\u55ae\\u4f4d\\uff1a\\u5143)\"}},\"legend\":{\"title\":{\"text\":\"\\u985e\\u5225\"},\"tracegroupgap\":0},\"title\":{\"text\":\"\\u570b\\u7acb\\u5927\\u5b78\\u6838\\u7d93\\u8cbb\"},\"barmode\":\"relative\"},                        {\"responsive\": true}                    ).then(function(){\n",
       "                            \n",
       "var gd = document.getElementById('8bb737b9-7e6d-4933-a6fa-45023a9d887b');\n",
       "var x = new MutationObserver(function (mutations, observer) {{\n",
       "        var display = window.getComputedStyle(gd).display;\n",
       "        if (!display || display === 'none') {{\n",
       "            console.log([gd, 'removed!']);\n",
       "            Plotly.purge(gd);\n",
       "            observer.disconnect();\n",
       "        }}\n",
       "}});\n",
       "\n",
       "// Listen for the removal of the full notebook cells\n",
       "var notebookContainer = gd.closest('#notebook-container');\n",
       "if (notebookContainer) {{\n",
       "    x.observe(notebookContainer, {childList: true});\n",
       "}}\n",
       "\n",
       "// Listen for the clearing of the current output cell\n",
       "var outputEl = gd.closest('.output');\n",
       "if (outputEl) {{\n",
       "    x.observe(outputEl, {childList: true});\n",
       "}}\n",
       "\n",
       "                        })                };                });            </script>        </div>"
      ]
     },
     "metadata": {},
     "output_type": "display_data"
    }
   ],
   "source": [
    "import plotly.express as px\n",
    "fig = px.bar(national_universities, x=\"學校名稱\", y=\"核定經費(單位：元)\", color=\"類別\", title=\"國立大學核經費\")\n",
    "fig.show()"
   ]
  },
  {
   "cell_type": "markdown",
   "id": "10e69705",
   "metadata": {},
   "source": [
    "# Question 1\n"
   ]
  },
  {
   "cell_type": "markdown",
   "id": "eb873eb4",
   "metadata": {},
   "source": [
    "國立大學中核定最多經費的是？\n",
    "NTU"
   ]
  },
  {
   "cell_type": "markdown",
   "id": "6b93238a",
   "metadata": {},
   "source": [
    "# Question 2"
   ]
  },
  {
   "cell_type": "markdown",
   "id": "19440353",
   "metadata": {},
   "source": [
    "NTNU核定了多少經費？\n",
    "890.3447M 元"
   ]
  },
  {
   "cell_type": "markdown",
   "id": "65fa2a3f",
   "metadata": {},
   "source": [
    "# Question 3"
   ]
  },
  {
   "cell_type": "markdown",
   "id": "5242431a",
   "metadata": {},
   "source": [
    "技專校院中核定了最多經費的是哪一所學校，核定了多少經費？\n",
    "NTUST，1.275575B"
   ]
  },
  {
   "cell_type": "code",
   "execution_count": 27,
   "id": "bd852a13",
   "metadata": {},
   "outputs": [
    {
     "data": {
      "text/html": [
       "<div>\n",
       "<style scoped>\n",
       "    .dataframe tbody tr th:only-of-type {\n",
       "        vertical-align: middle;\n",
       "    }\n",
       "\n",
       "    .dataframe tbody tr th {\n",
       "        vertical-align: top;\n",
       "    }\n",
       "\n",
       "    .dataframe thead th {\n",
       "        text-align: right;\n",
       "    }\n",
       "</style>\n",
       "<table border=\"1\" class=\"dataframe\">\n",
       "  <thead>\n",
       "    <tr style=\"text-align: right;\">\n",
       "      <th></th>\n",
       "      <th>類別</th>\n",
       "      <th>學校名稱</th>\n",
       "      <th>核定經費(單位：元)</th>\n",
       "    </tr>\n",
       "  </thead>\n",
       "  <tbody>\n",
       "    <tr>\n",
       "      <th>0</th>\n",
       "      <td>一般大學</td>\n",
       "      <td>一貫道天皇學院</td>\n",
       "      <td>14391000</td>\n",
       "    </tr>\n",
       "    <tr>\n",
       "      <th>1</th>\n",
       "      <td>一般大學</td>\n",
       "      <td>世新大學</td>\n",
       "      <td>244019801</td>\n",
       "    </tr>\n",
       "    <tr>\n",
       "      <th>2</th>\n",
       "      <td>一般大學</td>\n",
       "      <td>中信金融管理學院</td>\n",
       "      <td>62233063</td>\n",
       "    </tr>\n",
       "    <tr>\n",
       "      <th>3</th>\n",
       "      <td>一般大學</td>\n",
       "      <td>中原大學</td>\n",
       "      <td>566128253</td>\n",
       "    </tr>\n",
       "    <tr>\n",
       "      <th>4</th>\n",
       "      <td>一般大學</td>\n",
       "      <td>中國文化大學</td>\n",
       "      <td>278397368</td>\n",
       "    </tr>\n",
       "    <tr>\n",
       "      <th>...</th>\n",
       "      <td>...</td>\n",
       "      <td>...</td>\n",
       "      <td>...</td>\n",
       "    </tr>\n",
       "    <tr>\n",
       "      <th>155</th>\n",
       "      <td>技專校院</td>\n",
       "      <td>馬偕醫護管理專科學校</td>\n",
       "      <td>79890000</td>\n",
       "    </tr>\n",
       "    <tr>\n",
       "      <th>156</th>\n",
       "      <td>技專校院</td>\n",
       "      <td>高美醫護管理專科學校</td>\n",
       "      <td>0</td>\n",
       "    </tr>\n",
       "    <tr>\n",
       "      <th>157</th>\n",
       "      <td>技專校院</td>\n",
       "      <td>高苑科技大學</td>\n",
       "      <td>94326823</td>\n",
       "    </tr>\n",
       "    <tr>\n",
       "      <th>158</th>\n",
       "      <td>技專校院</td>\n",
       "      <td>黎明技術學院</td>\n",
       "      <td>68546073</td>\n",
       "    </tr>\n",
       "    <tr>\n",
       "      <th>159</th>\n",
       "      <td>技專校院</td>\n",
       "      <td>龍華科技大學</td>\n",
       "      <td>467826224</td>\n",
       "    </tr>\n",
       "  </tbody>\n",
       "</table>\n",
       "<p>110 rows × 3 columns</p>\n",
       "</div>"
      ],
      "text/plain": [
       "       類別        學校名稱  核定經費(單位：元)\n",
       "0    一般大學     一貫道天皇學院    14391000\n",
       "1    一般大學        世新大學   244019801\n",
       "2    一般大學    中信金融管理學院    62233063\n",
       "3    一般大學        中原大學   566128253\n",
       "4    一般大學      中國文化大學   278397368\n",
       "..    ...         ...         ...\n",
       "155  技專校院  馬偕醫護管理專科學校    79890000\n",
       "156  技專校院  高美醫護管理專科學校           0\n",
       "157  技專校院      高苑科技大學    94326823\n",
       "158  技專校院      黎明技術學院    68546073\n",
       "159  技專校院      龍華科技大學   467826224\n",
       "\n",
       "[110 rows x 3 columns]"
      ]
     },
     "execution_count": 27,
     "metadata": {},
     "output_type": "execute_result"
    }
   ],
   "source": [
    "not_national_universities_judge = school1[school1['is_national'] == False]\n",
    "\n",
    "not_national_universities = not_national_universities_judge[['類別', '學校名稱', '核定經費(單位：元)']]\n",
    "\n",
    "not_national_universities"
   ]
  },
  {
   "cell_type": "code",
   "execution_count": 28,
   "id": "35ff1898",
   "metadata": {},
   "outputs": [
    {
     "data": {
      "application/vnd.plotly.v1+json": {
       "config": {
        "plotlyServerURL": "https://plot.ly"
       },
       "data": [
        {
         "alignmentgroup": "True",
         "hovertemplate": "類別=一般大學<br>學校名稱=%{x}<br>核定經費(單位：元)=%{y}<extra></extra>",
         "legendgroup": "一般大學",
         "marker": {
          "color": "#636efa",
          "pattern": {
           "shape": ""
          }
         },
         "name": "一般大學",
         "offsetgroup": "一般大學",
         "orientation": "v",
         "showlegend": true,
         "textposition": "auto",
         "type": "bar",
         "x": [
          "一貫道天皇學院",
          "世新大學",
          "中信金融管理學院",
          "中原大學",
          "中國文化大學",
          "中國醫藥大學",
          "中山醫學大學",
          "中華大學",
          "亞洲大學",
          "佛光大學",
          "元智大學",
          "南華大學",
          "台灣首府大學",
          "大同大學",
          "大葉大學",
          "實踐大學",
          "康寧大學",
          "慈濟大學",
          "明道大學",
          "東吳大學",
          "東海大學",
          "法鼓文理學院",
          "淡江大學",
          "玄奘大學",
          "真理大學",
          "稻江科技暨管理學院",
          "義守大學",
          "臺北市立大學",
          "臺北醫學大學",
          "華梵大學",
          "輔仁大學",
          "逢甲大學",
          "銘傳大學",
          "長庚大學",
          "長榮大學",
          "開南大學",
          "靜宜大學",
          "馬偕醫學院",
          "高雄醫學大學"
         ],
         "xaxis": "x",
         "y": [
          14391000,
          244019801,
          62233063,
          566128253,
          278397368,
          796775969,
          237875976,
          195291248,
          250520697,
          185621465,
          379034709,
          237014986,
          37342074,
          168609120,
          257017189,
          263236021,
          28551028,
          221779507,
          35247641,
          368307143,
          483051852,
          9841658,
          361051434,
          133113024,
          75278385,
          3636000,
          327832651,
          192042676,
          1073771053,
          115509642,
          353257047,
          587330551,
          296238125,
          661368507,
          228211623,
          72101661,
          363580532,
          160733231,
          492047407
         ],
         "yaxis": "y"
        },
        {
         "alignmentgroup": "True",
         "hovertemplate": "類別=技專校院<br>學校名稱=%{x}<br>核定經費(單位：元)=%{y}<extra></extra>",
         "legendgroup": "技專校院",
         "marker": {
          "color": "#EF553B",
          "pattern": {
           "shape": ""
          }
         },
         "name": "技專校院",
         "offsetgroup": "技專校院",
         "orientation": "v",
         "showlegend": true,
         "textposition": "auto",
         "type": "bar",
         "x": [
          "中國科技大學",
          "中州科技大學",
          "中臺科技大學",
          "中華科技大學",
          "中華醫事科技大學",
          "亞太創意技術學院",
          "亞東技術學院",
          "仁德醫護管理專科學校",
          "修平科技大學",
          "健行科技大學",
          "僑光科技大學",
          "元培醫事科技大學",
          "南亞技術學院",
          "南榮科技大學",
          "南臺科技大學",
          "南開科技大學",
          "台北海洋科技大學",
          "台南應用科技大學",
          "吳鳳科技大學",
          "和春技術學院",
          "嘉南藥理大學",
          "大仁科技大學",
          "大同技術學院",
          "大漢技術學院",
          "大華科技大學",
          "宏國德霖科技大學",
          "崇仁醫護管理專科學校",
          "崇右影藝科技大學",
          "崑山科技大學",
          "嶺東科技大學",
          "建國科技大學",
          "弘光科技大學",
          "德明財經科技大學",
          "慈惠醫護管理專科學校",
          "慈濟科技大學",
          "敏實科技大學",
          "敏惠醫護管理專科學校",
          "文藻外語大學",
          "新生醫護管理專科學校",
          "明志科技大學",
          "明新科技大學",
          "景文科技大學",
          "朝陽科技大學",
          "東南科技大學",
          "東方設計大學",
          "樹人醫護管理專科學校",
          "樹德科技大學",
          "正修科技大學",
          "環球科技大學",
          "經國管理暨健康學院",
          "美和科技大學",
          "耕莘健康管理專科學校",
          "聖母醫護管理專科學校",
          "聖約翰科技大學",
          "育英醫護管理專科學校",
          "育達科技大學",
          "致理科技大學",
          "臺北城市科技大學",
          "臺灣觀光學院",
          "華夏科技大學",
          "萬能科技大學",
          "蘭陽技術學院",
          "輔英科技大學",
          "遠東科技大學",
          "醒吾科技大學",
          "長庚科技大學",
          "馬偕醫護管理專科學校",
          "高美醫護管理專科學校",
          "高苑科技大學",
          "黎明技術學院",
          "龍華科技大學"
         ],
         "xaxis": "x",
         "y": [
          292400000,
          41897600,
          183670155,
          114099334,
          168455990,
          1606772,
          91148500,
          91942166,
          185144649,
          196109577,
          105044631,
          146739988,
          47891000,
          9660000,
          680196196,
          134513958,
          112015285,
          153777643,
          113645158,
          8000000,
          339812120,
          132834675,
          27031040,
          25252676,
          20008600,
          79878224,
          56339570,
          41599155,
          749494846,
          195909211,
          88648982,
          463127766,
          172719208,
          76310602,
          189835656,
          6972600,
          47121063,
          245020893,
          82626944,
          373902862,
          206974300,
          181857916,
          262025473,
          87713000,
          44651389,
          101276000,
          312387459,
          731439000,
          54860865,
          47970000,
          147092167,
          115151340,
          39472632,
          68726769,
          41782024,
          42867994,
          302045828,
          109980000,
          1050000,
          98383068,
          93096286,
          15486018,
          158803806,
          303885507,
          268155502,
          244380234,
          79890000,
          0,
          94326823,
          68546073,
          467826224
         ],
         "yaxis": "y"
        }
       ],
       "layout": {
        "barmode": "relative",
        "legend": {
         "title": {
          "text": "類別"
         },
         "tracegroupgap": 0
        },
        "margin": {
         "t": 60
        },
        "template": {
         "data": {
          "bar": [
           {
            "error_x": {
             "color": "#2a3f5f"
            },
            "error_y": {
             "color": "#2a3f5f"
            },
            "marker": {
             "line": {
              "color": "#E5ECF6",
              "width": 0.5
             },
             "pattern": {
              "fillmode": "overlay",
              "size": 10,
              "solidity": 0.2
             }
            },
            "type": "bar"
           }
          ],
          "barpolar": [
           {
            "marker": {
             "line": {
              "color": "#E5ECF6",
              "width": 0.5
             },
             "pattern": {
              "fillmode": "overlay",
              "size": 10,
              "solidity": 0.2
             }
            },
            "type": "barpolar"
           }
          ],
          "carpet": [
           {
            "aaxis": {
             "endlinecolor": "#2a3f5f",
             "gridcolor": "white",
             "linecolor": "white",
             "minorgridcolor": "white",
             "startlinecolor": "#2a3f5f"
            },
            "baxis": {
             "endlinecolor": "#2a3f5f",
             "gridcolor": "white",
             "linecolor": "white",
             "minorgridcolor": "white",
             "startlinecolor": "#2a3f5f"
            },
            "type": "carpet"
           }
          ],
          "choropleth": [
           {
            "colorbar": {
             "outlinewidth": 0,
             "ticks": ""
            },
            "type": "choropleth"
           }
          ],
          "contour": [
           {
            "colorbar": {
             "outlinewidth": 0,
             "ticks": ""
            },
            "colorscale": [
             [
              0,
              "#0d0887"
             ],
             [
              0.1111111111111111,
              "#46039f"
             ],
             [
              0.2222222222222222,
              "#7201a8"
             ],
             [
              0.3333333333333333,
              "#9c179e"
             ],
             [
              0.4444444444444444,
              "#bd3786"
             ],
             [
              0.5555555555555556,
              "#d8576b"
             ],
             [
              0.6666666666666666,
              "#ed7953"
             ],
             [
              0.7777777777777778,
              "#fb9f3a"
             ],
             [
              0.8888888888888888,
              "#fdca26"
             ],
             [
              1,
              "#f0f921"
             ]
            ],
            "type": "contour"
           }
          ],
          "contourcarpet": [
           {
            "colorbar": {
             "outlinewidth": 0,
             "ticks": ""
            },
            "type": "contourcarpet"
           }
          ],
          "heatmap": [
           {
            "colorbar": {
             "outlinewidth": 0,
             "ticks": ""
            },
            "colorscale": [
             [
              0,
              "#0d0887"
             ],
             [
              0.1111111111111111,
              "#46039f"
             ],
             [
              0.2222222222222222,
              "#7201a8"
             ],
             [
              0.3333333333333333,
              "#9c179e"
             ],
             [
              0.4444444444444444,
              "#bd3786"
             ],
             [
              0.5555555555555556,
              "#d8576b"
             ],
             [
              0.6666666666666666,
              "#ed7953"
             ],
             [
              0.7777777777777778,
              "#fb9f3a"
             ],
             [
              0.8888888888888888,
              "#fdca26"
             ],
             [
              1,
              "#f0f921"
             ]
            ],
            "type": "heatmap"
           }
          ],
          "heatmapgl": [
           {
            "colorbar": {
             "outlinewidth": 0,
             "ticks": ""
            },
            "colorscale": [
             [
              0,
              "#0d0887"
             ],
             [
              0.1111111111111111,
              "#46039f"
             ],
             [
              0.2222222222222222,
              "#7201a8"
             ],
             [
              0.3333333333333333,
              "#9c179e"
             ],
             [
              0.4444444444444444,
              "#bd3786"
             ],
             [
              0.5555555555555556,
              "#d8576b"
             ],
             [
              0.6666666666666666,
              "#ed7953"
             ],
             [
              0.7777777777777778,
              "#fb9f3a"
             ],
             [
              0.8888888888888888,
              "#fdca26"
             ],
             [
              1,
              "#f0f921"
             ]
            ],
            "type": "heatmapgl"
           }
          ],
          "histogram": [
           {
            "marker": {
             "pattern": {
              "fillmode": "overlay",
              "size": 10,
              "solidity": 0.2
             }
            },
            "type": "histogram"
           }
          ],
          "histogram2d": [
           {
            "colorbar": {
             "outlinewidth": 0,
             "ticks": ""
            },
            "colorscale": [
             [
              0,
              "#0d0887"
             ],
             [
              0.1111111111111111,
              "#46039f"
             ],
             [
              0.2222222222222222,
              "#7201a8"
             ],
             [
              0.3333333333333333,
              "#9c179e"
             ],
             [
              0.4444444444444444,
              "#bd3786"
             ],
             [
              0.5555555555555556,
              "#d8576b"
             ],
             [
              0.6666666666666666,
              "#ed7953"
             ],
             [
              0.7777777777777778,
              "#fb9f3a"
             ],
             [
              0.8888888888888888,
              "#fdca26"
             ],
             [
              1,
              "#f0f921"
             ]
            ],
            "type": "histogram2d"
           }
          ],
          "histogram2dcontour": [
           {
            "colorbar": {
             "outlinewidth": 0,
             "ticks": ""
            },
            "colorscale": [
             [
              0,
              "#0d0887"
             ],
             [
              0.1111111111111111,
              "#46039f"
             ],
             [
              0.2222222222222222,
              "#7201a8"
             ],
             [
              0.3333333333333333,
              "#9c179e"
             ],
             [
              0.4444444444444444,
              "#bd3786"
             ],
             [
              0.5555555555555556,
              "#d8576b"
             ],
             [
              0.6666666666666666,
              "#ed7953"
             ],
             [
              0.7777777777777778,
              "#fb9f3a"
             ],
             [
              0.8888888888888888,
              "#fdca26"
             ],
             [
              1,
              "#f0f921"
             ]
            ],
            "type": "histogram2dcontour"
           }
          ],
          "mesh3d": [
           {
            "colorbar": {
             "outlinewidth": 0,
             "ticks": ""
            },
            "type": "mesh3d"
           }
          ],
          "parcoords": [
           {
            "line": {
             "colorbar": {
              "outlinewidth": 0,
              "ticks": ""
             }
            },
            "type": "parcoords"
           }
          ],
          "pie": [
           {
            "automargin": true,
            "type": "pie"
           }
          ],
          "scatter": [
           {
            "fillpattern": {
             "fillmode": "overlay",
             "size": 10,
             "solidity": 0.2
            },
            "type": "scatter"
           }
          ],
          "scatter3d": [
           {
            "line": {
             "colorbar": {
              "outlinewidth": 0,
              "ticks": ""
             }
            },
            "marker": {
             "colorbar": {
              "outlinewidth": 0,
              "ticks": ""
             }
            },
            "type": "scatter3d"
           }
          ],
          "scattercarpet": [
           {
            "marker": {
             "colorbar": {
              "outlinewidth": 0,
              "ticks": ""
             }
            },
            "type": "scattercarpet"
           }
          ],
          "scattergeo": [
           {
            "marker": {
             "colorbar": {
              "outlinewidth": 0,
              "ticks": ""
             }
            },
            "type": "scattergeo"
           }
          ],
          "scattergl": [
           {
            "marker": {
             "colorbar": {
              "outlinewidth": 0,
              "ticks": ""
             }
            },
            "type": "scattergl"
           }
          ],
          "scattermapbox": [
           {
            "marker": {
             "colorbar": {
              "outlinewidth": 0,
              "ticks": ""
             }
            },
            "type": "scattermapbox"
           }
          ],
          "scatterpolar": [
           {
            "marker": {
             "colorbar": {
              "outlinewidth": 0,
              "ticks": ""
             }
            },
            "type": "scatterpolar"
           }
          ],
          "scatterpolargl": [
           {
            "marker": {
             "colorbar": {
              "outlinewidth": 0,
              "ticks": ""
             }
            },
            "type": "scatterpolargl"
           }
          ],
          "scatterternary": [
           {
            "marker": {
             "colorbar": {
              "outlinewidth": 0,
              "ticks": ""
             }
            },
            "type": "scatterternary"
           }
          ],
          "surface": [
           {
            "colorbar": {
             "outlinewidth": 0,
             "ticks": ""
            },
            "colorscale": [
             [
              0,
              "#0d0887"
             ],
             [
              0.1111111111111111,
              "#46039f"
             ],
             [
              0.2222222222222222,
              "#7201a8"
             ],
             [
              0.3333333333333333,
              "#9c179e"
             ],
             [
              0.4444444444444444,
              "#bd3786"
             ],
             [
              0.5555555555555556,
              "#d8576b"
             ],
             [
              0.6666666666666666,
              "#ed7953"
             ],
             [
              0.7777777777777778,
              "#fb9f3a"
             ],
             [
              0.8888888888888888,
              "#fdca26"
             ],
             [
              1,
              "#f0f921"
             ]
            ],
            "type": "surface"
           }
          ],
          "table": [
           {
            "cells": {
             "fill": {
              "color": "#EBF0F8"
             },
             "line": {
              "color": "white"
             }
            },
            "header": {
             "fill": {
              "color": "#C8D4E3"
             },
             "line": {
              "color": "white"
             }
            },
            "type": "table"
           }
          ]
         },
         "layout": {
          "annotationdefaults": {
           "arrowcolor": "#2a3f5f",
           "arrowhead": 0,
           "arrowwidth": 1
          },
          "autotypenumbers": "strict",
          "coloraxis": {
           "colorbar": {
            "outlinewidth": 0,
            "ticks": ""
           }
          },
          "colorscale": {
           "diverging": [
            [
             0,
             "#8e0152"
            ],
            [
             0.1,
             "#c51b7d"
            ],
            [
             0.2,
             "#de77ae"
            ],
            [
             0.3,
             "#f1b6da"
            ],
            [
             0.4,
             "#fde0ef"
            ],
            [
             0.5,
             "#f7f7f7"
            ],
            [
             0.6,
             "#e6f5d0"
            ],
            [
             0.7,
             "#b8e186"
            ],
            [
             0.8,
             "#7fbc41"
            ],
            [
             0.9,
             "#4d9221"
            ],
            [
             1,
             "#276419"
            ]
           ],
           "sequential": [
            [
             0,
             "#0d0887"
            ],
            [
             0.1111111111111111,
             "#46039f"
            ],
            [
             0.2222222222222222,
             "#7201a8"
            ],
            [
             0.3333333333333333,
             "#9c179e"
            ],
            [
             0.4444444444444444,
             "#bd3786"
            ],
            [
             0.5555555555555556,
             "#d8576b"
            ],
            [
             0.6666666666666666,
             "#ed7953"
            ],
            [
             0.7777777777777778,
             "#fb9f3a"
            ],
            [
             0.8888888888888888,
             "#fdca26"
            ],
            [
             1,
             "#f0f921"
            ]
           ],
           "sequentialminus": [
            [
             0,
             "#0d0887"
            ],
            [
             0.1111111111111111,
             "#46039f"
            ],
            [
             0.2222222222222222,
             "#7201a8"
            ],
            [
             0.3333333333333333,
             "#9c179e"
            ],
            [
             0.4444444444444444,
             "#bd3786"
            ],
            [
             0.5555555555555556,
             "#d8576b"
            ],
            [
             0.6666666666666666,
             "#ed7953"
            ],
            [
             0.7777777777777778,
             "#fb9f3a"
            ],
            [
             0.8888888888888888,
             "#fdca26"
            ],
            [
             1,
             "#f0f921"
            ]
           ]
          },
          "colorway": [
           "#636efa",
           "#EF553B",
           "#00cc96",
           "#ab63fa",
           "#FFA15A",
           "#19d3f3",
           "#FF6692",
           "#B6E880",
           "#FF97FF",
           "#FECB52"
          ],
          "font": {
           "color": "#2a3f5f"
          },
          "geo": {
           "bgcolor": "white",
           "lakecolor": "white",
           "landcolor": "#E5ECF6",
           "showlakes": true,
           "showland": true,
           "subunitcolor": "white"
          },
          "hoverlabel": {
           "align": "left"
          },
          "hovermode": "closest",
          "mapbox": {
           "style": "light"
          },
          "paper_bgcolor": "white",
          "plot_bgcolor": "#E5ECF6",
          "polar": {
           "angularaxis": {
            "gridcolor": "white",
            "linecolor": "white",
            "ticks": ""
           },
           "bgcolor": "#E5ECF6",
           "radialaxis": {
            "gridcolor": "white",
            "linecolor": "white",
            "ticks": ""
           }
          },
          "scene": {
           "xaxis": {
            "backgroundcolor": "#E5ECF6",
            "gridcolor": "white",
            "gridwidth": 2,
            "linecolor": "white",
            "showbackground": true,
            "ticks": "",
            "zerolinecolor": "white"
           },
           "yaxis": {
            "backgroundcolor": "#E5ECF6",
            "gridcolor": "white",
            "gridwidth": 2,
            "linecolor": "white",
            "showbackground": true,
            "ticks": "",
            "zerolinecolor": "white"
           },
           "zaxis": {
            "backgroundcolor": "#E5ECF6",
            "gridcolor": "white",
            "gridwidth": 2,
            "linecolor": "white",
            "showbackground": true,
            "ticks": "",
            "zerolinecolor": "white"
           }
          },
          "shapedefaults": {
           "line": {
            "color": "#2a3f5f"
           }
          },
          "ternary": {
           "aaxis": {
            "gridcolor": "white",
            "linecolor": "white",
            "ticks": ""
           },
           "baxis": {
            "gridcolor": "white",
            "linecolor": "white",
            "ticks": ""
           },
           "bgcolor": "#E5ECF6",
           "caxis": {
            "gridcolor": "white",
            "linecolor": "white",
            "ticks": ""
           }
          },
          "title": {
           "x": 0.05
          },
          "xaxis": {
           "automargin": true,
           "gridcolor": "white",
           "linecolor": "white",
           "ticks": "",
           "title": {
            "standoff": 15
           },
           "zerolinecolor": "white",
           "zerolinewidth": 2
          },
          "yaxis": {
           "automargin": true,
           "gridcolor": "white",
           "linecolor": "white",
           "ticks": "",
           "title": {
            "standoff": 15
           },
           "zerolinecolor": "white",
           "zerolinewidth": 2
          }
         }
        },
        "xaxis": {
         "anchor": "y",
         "domain": [
          0,
          1
         ],
         "title": {
          "text": "學校名稱"
         }
        },
        "yaxis": {
         "anchor": "x",
         "domain": [
          0,
          1
         ],
         "title": {
          "text": "核定經費(單位：元)"
         }
        }
       }
      },
      "text/html": [
       "<div>                            <div id=\"3054d2a5-83f7-476e-8463-bf66734a2ec6\" class=\"plotly-graph-div\" style=\"height:525px; width:100%;\"></div>            <script type=\"text/javascript\">                require([\"plotly\"], function(Plotly) {                    window.PLOTLYENV=window.PLOTLYENV || {};                                    if (document.getElementById(\"3054d2a5-83f7-476e-8463-bf66734a2ec6\")) {                    Plotly.newPlot(                        \"3054d2a5-83f7-476e-8463-bf66734a2ec6\",                        [{\"alignmentgroup\":\"True\",\"hovertemplate\":\"\\u985e\\u5225=\\u4e00\\u822c\\u5927\\u5b78<br>\\u5b78\\u6821\\u540d\\u7a31=%{x}<br>\\u6838\\u5b9a\\u7d93\\u8cbb(\\u55ae\\u4f4d\\uff1a\\u5143)=%{y}<extra></extra>\",\"legendgroup\":\"\\u4e00\\u822c\\u5927\\u5b78\",\"marker\":{\"color\":\"#636efa\",\"pattern\":{\"shape\":\"\"}},\"name\":\"\\u4e00\\u822c\\u5927\\u5b78\",\"offsetgroup\":\"\\u4e00\\u822c\\u5927\\u5b78\",\"orientation\":\"v\",\"showlegend\":true,\"textposition\":\"auto\",\"x\":[\"\\u4e00\\u8cab\\u9053\\u5929\\u7687\\u5b78\\u9662\",\"\\u4e16\\u65b0\\u5927\\u5b78\",\"\\u4e2d\\u4fe1\\u91d1\\u878d\\u7ba1\\u7406\\u5b78\\u9662\",\"\\u4e2d\\u539f\\u5927\\u5b78\",\"\\u4e2d\\u570b\\u6587\\u5316\\u5927\\u5b78\",\"\\u4e2d\\u570b\\u91ab\\u85e5\\u5927\\u5b78\",\"\\u4e2d\\u5c71\\u91ab\\u5b78\\u5927\\u5b78\",\"\\u4e2d\\u83ef\\u5927\\u5b78\",\"\\u4e9e\\u6d32\\u5927\\u5b78\",\"\\u4f5b\\u5149\\u5927\\u5b78\",\"\\u5143\\u667a\\u5927\\u5b78\",\"\\u5357\\u83ef\\u5927\\u5b78\",\"\\u53f0\\u7063\\u9996\\u5e9c\\u5927\\u5b78\",\"\\u5927\\u540c\\u5927\\u5b78\",\"\\u5927\\u8449\\u5927\\u5b78\",\"\\u5be6\\u8e10\\u5927\\u5b78\",\"\\u5eb7\\u5be7\\u5927\\u5b78\",\"\\u6148\\u6fdf\\u5927\\u5b78\",\"\\u660e\\u9053\\u5927\\u5b78\",\"\\u6771\\u5433\\u5927\\u5b78\",\"\\u6771\\u6d77\\u5927\\u5b78\",\"\\u6cd5\\u9f13\\u6587\\u7406\\u5b78\\u9662\",\"\\u6de1\\u6c5f\\u5927\\u5b78\",\"\\u7384\\u5958\\u5927\\u5b78\",\"\\u771f\\u7406\\u5927\\u5b78\",\"\\u7a3b\\u6c5f\\u79d1\\u6280\\u66a8\\u7ba1\\u7406\\u5b78\\u9662\",\"\\u7fa9\\u5b88\\u5927\\u5b78\",\"\\u81fa\\u5317\\u5e02\\u7acb\\u5927\\u5b78\",\"\\u81fa\\u5317\\u91ab\\u5b78\\u5927\\u5b78\",\"\\u83ef\\u68b5\\u5927\\u5b78\",\"\\u8f14\\u4ec1\\u5927\\u5b78\",\"\\u9022\\u7532\\u5927\\u5b78\",\"\\u9298\\u50b3\\u5927\\u5b78\",\"\\u9577\\u5e9a\\u5927\\u5b78\",\"\\u9577\\u69ae\\u5927\\u5b78\",\"\\u958b\\u5357\\u5927\\u5b78\",\"\\u975c\\u5b9c\\u5927\\u5b78\",\"\\u99ac\\u5055\\u91ab\\u5b78\\u9662\",\"\\u9ad8\\u96c4\\u91ab\\u5b78\\u5927\\u5b78\"],\"xaxis\":\"x\",\"y\":[14391000,244019801,62233063,566128253,278397368,796775969,237875976,195291248,250520697,185621465,379034709,237014986,37342074,168609120,257017189,263236021,28551028,221779507,35247641,368307143,483051852,9841658,361051434,133113024,75278385,3636000,327832651,192042676,1073771053,115509642,353257047,587330551,296238125,661368507,228211623,72101661,363580532,160733231,492047407],\"yaxis\":\"y\",\"type\":\"bar\"},{\"alignmentgroup\":\"True\",\"hovertemplate\":\"\\u985e\\u5225=\\u6280\\u5c08\\u6821\\u9662<br>\\u5b78\\u6821\\u540d\\u7a31=%{x}<br>\\u6838\\u5b9a\\u7d93\\u8cbb(\\u55ae\\u4f4d\\uff1a\\u5143)=%{y}<extra></extra>\",\"legendgroup\":\"\\u6280\\u5c08\\u6821\\u9662\",\"marker\":{\"color\":\"#EF553B\",\"pattern\":{\"shape\":\"\"}},\"name\":\"\\u6280\\u5c08\\u6821\\u9662\",\"offsetgroup\":\"\\u6280\\u5c08\\u6821\\u9662\",\"orientation\":\"v\",\"showlegend\":true,\"textposition\":\"auto\",\"x\":[\"\\u4e2d\\u570b\\u79d1\\u6280\\u5927\\u5b78\",\"\\u4e2d\\u5dde\\u79d1\\u6280\\u5927\\u5b78\",\"\\u4e2d\\u81fa\\u79d1\\u6280\\u5927\\u5b78\",\"\\u4e2d\\u83ef\\u79d1\\u6280\\u5927\\u5b78\",\"\\u4e2d\\u83ef\\u91ab\\u4e8b\\u79d1\\u6280\\u5927\\u5b78\",\"\\u4e9e\\u592a\\u5275\\u610f\\u6280\\u8853\\u5b78\\u9662\",\"\\u4e9e\\u6771\\u6280\\u8853\\u5b78\\u9662\",\"\\u4ec1\\u5fb7\\u91ab\\u8b77\\u7ba1\\u7406\\u5c08\\u79d1\\u5b78\\u6821\",\"\\u4fee\\u5e73\\u79d1\\u6280\\u5927\\u5b78\",\"\\u5065\\u884c\\u79d1\\u6280\\u5927\\u5b78\",\"\\u50d1\\u5149\\u79d1\\u6280\\u5927\\u5b78\",\"\\u5143\\u57f9\\u91ab\\u4e8b\\u79d1\\u6280\\u5927\\u5b78\",\"\\u5357\\u4e9e\\u6280\\u8853\\u5b78\\u9662\",\"\\u5357\\u69ae\\u79d1\\u6280\\u5927\\u5b78\",\"\\u5357\\u81fa\\u79d1\\u6280\\u5927\\u5b78\",\"\\u5357\\u958b\\u79d1\\u6280\\u5927\\u5b78\",\"\\u53f0\\u5317\\u6d77\\u6d0b\\u79d1\\u6280\\u5927\\u5b78\",\"\\u53f0\\u5357\\u61c9\\u7528\\u79d1\\u6280\\u5927\\u5b78\",\"\\u5433\\u9cf3\\u79d1\\u6280\\u5927\\u5b78\",\"\\u548c\\u6625\\u6280\\u8853\\u5b78\\u9662\",\"\\u5609\\u5357\\u85e5\\u7406\\u5927\\u5b78\",\"\\u5927\\u4ec1\\u79d1\\u6280\\u5927\\u5b78\",\"\\u5927\\u540c\\u6280\\u8853\\u5b78\\u9662\",\"\\u5927\\u6f22\\u6280\\u8853\\u5b78\\u9662\",\"\\u5927\\u83ef\\u79d1\\u6280\\u5927\\u5b78\",\"\\u5b8f\\u570b\\u5fb7\\u9716\\u79d1\\u6280\\u5927\\u5b78\",\"\\u5d07\\u4ec1\\u91ab\\u8b77\\u7ba1\\u7406\\u5c08\\u79d1\\u5b78\\u6821\",\"\\u5d07\\u53f3\\u5f71\\u85dd\\u79d1\\u6280\\u5927\\u5b78\",\"\\u5d11\\u5c71\\u79d1\\u6280\\u5927\\u5b78\",\"\\u5dba\\u6771\\u79d1\\u6280\\u5927\\u5b78\",\"\\u5efa\\u570b\\u79d1\\u6280\\u5927\\u5b78\",\"\\u5f18\\u5149\\u79d1\\u6280\\u5927\\u5b78\",\"\\u5fb7\\u660e\\u8ca1\\u7d93\\u79d1\\u6280\\u5927\\u5b78\",\"\\u6148\\u60e0\\u91ab\\u8b77\\u7ba1\\u7406\\u5c08\\u79d1\\u5b78\\u6821\",\"\\u6148\\u6fdf\\u79d1\\u6280\\u5927\\u5b78\",\"\\u654f\\u5be6\\u79d1\\u6280\\u5927\\u5b78\",\"\\u654f\\u60e0\\u91ab\\u8b77\\u7ba1\\u7406\\u5c08\\u79d1\\u5b78\\u6821\",\"\\u6587\\u85fb\\u5916\\u8a9e\\u5927\\u5b78\",\"\\u65b0\\u751f\\u91ab\\u8b77\\u7ba1\\u7406\\u5c08\\u79d1\\u5b78\\u6821\",\"\\u660e\\u5fd7\\u79d1\\u6280\\u5927\\u5b78\",\"\\u660e\\u65b0\\u79d1\\u6280\\u5927\\u5b78\",\"\\u666f\\u6587\\u79d1\\u6280\\u5927\\u5b78\",\"\\u671d\\u967d\\u79d1\\u6280\\u5927\\u5b78\",\"\\u6771\\u5357\\u79d1\\u6280\\u5927\\u5b78\",\"\\u6771\\u65b9\\u8a2d\\u8a08\\u5927\\u5b78\",\"\\u6a39\\u4eba\\u91ab\\u8b77\\u7ba1\\u7406\\u5c08\\u79d1\\u5b78\\u6821\",\"\\u6a39\\u5fb7\\u79d1\\u6280\\u5927\\u5b78\",\"\\u6b63\\u4fee\\u79d1\\u6280\\u5927\\u5b78\",\"\\u74b0\\u7403\\u79d1\\u6280\\u5927\\u5b78\",\"\\u7d93\\u570b\\u7ba1\\u7406\\u66a8\\u5065\\u5eb7\\u5b78\\u9662\",\"\\u7f8e\\u548c\\u79d1\\u6280\\u5927\\u5b78\",\"\\u8015\\u8398\\u5065\\u5eb7\\u7ba1\\u7406\\u5c08\\u79d1\\u5b78\\u6821\",\"\\u8056\\u6bcd\\u91ab\\u8b77\\u7ba1\\u7406\\u5c08\\u79d1\\u5b78\\u6821\",\"\\u8056\\u7d04\\u7ff0\\u79d1\\u6280\\u5927\\u5b78\",\"\\u80b2\\u82f1\\u91ab\\u8b77\\u7ba1\\u7406\\u5c08\\u79d1\\u5b78\\u6821\",\"\\u80b2\\u9054\\u79d1\\u6280\\u5927\\u5b78\",\"\\u81f4\\u7406\\u79d1\\u6280\\u5927\\u5b78\",\"\\u81fa\\u5317\\u57ce\\u5e02\\u79d1\\u6280\\u5927\\u5b78\",\"\\u81fa\\u7063\\u89c0\\u5149\\u5b78\\u9662\",\"\\u83ef\\u590f\\u79d1\\u6280\\u5927\\u5b78\",\"\\u842c\\u80fd\\u79d1\\u6280\\u5927\\u5b78\",\"\\u862d\\u967d\\u6280\\u8853\\u5b78\\u9662\",\"\\u8f14\\u82f1\\u79d1\\u6280\\u5927\\u5b78\",\"\\u9060\\u6771\\u79d1\\u6280\\u5927\\u5b78\",\"\\u9192\\u543e\\u79d1\\u6280\\u5927\\u5b78\",\"\\u9577\\u5e9a\\u79d1\\u6280\\u5927\\u5b78\",\"\\u99ac\\u5055\\u91ab\\u8b77\\u7ba1\\u7406\\u5c08\\u79d1\\u5b78\\u6821\",\"\\u9ad8\\u7f8e\\u91ab\\u8b77\\u7ba1\\u7406\\u5c08\\u79d1\\u5b78\\u6821\",\"\\u9ad8\\u82d1\\u79d1\\u6280\\u5927\\u5b78\",\"\\u9ece\\u660e\\u6280\\u8853\\u5b78\\u9662\",\"\\u9f8d\\u83ef\\u79d1\\u6280\\u5927\\u5b78\"],\"xaxis\":\"x\",\"y\":[292400000,41897600,183670155,114099334,168455990,1606772,91148500,91942166,185144649,196109577,105044631,146739988,47891000,9660000,680196196,134513958,112015285,153777643,113645158,8000000,339812120,132834675,27031040,25252676,20008600,79878224,56339570,41599155,749494846,195909211,88648982,463127766,172719208,76310602,189835656,6972600,47121063,245020893,82626944,373902862,206974300,181857916,262025473,87713000,44651389,101276000,312387459,731439000,54860865,47970000,147092167,115151340,39472632,68726769,41782024,42867994,302045828,109980000,1050000,98383068,93096286,15486018,158803806,303885507,268155502,244380234,79890000,0,94326823,68546073,467826224],\"yaxis\":\"y\",\"type\":\"bar\"}],                        {\"template\":{\"data\":{\"histogram2dcontour\":[{\"type\":\"histogram2dcontour\",\"colorbar\":{\"outlinewidth\":0,\"ticks\":\"\"},\"colorscale\":[[0.0,\"#0d0887\"],[0.1111111111111111,\"#46039f\"],[0.2222222222222222,\"#7201a8\"],[0.3333333333333333,\"#9c179e\"],[0.4444444444444444,\"#bd3786\"],[0.5555555555555556,\"#d8576b\"],[0.6666666666666666,\"#ed7953\"],[0.7777777777777778,\"#fb9f3a\"],[0.8888888888888888,\"#fdca26\"],[1.0,\"#f0f921\"]]}],\"choropleth\":[{\"type\":\"choropleth\",\"colorbar\":{\"outlinewidth\":0,\"ticks\":\"\"}}],\"histogram2d\":[{\"type\":\"histogram2d\",\"colorbar\":{\"outlinewidth\":0,\"ticks\":\"\"},\"colorscale\":[[0.0,\"#0d0887\"],[0.1111111111111111,\"#46039f\"],[0.2222222222222222,\"#7201a8\"],[0.3333333333333333,\"#9c179e\"],[0.4444444444444444,\"#bd3786\"],[0.5555555555555556,\"#d8576b\"],[0.6666666666666666,\"#ed7953\"],[0.7777777777777778,\"#fb9f3a\"],[0.8888888888888888,\"#fdca26\"],[1.0,\"#f0f921\"]]}],\"heatmap\":[{\"type\":\"heatmap\",\"colorbar\":{\"outlinewidth\":0,\"ticks\":\"\"},\"colorscale\":[[0.0,\"#0d0887\"],[0.1111111111111111,\"#46039f\"],[0.2222222222222222,\"#7201a8\"],[0.3333333333333333,\"#9c179e\"],[0.4444444444444444,\"#bd3786\"],[0.5555555555555556,\"#d8576b\"],[0.6666666666666666,\"#ed7953\"],[0.7777777777777778,\"#fb9f3a\"],[0.8888888888888888,\"#fdca26\"],[1.0,\"#f0f921\"]]}],\"heatmapgl\":[{\"type\":\"heatmapgl\",\"colorbar\":{\"outlinewidth\":0,\"ticks\":\"\"},\"colorscale\":[[0.0,\"#0d0887\"],[0.1111111111111111,\"#46039f\"],[0.2222222222222222,\"#7201a8\"],[0.3333333333333333,\"#9c179e\"],[0.4444444444444444,\"#bd3786\"],[0.5555555555555556,\"#d8576b\"],[0.6666666666666666,\"#ed7953\"],[0.7777777777777778,\"#fb9f3a\"],[0.8888888888888888,\"#fdca26\"],[1.0,\"#f0f921\"]]}],\"contourcarpet\":[{\"type\":\"contourcarpet\",\"colorbar\":{\"outlinewidth\":0,\"ticks\":\"\"}}],\"contour\":[{\"type\":\"contour\",\"colorbar\":{\"outlinewidth\":0,\"ticks\":\"\"},\"colorscale\":[[0.0,\"#0d0887\"],[0.1111111111111111,\"#46039f\"],[0.2222222222222222,\"#7201a8\"],[0.3333333333333333,\"#9c179e\"],[0.4444444444444444,\"#bd3786\"],[0.5555555555555556,\"#d8576b\"],[0.6666666666666666,\"#ed7953\"],[0.7777777777777778,\"#fb9f3a\"],[0.8888888888888888,\"#fdca26\"],[1.0,\"#f0f921\"]]}],\"surface\":[{\"type\":\"surface\",\"colorbar\":{\"outlinewidth\":0,\"ticks\":\"\"},\"colorscale\":[[0.0,\"#0d0887\"],[0.1111111111111111,\"#46039f\"],[0.2222222222222222,\"#7201a8\"],[0.3333333333333333,\"#9c179e\"],[0.4444444444444444,\"#bd3786\"],[0.5555555555555556,\"#d8576b\"],[0.6666666666666666,\"#ed7953\"],[0.7777777777777778,\"#fb9f3a\"],[0.8888888888888888,\"#fdca26\"],[1.0,\"#f0f921\"]]}],\"mesh3d\":[{\"type\":\"mesh3d\",\"colorbar\":{\"outlinewidth\":0,\"ticks\":\"\"}}],\"scatter\":[{\"fillpattern\":{\"fillmode\":\"overlay\",\"size\":10,\"solidity\":0.2},\"type\":\"scatter\"}],\"parcoords\":[{\"type\":\"parcoords\",\"line\":{\"colorbar\":{\"outlinewidth\":0,\"ticks\":\"\"}}}],\"scatterpolargl\":[{\"type\":\"scatterpolargl\",\"marker\":{\"colorbar\":{\"outlinewidth\":0,\"ticks\":\"\"}}}],\"bar\":[{\"error_x\":{\"color\":\"#2a3f5f\"},\"error_y\":{\"color\":\"#2a3f5f\"},\"marker\":{\"line\":{\"color\":\"#E5ECF6\",\"width\":0.5},\"pattern\":{\"fillmode\":\"overlay\",\"size\":10,\"solidity\":0.2}},\"type\":\"bar\"}],\"scattergeo\":[{\"type\":\"scattergeo\",\"marker\":{\"colorbar\":{\"outlinewidth\":0,\"ticks\":\"\"}}}],\"scatterpolar\":[{\"type\":\"scatterpolar\",\"marker\":{\"colorbar\":{\"outlinewidth\":0,\"ticks\":\"\"}}}],\"histogram\":[{\"marker\":{\"pattern\":{\"fillmode\":\"overlay\",\"size\":10,\"solidity\":0.2}},\"type\":\"histogram\"}],\"scattergl\":[{\"type\":\"scattergl\",\"marker\":{\"colorbar\":{\"outlinewidth\":0,\"ticks\":\"\"}}}],\"scatter3d\":[{\"type\":\"scatter3d\",\"line\":{\"colorbar\":{\"outlinewidth\":0,\"ticks\":\"\"}},\"marker\":{\"colorbar\":{\"outlinewidth\":0,\"ticks\":\"\"}}}],\"scattermapbox\":[{\"type\":\"scattermapbox\",\"marker\":{\"colorbar\":{\"outlinewidth\":0,\"ticks\":\"\"}}}],\"scatterternary\":[{\"type\":\"scatterternary\",\"marker\":{\"colorbar\":{\"outlinewidth\":0,\"ticks\":\"\"}}}],\"scattercarpet\":[{\"type\":\"scattercarpet\",\"marker\":{\"colorbar\":{\"outlinewidth\":0,\"ticks\":\"\"}}}],\"carpet\":[{\"aaxis\":{\"endlinecolor\":\"#2a3f5f\",\"gridcolor\":\"white\",\"linecolor\":\"white\",\"minorgridcolor\":\"white\",\"startlinecolor\":\"#2a3f5f\"},\"baxis\":{\"endlinecolor\":\"#2a3f5f\",\"gridcolor\":\"white\",\"linecolor\":\"white\",\"minorgridcolor\":\"white\",\"startlinecolor\":\"#2a3f5f\"},\"type\":\"carpet\"}],\"table\":[{\"cells\":{\"fill\":{\"color\":\"#EBF0F8\"},\"line\":{\"color\":\"white\"}},\"header\":{\"fill\":{\"color\":\"#C8D4E3\"},\"line\":{\"color\":\"white\"}},\"type\":\"table\"}],\"barpolar\":[{\"marker\":{\"line\":{\"color\":\"#E5ECF6\",\"width\":0.5},\"pattern\":{\"fillmode\":\"overlay\",\"size\":10,\"solidity\":0.2}},\"type\":\"barpolar\"}],\"pie\":[{\"automargin\":true,\"type\":\"pie\"}]},\"layout\":{\"autotypenumbers\":\"strict\",\"colorway\":[\"#636efa\",\"#EF553B\",\"#00cc96\",\"#ab63fa\",\"#FFA15A\",\"#19d3f3\",\"#FF6692\",\"#B6E880\",\"#FF97FF\",\"#FECB52\"],\"font\":{\"color\":\"#2a3f5f\"},\"hovermode\":\"closest\",\"hoverlabel\":{\"align\":\"left\"},\"paper_bgcolor\":\"white\",\"plot_bgcolor\":\"#E5ECF6\",\"polar\":{\"bgcolor\":\"#E5ECF6\",\"angularaxis\":{\"gridcolor\":\"white\",\"linecolor\":\"white\",\"ticks\":\"\"},\"radialaxis\":{\"gridcolor\":\"white\",\"linecolor\":\"white\",\"ticks\":\"\"}},\"ternary\":{\"bgcolor\":\"#E5ECF6\",\"aaxis\":{\"gridcolor\":\"white\",\"linecolor\":\"white\",\"ticks\":\"\"},\"baxis\":{\"gridcolor\":\"white\",\"linecolor\":\"white\",\"ticks\":\"\"},\"caxis\":{\"gridcolor\":\"white\",\"linecolor\":\"white\",\"ticks\":\"\"}},\"coloraxis\":{\"colorbar\":{\"outlinewidth\":0,\"ticks\":\"\"}},\"colorscale\":{\"sequential\":[[0.0,\"#0d0887\"],[0.1111111111111111,\"#46039f\"],[0.2222222222222222,\"#7201a8\"],[0.3333333333333333,\"#9c179e\"],[0.4444444444444444,\"#bd3786\"],[0.5555555555555556,\"#d8576b\"],[0.6666666666666666,\"#ed7953\"],[0.7777777777777778,\"#fb9f3a\"],[0.8888888888888888,\"#fdca26\"],[1.0,\"#f0f921\"]],\"sequentialminus\":[[0.0,\"#0d0887\"],[0.1111111111111111,\"#46039f\"],[0.2222222222222222,\"#7201a8\"],[0.3333333333333333,\"#9c179e\"],[0.4444444444444444,\"#bd3786\"],[0.5555555555555556,\"#d8576b\"],[0.6666666666666666,\"#ed7953\"],[0.7777777777777778,\"#fb9f3a\"],[0.8888888888888888,\"#fdca26\"],[1.0,\"#f0f921\"]],\"diverging\":[[0,\"#8e0152\"],[0.1,\"#c51b7d\"],[0.2,\"#de77ae\"],[0.3,\"#f1b6da\"],[0.4,\"#fde0ef\"],[0.5,\"#f7f7f7\"],[0.6,\"#e6f5d0\"],[0.7,\"#b8e186\"],[0.8,\"#7fbc41\"],[0.9,\"#4d9221\"],[1,\"#276419\"]]},\"xaxis\":{\"gridcolor\":\"white\",\"linecolor\":\"white\",\"ticks\":\"\",\"title\":{\"standoff\":15},\"zerolinecolor\":\"white\",\"automargin\":true,\"zerolinewidth\":2},\"yaxis\":{\"gridcolor\":\"white\",\"linecolor\":\"white\",\"ticks\":\"\",\"title\":{\"standoff\":15},\"zerolinecolor\":\"white\",\"automargin\":true,\"zerolinewidth\":2},\"scene\":{\"xaxis\":{\"backgroundcolor\":\"#E5ECF6\",\"gridcolor\":\"white\",\"linecolor\":\"white\",\"showbackground\":true,\"ticks\":\"\",\"zerolinecolor\":\"white\",\"gridwidth\":2},\"yaxis\":{\"backgroundcolor\":\"#E5ECF6\",\"gridcolor\":\"white\",\"linecolor\":\"white\",\"showbackground\":true,\"ticks\":\"\",\"zerolinecolor\":\"white\",\"gridwidth\":2},\"zaxis\":{\"backgroundcolor\":\"#E5ECF6\",\"gridcolor\":\"white\",\"linecolor\":\"white\",\"showbackground\":true,\"ticks\":\"\",\"zerolinecolor\":\"white\",\"gridwidth\":2}},\"shapedefaults\":{\"line\":{\"color\":\"#2a3f5f\"}},\"annotationdefaults\":{\"arrowcolor\":\"#2a3f5f\",\"arrowhead\":0,\"arrowwidth\":1},\"geo\":{\"bgcolor\":\"white\",\"landcolor\":\"#E5ECF6\",\"subunitcolor\":\"white\",\"showland\":true,\"showlakes\":true,\"lakecolor\":\"white\"},\"title\":{\"x\":0.05},\"mapbox\":{\"style\":\"light\"}}},\"xaxis\":{\"anchor\":\"y\",\"domain\":[0.0,1.0],\"title\":{\"text\":\"\\u5b78\\u6821\\u540d\\u7a31\"}},\"yaxis\":{\"anchor\":\"x\",\"domain\":[0.0,1.0],\"title\":{\"text\":\"\\u6838\\u5b9a\\u7d93\\u8cbb(\\u55ae\\u4f4d\\uff1a\\u5143)\"}},\"legend\":{\"title\":{\"text\":\"\\u985e\\u5225\"},\"tracegroupgap\":0},\"margin\":{\"t\":60},\"barmode\":\"relative\"},                        {\"responsive\": true}                    ).then(function(){\n",
       "                            \n",
       "var gd = document.getElementById('3054d2a5-83f7-476e-8463-bf66734a2ec6');\n",
       "var x = new MutationObserver(function (mutations, observer) {{\n",
       "        var display = window.getComputedStyle(gd).display;\n",
       "        if (!display || display === 'none') {{\n",
       "            console.log([gd, 'removed!']);\n",
       "            Plotly.purge(gd);\n",
       "            observer.disconnect();\n",
       "        }}\n",
       "}});\n",
       "\n",
       "// Listen for the removal of the full notebook cells\n",
       "var notebookContainer = gd.closest('#notebook-container');\n",
       "if (notebookContainer) {{\n",
       "    x.observe(notebookContainer, {childList: true});\n",
       "}}\n",
       "\n",
       "// Listen for the clearing of the current output cell\n",
       "var outputEl = gd.closest('.output');\n",
       "if (outputEl) {{\n",
       "    x.observe(outputEl, {childList: true});\n",
       "}}\n",
       "\n",
       "                        })                };                });            </script>        </div>"
      ]
     },
     "metadata": {},
     "output_type": "display_data"
    }
   ],
   "source": [
    "import plotly.express as px\n",
    "fig = px.bar(not_national_universities, x=\"學校名稱\", y=\"核定經費(單位：元)\", color=\"類別\")\n",
    "fig.show()"
   ]
  },
  {
   "cell_type": "code",
   "execution_count": null,
   "id": "b703c9bc",
   "metadata": {},
   "outputs": [],
   "source": []
  }
 ],
 "metadata": {
  "kernelspec": {
   "display_name": "Python 3 (ipykernel)",
   "language": "python",
   "name": "python3"
  },
  "language_info": {
   "codemirror_mode": {
    "name": "ipython",
    "version": 3
   },
   "file_extension": ".py",
   "mimetype": "text/x-python",
   "name": "python",
   "nbconvert_exporter": "python",
   "pygments_lexer": "ipython3",
   "version": "3.9.13"
  }
 },
 "nbformat": 4,
 "nbformat_minor": 5
}
